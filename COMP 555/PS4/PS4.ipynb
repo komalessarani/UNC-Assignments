{
 "cells": [
  {
   "cell_type": "markdown",
   "metadata": {
    "section": "header"
   },
   "source": [
    "---\n",
    "<div style=\"text-align: center;\">\n",
    "<h1>The University of North Carolina at Chapel Hill</h1>\n",
    "<h1>Comp 555 BioAlgorithms - Spring 2020</h1>\n",
    "<h1 style=\"font-size: 250%;\">Problem Set #4</h1>\n",
    "<h1>Issued Tuesday, 3/24/2020; Due Tuesday, 4/7/2020</h1>\n",
    "</div>\n",
    "\n",
    "**Homework Information:** Some of the problems are probably too long to be done the night before the due date, so plan accordingly. Late problem sets will be penalized by a factor of 70.71% for up to two class meetings after the due date. Feel free to get help from others, but **the work you submit in should be your own.**\n",
    "\n",
    "**Warning:** This notebook has been annotated with metadata so that it can be uploaded to the grading system. It is very important that you enter your answers in the provided cells. You can add extra cells to explore approaches, but only the provided cell can and will be graded. Thus, if you delete a cell and add a replacement, there is a possiblity that your problem will not be graded. If you ever need to start over, you should download a new version of the problem set and transfer your solutions to it."
   ]
  },
  {
   "cell_type": "code",
   "execution_count": 1,
   "metadata": {
    "section": "signature"
   },
   "outputs": [],
   "source": [
    "# Replace the following string values with the requested information\n",
    "class Student:\n",
    "    first = \"Komal\"\n",
    "    last = \"Essarani\"\n",
    "    onyen = \"kessara0\"\n",
    "    pid = \"730235611\""
   ]
  },
  {
   "cell_type": "markdown",
   "metadata": {
    "number": 1,
    "section": "problem"
   },
   "source": [
    "---\n",
    "**Problem #1:** Find the longest common subsequence (LCS) between the first 100 bases and the second 100 bases of the Coronavirus genome [<a href=\"https://csbio.unc.edu/mcmillan/Comp555S20/data/COVID19.fa\" download=\"COVID19.fa\">SARS-CoV-2</a>]. Report both the length of the LCS as well as the subsequence. Do not include the *+* sign at the start of the genome."
   ]
  },
  {
   "cell_type": "code",
   "execution_count": 2,
   "metadata": {},
   "outputs": [],
   "source": [
    "from numpy import * \n",
    "\n",
    "def loadFasta(filename):\n",
    "    \"\"\" Parses a classically formatted and possibly \n",
    "        compressed FASTA file into two lists. One of \n",
    "        headers and a second list of sequences.\n",
    "        The ith index of each list correspond.\"\"\"\n",
    "    if (filename.endswith(\".gz\")):\n",
    "        fp = gzip.open(filename, 'r')\n",
    "    else:\n",
    "        fp = open(filename, 'r')\n",
    "    # split at headers\n",
    "    data = fp.read().split('>')\n",
    "    fp.close()\n",
    "    # ignore whatever appears before the 1st header\n",
    "    data.pop(0)     \n",
    "    headers = []\n",
    "    sequences = []\n",
    "    for sequence in data:\n",
    "        lines = sequence.split('\\n')\n",
    "        headers.append(lines.pop(0))\n",
    "        # add an extra \"+\" to make string \"1-referenced\"\n",
    "        sequences.append('+' + ''.join(lines))\n",
    "    return (headers, sequences)"
   ]
  },
  {
   "cell_type": "code",
   "execution_count": 3,
   "metadata": {},
   "outputs": [
    {
     "name": "stdout",
     "output_type": "stream",
     "text": [
      "length of LCS: 64\n",
      "LCS: GGTTTTACCTCCCAGTAAAAAAACAATTACTGTCGTTCAAACGAACTTTATCTTTGGCTGCACT\n"
     ]
    }
   ],
   "source": [
    "header, sequence = loadFasta(\"COVID19.fa\")\n",
    "sequence = sequence[0][1:]\n",
    "first100 = sequence[0:100]\n",
    "second100 = sequence[100:200]\n",
    "\n",
    "def findLCS(v, w):\n",
    "    score = zeros((len(v)+1,len(w)+1), dtype=\"int32\")\n",
    "    backt = zeros((len(v)+1,len(w)+1), dtype=\"int32\")\n",
    "    for i in range(1,len(v)+1):\n",
    "        for j in range(1,len(w)+1):\n",
    "            # find best score at each vertex\n",
    "            if (v[i-1] == w[j-1]):  # test for a match (\"diagonal street\")\n",
    "                score[i,j], backt[i,j] = max((score[i-1,j-1]+1,3), (score[i-1,j],1), (score[i,j-1],2))\n",
    "            else:\n",
    "                score[i,j], backt[i,j] = max((score[i-1,j],1), (score[i,j-1],2))\n",
    "    return score, backt\n",
    "\n",
    "score, backtrace = findLCS(first100, second100)\n",
    "\n",
    "def LCS(b,v,i,j):\n",
    "    if ((i == 0) and (j == 0)):\n",
    "        return ''\n",
    "    elif (b[i,j] == 3):\n",
    "        return LCS(b,v,i-1,j-1) + v[i-1]\n",
    "    elif (b[i,j] == 2):\n",
    "        return LCS(b,v,i,j-1)\n",
    "    else:\n",
    "        return LCS(b,v,i-1,j)\n",
    "    \n",
    "lcs = LCS(backtrace,first100,backtrace.shape[0]-1,backtrace.shape[1]-1)\n",
    "        \n",
    "print(\"length of LCS:\", len(lcs)) \n",
    "print(\"LCS:\", lcs)"
   ]
  },
  {
   "cell_type": "raw",
   "metadata": {
    "number": 1,
    "section": "answer"
   },
   "source": [
    "length of LCS: 64\n",
    "LCS: GGTTTTACCTCCCAGTAAAAAAACAATTACTGTCGTTCAAACGAACTTTATCTTTGGCTGCACT"
   ]
  },
  {
   "cell_type": "markdown",
   "metadata": {
    "number": 2,
    "section": "problem"
   },
   "source": [
    "---\n",
    "**Problem #2:** Find the best *local alignment* **score** between the first 100 bases and the second 100 bases of he Coronavirus genome [<a href=\"https://csbio.unc.edu/mcmillan/Comp555S20/data/COVID19.fa\" download=\"COVID19.fa\">SARS-CoV-2</a>] (again ignoring the initial '+'). Assume the following alignment scoring:\n",
    "\n",
    "* +1 for a match\n",
    "* -1 for a mismatch\n",
    "* -2 for an indel"
   ]
  },
  {
   "cell_type": "code",
   "execution_count": 4,
   "metadata": {},
   "outputs": [
    {
     "name": "stdout",
     "output_type": "stream",
     "text": [
      "(56, 88) 7\n"
     ]
    }
   ],
   "source": [
    "import numpy\n",
    "\n",
    "def LocalAlign(v, w, scorematrix, indel):\n",
    "    s = numpy.zeros((len(v)+1,len(w)+1), dtype=\"int32\")\n",
    "    b = numpy.zeros((len(v)+1,len(w)+1), dtype=\"int32\")\n",
    "    for i in range(1,len(v)+1):\n",
    "        for j in range(1,len(w)+1):\n",
    "            if (j == 0):\n",
    "                if (i > 0):\n",
    "                    s[i,j] = max(s[i-1,j] + indel, 0)\n",
    "                    b[i,j] = 1\n",
    "                continue\n",
    "            if (i == 0):\n",
    "                s[i,j] = max(s[i,j-1] + indel, 0)\n",
    "                b[i,j] = 2\n",
    "                continue\n",
    "            score = s[i-1,j-1] + scorematrix[v[i-1],w[j-1]]\n",
    "            vskip = s[i-1,j] + indel\n",
    "            wskip = s[i,j-1] + indel\n",
    "            s[i,j] = max(vskip, wskip, score, 0)\n",
    "            if (s[i,j] == vskip):\n",
    "                b[i,j] = 1\n",
    "            elif (s[i,j] == wskip):\n",
    "                b[i,j] = 2\n",
    "            elif (s[i,j] == score):\n",
    "                b[i,j] = 3\n",
    "            else:\n",
    "                b[i,j] = 0\n",
    "    return (s, b)\n",
    "\n",
    "match = {('A','A'):  1, ('A','C'): -1, ('A','G'): -1, ('A','T'): -1,\n",
    "         ('C','A'): -1, ('C','C'):  1, ('C','G'): -1, ('C','T'): -1,\n",
    "         ('G','A'): -1, ('G','C'): -1, ('G','G'):  1, ('G','T'): -1,\n",
    "         ('T','A'): -1, ('T','C'): -1, ('T','G'): -1, ('T','T'):  1}\n",
    "\n",
    "s, b = LocalAlign(first100,second100,match,-2)\n",
    "maxij = numpy.unravel_index(numpy.argmax(s), s.shape)\n",
    "print(maxij, s[maxij])"
   ]
  },
  {
   "cell_type": "raw",
   "metadata": {
    "number": 2,
    "section": "answer"
   },
   "source": [
    "Enter your score here.\n",
    "\n",
    "7"
   ]
  },
  {
   "cell_type": "markdown",
   "metadata": {
    "number": 3,
    "section": "problem"
   },
   "source": [
    "**Problem #3:** Give an actual *local alignment* that is consistent with your answer to **Problem #2**. "
   ]
  },
  {
   "cell_type": "code",
   "execution_count": 10,
   "metadata": {},
   "outputs": [
    {
     "name": "stdout",
     "output_type": "stream",
     "text": [
      "A A\n",
      "A A\n",
      "C C\n",
      "T T\n",
      "T C\n",
      "_ G\n",
      "T T\n",
      "C C\n",
      "G T\n",
      "A A\n",
      "T T\n",
      "C C\n",
      "T T\n",
      "C T\n",
      "T C\n",
      "T T\n",
      "G G\n",
      "T C\n",
      "A A\n",
      "G G\n",
      "AACTT_TCGATCTCTTGTAG\n",
      "AACTCGTCTATCTTCTGCAG\n"
     ]
    }
   ],
   "source": [
    "def LocalAlignment(b,v,w,i,j):\n",
    "    if (b[i,j] == 0):\n",
    "        return['', '']\n",
    "    if (b[i,j] == 3):\n",
    "        result = LocalAlignment(b,v,w,i-1,j-1)\n",
    "        result[0] += v[i-1]\n",
    "        result[1] += w[j-1]\n",
    "        return result\n",
    "    if (b[i,j] == 2):\n",
    "        result = LocalAlignment(b,v,w,i,j-1)\n",
    "        result[0] += \"_\"\n",
    "        result[1] += w[j-1]\n",
    "        return result\n",
    "    if (b[i,j] == 1):\n",
    "        result = LocalAlignment(b,v,w,i-1,j)\n",
    "        result[0] += v[i-1]\n",
    "        result[1] += \"_\"\n",
    "        return result\n",
    "align = LocalAlignment(b, first100, second100, maxij[0],maxij[1])\n",
    "for s,t in zip(align[0], align[1]):\n",
    "    print(s, t)\n",
    "print(align[0])\n",
    "print(align[1])"
   ]
  },
  {
   "cell_type": "raw",
   "metadata": {
    "number": 3,
    "section": "answer"
   },
   "source": [
    "Alignment one line per symbol:\n",
    "\n",
    "A A\n",
    "A A\n",
    "C C\n",
    "T T\n",
    "T C\n",
    "_ G\n",
    "T T\n",
    "C C\n",
    "G T\n",
    "A A\n",
    "T T\n",
    "C C\n",
    "T T\n",
    "C T\n",
    "T C\n",
    "T T\n",
    "G G\n",
    "T C\n",
    "A A\n",
    "G G"
   ]
  },
  {
   "cell_type": "markdown",
   "metadata": {
    "number": 4,
    "section": "problem"
   },
   "source": [
    "---\n",
    "**Problem #4:** Find the length of the longest *embedded* common subsequence in the following: \n",
    "\n",
    "    \"GCAAAATTGTGTACTTAAGCTTAAGGTTGATACAGCCAATCCTAAGACACCTAAGTATAAGTTTGTTCGCATTCAACCAGGACAGACTTTTTCAGTGTTA\"\n",
    "\n",
    "The longest embedded common subsequence is the longest common subsequence within in a sequence for which no symbol matches itself. As an example, consider \"TAGACTAAG\". The longest common subsequence is the sequence itself, \"TAGACTAAG\", but the longest *embedded* common subsequence is \"TAG\". "
   ]
  },
  {
   "cell_type": "code",
   "execution_count": 178,
   "metadata": {},
   "outputs": [
    {
     "name": "stdout",
     "output_type": "stream",
     "text": [
      "length of LECS: 64\n",
      "LECS: AAATTGTTACTTAAGTTAAGTTAAACACCTAAGATAAGTTGTTGTTCCCAACAGACTTTTTGTT\n"
     ]
    }
   ],
   "source": [
    "seq = \"GCAAAATTGTGTACTTAAGCTTAAGGTTGATACAGCCAATCCTAAGACACCTAAGTATAAGTTTGTTCGCATTCAACCAGGACAGACTTTTTCAGTGTTA\"\n",
    "\n",
    "def findLECS(v, w):\n",
    "    score = zeros((len(v)+1,len(w)+1), dtype=\"int32\")\n",
    "    backt = zeros((len(v)+1,len(w)+1), dtype=\"int32\")\n",
    "    for i in range(1,len(v)+1):\n",
    "        for j in range(1,len(w)+1):\n",
    "            # find best score at each vertex\n",
    "            if (v[i-1] == w[j-1]) and (i != j):  # test for a match (\"diagonal street\")\n",
    "                score[i,j], backt[i,j] = max((score[i-1,j-1]+1,3), (score[i-1,j],1), (score[i,j-1],2))\n",
    "            else:\n",
    "                score[i,j], backt[i,j] = max((score[i-1,j],1), (score[i,j-1],2))\n",
    "    return score, backt\n",
    "\n",
    "score, backtrace = findLECS(seq, seq)\n",
    "\n",
    "def LECS(b,v,i,j):\n",
    "    if ((i == 0) and (j == 0)):\n",
    "        return ''\n",
    "    elif (b[i,j] == 3):\n",
    "        return LECS(b,v,i-1,j-1) + v[i-1]\n",
    "    elif (b[i,j] == 2):\n",
    "        return LECS(b,v,i,j-1)\n",
    "    else:\n",
    "        return LECS(b,v,i-1,j)\n",
    "    \n",
    "lecs = LECS(backtrace,seq,backtrace.shape[0]-1,backtrace.shape[1]-1)\n",
    "        \n",
    "print(\"length of LECS:\", len(lecs))\n",
    "print(\"LECS:\", lecs)"
   ]
  },
  {
   "cell_type": "raw",
   "metadata": {
    "number": 4,
    "section": "answer"
   },
   "source": [
    "Enter your answer here.\n",
    "\n",
    "64"
   ]
  },
  {
   "cell_type": "markdown",
   "metadata": {
    "number": 5,
    "section": "problem"
   },
   "source": [
    "**Problem #5:** Output the longest embedded common subsequence from the string given in **Problem #4** in the following comma separated format:\n",
    "\n",
    "    positionInFirstSubsequence, positionInSecondSubsequence, commonSymbol\n",
    "    \n",
    "with one symbol per line. For \"TAGACTAAG\" the output could be:\n",
    "\n",
    "    0,5,T\n",
    "    1,6,A\n",
    "    3,8,G\n"
   ]
  },
  {
   "cell_type": "code",
   "execution_count": 179,
   "metadata": {},
   "outputs": [
    {
     "name": "stdout",
     "output_type": "stream",
     "text": [
      "3,2,A\n",
      "4,3,A\n",
      "5,4,A\n",
      "7,6,T\n",
      "9,7,T\n",
      "10,8,G\n",
      "14,9,T\n",
      "15,11,T\n",
      "17,12,A\n",
      "19,13,C\n",
      "20,14,T\n",
      "21,15,T\n",
      "22,16,A\n",
      "23,17,A\n",
      "25,18,G\n",
      "27,20,T\n",
      "30,21,T\n",
      "31,22,A\n",
      "33,23,A\n",
      "34,24,G\n",
      "39,26,T\n",
      "42,27,T\n",
      "43,29,A\n",
      "44,31,A\n",
      "46,33,A\n",
      "47,36,C\n",
      "48,38,A\n",
      "49,40,C\n",
      "50,41,C\n",
      "51,42,T\n",
      "52,43,A\n",
      "53,44,A\n",
      "54,45,G\n",
      "56,48,A\n",
      "57,51,T\n",
      "58,52,A\n",
      "59,53,A\n",
      "60,54,G\n",
      "62,55,T\n",
      "63,57,T\n",
      "64,60,G\n",
      "65,61,T\n",
      "66,62,T\n",
      "68,64,G\n",
      "71,65,T\n",
      "72,66,T\n",
      "73,67,C\n",
      "76,69,C\n",
      "77,73,C\n",
      "78,74,A\n",
      "81,75,A\n",
      "82,77,C\n",
      "83,78,A\n",
      "84,80,G\n",
      "85,81,A\n",
      "86,82,C\n",
      "87,88,T\n",
      "88,89,T\n",
      "89,90,T\n",
      "90,91,T\n",
      "91,95,T\n",
      "94,96,G\n",
      "95,97,T\n",
      "97,98,T\n"
     ]
    }
   ],
   "source": [
    "def LocalEmbedAlignment(b,v,w,i,j):\n",
    "    if (b[i,j] == 0):\n",
    "        return['', '']\n",
    "    if (b[i,j] == 3):\n",
    "        result = LocalEmbedAlignment(b,v,w,i-1,j-1)\n",
    "        result[0] += v[i-1]\n",
    "        result[1] += w[j-1]\n",
    "        print(i-1, j-1, seq[i-1],sep=\",\")\n",
    "        return result\n",
    "    if (b[i,j] == 2):\n",
    "        result = LocalEmbedAlignment(b,v,w,i,j-1)\n",
    "        result[0] += \"_\"\n",
    "        result[1] += w[j-1]\n",
    "        return result\n",
    "    if (b[i,j] == 1):\n",
    "        result = LocalEmbedAlignment(b,v,w,i-1,j)\n",
    "        result[0] += v[i-1]\n",
    "        result[1] += \"_\"\n",
    "        return result\n",
    "    \n",
    "max_embedded_ij = numpy.unravel_index(numpy.argmax(score), score.shape)\n",
    "align = LocalEmbedAlignment(backtrace, seq, seq, max_embedded_ij[0], max_embedded_ij[1])"
   ]
  },
  {
   "cell_type": "raw",
   "metadata": {
    "number": 5,
    "section": "answer"
   },
   "source": [
    "# Enter your answer here\n",
    "\n",
    "3,2,A\n",
    "4,3,A\n",
    "5,4,A\n",
    "7,6,T\n",
    "9,7,T\n",
    "10,8,G\n",
    "14,9,T\n",
    "15,11,T\n",
    "17,12,A\n",
    "19,13,C\n",
    "20,14,T\n",
    "21,15,T\n",
    "22,16,A\n",
    "23,17,A\n",
    "25,18,G\n",
    "27,20,T\n",
    "30,21,T\n",
    "31,22,A\n",
    "33,23,A\n",
    "34,24,G\n",
    "39,26,T\n",
    "42,27,T\n",
    "43,29,A\n",
    "44,31,A\n",
    "46,33,A\n",
    "47,36,C\n",
    "48,38,A\n",
    "49,40,C\n",
    "50,41,C\n",
    "51,42,T\n",
    "52,43,A\n",
    "53,44,A\n",
    "54,45,G\n",
    "56,48,A\n",
    "57,51,T\n",
    "58,52,A\n",
    "59,53,A\n",
    "60,54,G\n",
    "62,55,T\n",
    "63,57,T\n",
    "64,60,G\n",
    "65,61,T\n",
    "66,62,T\n",
    "68,64,G\n",
    "71,65,T\n",
    "72,66,T\n",
    "73,67,C\n",
    "76,69,C\n",
    "77,73,C\n",
    "78,74,A\n",
    "81,75,A\n",
    "82,77,C\n",
    "83,78,A\n",
    "84,80,G\n",
    "85,81,A\n",
    "86,82,C\n",
    "87,88,T\n",
    "88,89,T\n",
    "89,90,T\n",
    "90,91,T\n",
    "91,95,T\n",
    "94,96,G\n",
    "95,97,T\n",
    "97,98,T"
   ]
  },
  {
   "cell_type": "markdown",
   "metadata": {
    "section": "submit"
   },
   "source": [
    "---\n",
    "\n",
    "## Instructions for submitting your problem set\n",
    "\n",
    "When you are ready to submit a version of your problem set, follow the instructions below.\n",
    "\n",
    "1. Press [Save and Checkpoint] on the *File* menu of your Jupyter notebook.\n",
    "2. Press the link below, which will take you to a website for submitting your problem set.\n",
    "3. Choose the ***correct problem set number*** from the pull-down, else you might overwrite an earlier submission.\n",
    "4. Enter in your onyen and PID in the form provided, then upload your submission.\n",
    "\n",
    "Click [here to submit](http://csbio.unc.edu/mcmillan/index.py?run=PS.upload) your completed problem set\n",
    "\n",
    "**Instructions for resubmissions:**\n",
    "\n",
    "1. You may resubmit as many times as you like before the deadline. \n",
    "2. Resubmissions *always* overwrite any earlier submissions. \n",
    "3. If you resubmit after the due date, you will be warned of any penalties. \n",
    "4. Problem sets will not be regraded."
   ]
  }
 ],
 "metadata": {
  "anaconda-cloud": {},
  "kernelspec": {
   "display_name": "Python 3",
   "language": "python",
   "name": "python3"
  },
  "language_info": {
   "codemirror_mode": {
    "name": "ipython",
    "version": 3
   },
   "file_extension": ".py",
   "mimetype": "text/x-python",
   "name": "python",
   "nbconvert_exporter": "python",
   "pygments_lexer": "ipython3",
   "version": "3.7.4"
  }
 },
 "nbformat": 4,
 "nbformat_minor": 1
}
