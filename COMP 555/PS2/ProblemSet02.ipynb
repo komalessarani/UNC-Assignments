{
 "cells": [
  {
   "cell_type": "markdown",
   "metadata": {
    "section": "header"
   },
   "source": [
    "<div style=\"text-align: center;\">\n",
    "<h1>The University of North Carolina at Chapel Hill</h1>\n",
    "<h1>Comp 555 BioAlgorithms - Spring 2020</h1>\n",
    "<h1 style=\"font-size: 250%;\">Problem Set #2 </h1>\n",
    "<h1>Issued Tuesday, 2/5/2020; Due Tuesday, 2/18/2020</h1>\n",
    "</div>\n",
    "\n",
    "**Homework Information:** Some of the problems are probably too long to be done the night before the due date, so plan accordingly. Late problem sets will be penalized by a factor of 70.71% for up to two class meetings after the due date. Feel free to get help from others, but **the work you submit in should be your own.**\n",
    "\n",
    "**Warning:** This notebook has been annotated with metadata so that it can be uploaded to the grading system. It is very important that you enter your answers in the provided cells. You can add extra cells to explore approaches, but only the provided cell can and will be graded. Thus, if you delete a cell and add a replacement, there is a possiblity that your problem will not be graded. If you ever need to start over, you should download a new version of the problem set and transfer your solutions to it."
   ]
  },
  {
   "cell_type": "code",
   "execution_count": 1,
   "metadata": {
    "section": "signature"
   },
   "outputs": [],
   "source": [
    "# Replace the following string values with the requested information\n",
    "class Student:\n",
    "    first = \"Komal\"\n",
    "    last = \"Essarani\"\n",
    "    onyen = \"kessara0\"\n",
    "    pid = \"730235611\""
   ]
  },
  {
   "cell_type": "markdown",
   "metadata": {
    "section": "setup"
   },
   "source": [
    "You will need a the following sequence collection of gene promoter regions in which you will search for <a href=\"http://csbio.unc.edu/mcmillan/Comp55520/data/motifs.fa\" download=\"motifs.txt\">transcription binding factor motifs</a>.\n",
    "\n",
    "The cell below provides all functions and imports necessary for this problem set. Do not import any addtional packages. Also, make sure that you ***run the following cell***."
   ]
  },
  {
   "cell_type": "code",
   "execution_count": 2,
   "metadata": {
    "section": "givencode"
   },
   "outputs": [],
   "source": [
    "import itertools\n",
    "import math\n",
    "%matplotlib inline\n",
    "import matplotlib\n",
    "import matplotlib.pyplot as plt\n",
    "\n",
    "def loadFasta(filename):\n",
    "    \"\"\" Parses a classically formatted and possibly \n",
    "        compressed FASTA file into two lists. One of \n",
    "        headers and a second list of sequences.\n",
    "        The ith index of each list correspond.\"\"\"\n",
    "    if (filename.endswith(\".gz\")):\n",
    "        fp = gzip.open(filename, 'r')\n",
    "    else:\n",
    "        fp = open(filename, 'r')\n",
    "    # split at headers\n",
    "    data = fp.read().split('>')\n",
    "    fp.close()\n",
    "    # ignore whatever appears before the 1st header\n",
    "    data.pop(0)     \n",
    "    headers = []\n",
    "    sequences = []\n",
    "    for sequence in data:\n",
    "        lines = sequence.split('\\n')\n",
    "        headers.append(lines.pop(0))\n",
    "        # add an extra \"+\" to make string \"1-referenced\"\n",
    "        sequences.append('+' + ''.join(lines))\n",
    "    return (headers, sequences)\n",
    "\n",
    "def ScanAndScoreMotif(DNA, motif):\n",
    "    totalDist = 0\n",
    "    bestAlignment = []\n",
    "    k = len(motif)\n",
    "    for seq in DNA:\n",
    "        minHammingDist = k+1\n",
    "        for s in range(len(seq)-k+1):\n",
    "            HammingDist = sum([1 for i in range(k) if motif[i] != seq[s+i]])\n",
    "            if (HammingDist < minHammingDist):\n",
    "                bestS = s\n",
    "                minHammingDist = HammingDist\n",
    "        bestAlignment.append(bestS)\n",
    "        totalDist += minHammingDist\n",
    "    return bestAlignment, totalDist\n",
    "\n",
    "def MedianStringMotifSearch(DNA,k):\n",
    "    \"\"\" Consider all possible 4**k motifs\"\"\"\n",
    "    bestAlignment = []\n",
    "    minHammingDist = k*len(DNA)\n",
    "    kmer = ''\n",
    "    for pattern in itertools.product('ACGT', repeat=k):\n",
    "        motif = ''.join(pattern)\n",
    "        align, dist = ScanAndScoreMotif(DNA, motif)\n",
    "        if (dist < minHammingDist):\n",
    "            bestAlignment = [p for p in align]\n",
    "            minHammingDist = dist\n",
    "            kmer = motif\n",
    "    return bestAlignment, minHammingDist, kmer\n",
    "\n",
    "def ContainedMotifSearch(DNA,k):\n",
    "    \"\"\" Consider only motifs from the given DNA sequences\"\"\"\n",
    "    motifSet = set()\n",
    "    for seq in DNA:\n",
    "        for i in range(len(seq)-k+1):\n",
    "            motifSet.add(seq[i:i+k])\n",
    "    print(\"%d Motifs in our set\" % len(motifSet))\n",
    "    bestAlignment = []\n",
    "    minHammingDist = k*len(DNA)\n",
    "    kmer = ''\n",
    "    for motif in motifSet:\n",
    "        align, dist = ScanAndScoreMotif(DNA, motif)\n",
    "        if (dist < minHammingDist):\n",
    "            bestAlignment = [s for s in align]\n",
    "            minHammingDist = dist\n",
    "            kmer = motif\n",
    "    return bestAlignment, minHammingDist, kmer"
   ]
  },
  {
   "cell_type": "markdown",
   "metadata": {
    "number": 1,
    "section": "problem"
   },
   "source": [
    "---\n",
    "**Problem #1:** In the cell below use the given *MedianStringMotifSearch()*, and *ScanAndScoreMotif()* functions to find an optimal 8-base motif pattern and its location in each of the 16 given promoter regions in <a href=\"http://csbio.unc.edu/mcmillan/Comp555S20/data/motifs.fa\" download=\"motifs.txt\">motifs.fa</a>. Based on this result, make a prediction of how long it would have taken to find an optimal 10-base motif."
   ]
  },
  {
   "cell_type": "code",
   "execution_count": 40,
   "metadata": {
    "number": 1,
    "section": "workcode"
   },
   "outputs": [
    {
     "name": "stdout",
     "output_type": "stream",
     "text": [
      "Wall time: 14min 9s\n"
     ]
    },
    {
     "data": {
      "text/plain": [
       "([24, 136, 186, 6, 26, 210, 185, 147, 104, 38, 21, 205, 97, 46, 151, 49],\n",
       " 25,\n",
       " 'CAAGTCGG')"
      ]
     },
     "execution_count": 40,
     "metadata": {},
     "output_type": "execute_result"
    }
   ],
   "source": [
    "# Read in the motifs.fa FASTA file and use its sequence \n",
    "# list as \"dna\" and run the given code fragment.\n",
    "\n",
    "dna = (loadFasta(\"motifs.fa\")[1])\n",
    "dna = [d[1:] for d in dna]\n",
    "# %time ScanAndScoreMotif(dna, 'CAAGTCGG')\n",
    "%time MedianStringMotifSearch(dna,8) "
   ]
  },
  {
   "cell_type": "raw",
   "metadata": {
    "number": 1,
    "section": "answer"
   },
   "source": [
    "# THIS CELL WILL BE GRADED. \n",
    "# Copy-and-paste the output from the cell above along with your \n",
    "# prediction of how long it would take to find a 10-base motif.\n",
    "-------------------------------------------------------------------------------------------------------------------------------\n",
    "This is the result of MedianStringMotifSearch and how long it takes:\n",
    "\n",
    "Wall time: 7min 30s\n",
    "([25, 137, 187, 7, 27, 211, 186, 148, 105, 39, 22, 206, 98, 47, 152, 50],\n",
    " 25,\n",
    " 'CAAGTCGG')\n",
    " \n",
    "The result of ScanAndScoreMotif was:\n",
    "\n",
    "Wall time: 14.3 ms\n",
    "([25, 137, 187, 7, 27, 211, 186, 148, 105, 39, 22, 206, 98, 47, 152, 50], 25)\n",
    "\n",
    "approx time = O(MNk) so (4^k*__ms)\n",
    "\n",
    "Based on the results produced, I predict that it will take about 249.9 minutes (4^10 * 14.3ms, using the formula above) to find an optimal 10-base motif. "
   ]
  },
  {
   "cell_type": "markdown",
   "metadata": {
    "number": 2,
    "section": "problem"
   },
   "source": [
    "---\n",
    "**Problem #2:** A simple optimization can be applied to *MedianStringMotifSearch()* as follows: If ever during the *ScanAndScoreMotif()* function the Hamming distance (i.e. *totalDist* in *ScanAndScoreMotif()*) exceeds the smallest Hamming distance seen thus far (*minHammingDist* in *MedianStringMotifSearch()*), the scanning through sequences can be terminated early. Implement this strategy and use it to search for the best 10-base motif. (Note: this requires that you do one at least of the following, add an additional argument to the *ScanAndScoreMotif()*, create a global variable shared by both *BetterMedianStringMotifSearch()* and *ScanAndScoreMotif()*, or encapuslate *ScanAndScoreMotif()* as an inner function of *BetterMedianStringMotifSearch()*). Run your new optimized version and report its run time. This optimization is technically not a branch-and-bound strategy; explain why?"
   ]
  },
  {
   "cell_type": "code",
   "execution_count": 45,
   "metadata": {
    "number": 2,
    "section": "workcode"
   },
   "outputs": [
    {
     "name": "stdout",
     "output_type": "stream",
     "text": [
      "Wall time: 10min 2s\n"
     ]
    },
    {
     "data": {
      "text/plain": [
       "([24, 136, 186, 6, 26, 210, 185, 147, 104, 38, 21, 205, 97, 46, 151, 49],\n",
       " 25,\n",
       " 'CAAGTCGG')"
      ]
     },
     "execution_count": 45,
     "metadata": {},
     "output_type": "execute_result"
    }
   ],
   "source": [
    "# Modify the MedianStringMotifSearch(), and ScanAndScoreMotif() \n",
    "# functions here and run them using the given code fragment.\n",
    "\n",
    "def ScanAndScoreMotif(DNA, motif, dist):\n",
    "    totalDist = 0\n",
    "    bestAlignment = []\n",
    "    k = len(motif)\n",
    "    for seq in DNA:\n",
    "        minHammingDist = k+1\n",
    "        for s in range(len(seq)-k+1):\n",
    "            HammingDist = sum([1 for i in range(k) if motif[i] != seq[s+i]])\n",
    "            if (HammingDist < minHammingDist):\n",
    "                bestS = s\n",
    "                minHammingDist = HammingDist\n",
    "        bestAlignment.append(bestS)\n",
    "        totalDist += minHammingDist\n",
    "    return bestAlignment, totalDist\n",
    "\n",
    "def BetterMedianStringMotifSearch(DNA,k):\n",
    "    \"\"\" Consider all possible 4**k motifs\"\"\"\n",
    "    bestAlignment = []\n",
    "    minHammingDist = k*len(DNA)\n",
    "    kmer = ''\n",
    "    for pattern in itertools.product('ACGT', repeat=k):\n",
    "        motif = ''.join(pattern)\n",
    "        align, dist = ScanAndScoreMotif(DNA, motif, minHammingDist)\n",
    "        if (dist < minHammingDist):\n",
    "            bestAlignment = [p for p in align]\n",
    "            minHammingDist = dist\n",
    "            kmer = motif\n",
    "    return bestAlignment, minHammingDist, kmer\n",
    "\n",
    "dna = (loadFasta(\"motifs.fa\")[1])\n",
    "dna = [d[1:] for d in dna]\n",
    "%time BetterMedianStringMotifSearch(dna,8)"
   ]
  },
  {
   "cell_type": "raw",
   "metadata": {
    "number": 2,
    "section": "answer"
   },
   "source": [
    "# THIS CELL WILL BE GRADED. \n",
    "# Copy-and-paste the output from the cell above. Also, \n",
    "# include your explaination of of this optimzation strategy.\n",
    "\n",
    "Wall time: 2h 32min 31s\n",
    "([142, 202, 73, 232, 123, 105, 10, 240, 53, 213, 46, 63, 225, 227, 144, 94],\n",
    " 39,\n",
    " 'ATGCGTTCCG')\n",
    " \n",
    "This technique is not branch-and-bound strategy because that consists of recursively splitting the search space into smaller spaces, then minimizing f(x) on these smaller spaces; the splitting is called branching. Whereas this function does not use recursion or split into little branches, therefore it is not really a branch-and-bound strategy! "
   ]
  },
  {
   "cell_type": "markdown",
   "metadata": {
    "number": 3,
    "section": "problem"
   },
   "source": [
    "---\n",
    "**Problem #3:** The *ContainedMotifSearch()* algortihm from lecture 5 can be used to find a heuristic solution for the motif search problem considerably faster than the *MedianStringMotifSearch()*. However, this solution may not be best overall solution. *ContainedMotifSearch()* can still be used to speed up *MedianStringMotifSearch()* using the following approach: First, use ContainedMotifSearch() to establish an initial *bestAlignment* and an upper-bound for the ultimate Hamming distance. Then, use it as the intitial setting of the minimum Hamming distance used in *MedianStringMotifSearch()* in conjuction with your modified version of *ScanAndScoreMotif()* from Problem #2. \n",
    "\n",
    "In the cell provided below write *EvenBetterMedianMotifSearch()*."
   ]
  },
  {
   "cell_type": "code",
   "execution_count": 43,
   "metadata": {
    "number": 3,
    "section": "answer"
   },
   "outputs": [],
   "source": [
    "# THIS CELL WILL BE GRADED\n",
    "# This cell should include *ALL* functions called by EvenBetterMedianMotifSearch(),\n",
    "# such as ContainedMedianSearch() and ScanAndScoreMotif(). Any test or \n",
    "# validation code should be placed in another cell \n",
    "\n",
    "def ContainedMotifSearch(DNA,k):\n",
    "    \"\"\" Consider only motifs from the given DNA sequences\"\"\"\n",
    "    motifSet = set()\n",
    "    for seq in DNA:\n",
    "        for i in range(len(seq)-k+1):\n",
    "            motifSet.add(seq[i:i+k])\n",
    "    print(\"%d Motifs in our set\" % len(motifSet))\n",
    "    bestAlignment = []\n",
    "    minHammingDist = k*len(DNA)\n",
    "    kmer = ''\n",
    "    for motif in motifSet:\n",
    "        align, dist = ScanAndScoreMotif(DNA, motif, minHammingDist)\n",
    "        if (dist < minHammingDist):\n",
    "            bestAlignment = [s for s in align]\n",
    "            minHammingDist = dist\n",
    "            kmer = motif\n",
    "    return bestAlignment, minHammingDist, kmer\n",
    "\n",
    "def ScanAndScoreMotif(DNA, motif, dist):\n",
    "    totalDist = 0\n",
    "    bestAlignment = []\n",
    "    k = len(motif)\n",
    "    for seq in DNA:\n",
    "        minHammingDist = k+1\n",
    "        for s in range(len(seq)-k+1):\n",
    "            HammingDist = sum([1 for i in range(k) if motif[i] != seq[s+i]])\n",
    "            if (HammingDist < minHammingDist):\n",
    "                bestS = s\n",
    "                minHammingDist = HammingDist\n",
    "        bestAlignment.append(bestS)\n",
    "        totalDist += minHammingDist\n",
    "    return bestAlignment, totalDist\n",
    "\n",
    "def EvenBetterMedianMotifSearch(DNA,k):\n",
    "    bestAlignment = []\n",
    "    kmer = ''\n",
    "    bestAlignment, minHammingDist, kmer = ContainedMotifSearch(DNA, k)\n",
    "    for pattern in itertools.product('ACGT', repeat=k):\n",
    "        motif = ''.join(pattern)\n",
    "        align, dist = ScanAndScoreMotif(DNA, motif, minHammingDist)\n",
    "        if (dist < minHammingDist):\n",
    "            bestAlignment = [p for p in align]\n",
    "            minHammingDist = dist\n",
    "            kmer = motif\n",
    "    return bestAlignment, minHammingDist, kmer"
   ]
  },
  {
   "cell_type": "markdown",
   "metadata": {},
   "source": [
    "The following cell below is provided for testing your code. You should test it on <a href=\"http://csbio.unc.edu/mcmillan/Comp555S20/data/motifs.fa\" download=\"motifs.txt\">motifs.fa</a>. This cell will not be considered during grading."
   ]
  },
  {
   "cell_type": "code",
   "execution_count": 44,
   "metadata": {
    "number": 3,
    "section": "workcode"
   },
   "outputs": [
    {
     "name": "stdout",
     "output_type": "stream",
     "text": [
      "3760 Motifs in our set\n",
      "Wall time: 8min 6s\n"
     ]
    },
    {
     "data": {
      "text/plain": [
       "([24, 136, 186, 6, 26, 210, 185, 147, 104, 38, 21, 205, 97, 46, 151, 49],\n",
       " 25,\n",
       " 'CAAGTCGG')"
      ]
     },
     "execution_count": 44,
     "metadata": {},
     "output_type": "execute_result"
    }
   ],
   "source": [
    "dna = loadFasta(\"motifs.fa\")[1]\n",
    "dna = [d[1:] for d in dna]\n",
    "%time EvenBetterMedianMotifSearch(dna, 8)"
   ]
  },
  {
   "cell_type": "markdown",
   "metadata": {
    "number": 4,
    "section": "problem"
   },
   "source": [
    "**Problem #4:** Next consider how the prefixes of candidate motifs can be used to determine if further extensions might possibly beat the *ContainedMotifSearch()* solution. This last change makes the algorithm truly \"branch-and-bound\" and requires that succesive *patterns* be generated using a different approach than the itertools product used in *MedianStringMotifSearch()*.\n",
    "\n",
    "In the cell provided below write *BestMedianMotifSearch()*."
   ]
  },
  {
   "cell_type": "code",
   "execution_count": 81,
   "metadata": {
    "number": 4,
    "section": "answer"
   },
   "outputs": [],
   "source": [
    "# THIS CELL WILL BE GRADED\n",
    "# This cell should include *ALL* functions called by BestMedianMotifSearch(),\n",
    "# such as ContainedMedianSearch() and ScanAndScoreMotif(). Any test or \n",
    "# validation code should be placed in another cell \n",
    "\n",
    "def ContainedMotifSearch(DNA,k):\n",
    "    \"\"\" Consider only motifs from the given DNA sequences\"\"\"\n",
    "    motifSet = set()\n",
    "    for seq in DNA:\n",
    "        for i in range(len(seq)-k+1):\n",
    "            motifSet.add(seq[i:i+k])\n",
    "    print(\"%d Motifs in our set\" % len(motifSet))\n",
    "    bestAlignment1 = []\n",
    "    minHammingDist1 = k*len(DNA)\n",
    "    kmer = ''\n",
    "    for motif in motifSet:\n",
    "        align, dist = ScanAndScoreMotif(DNA, motif, minHammingDist1)\n",
    "        if (dist < minHammingDist1):\n",
    "            bestAlignment1 = [s for s in align]\n",
    "            minHammingDist1 = dist\n",
    "            kmer = motif\n",
    "    return bestAlignment1, minHammingDist1, kmer\n",
    "\n",
    "def ScanAndScoreMotif(DNA, motif, dist):\n",
    "    totalDist = 0\n",
    "    bestAlignment2 = []\n",
    "    k = len(motif)\n",
    "    for seq in DNA:\n",
    "        minHammingDist2 = k+1\n",
    "        for s in range(len(seq)-k+1):\n",
    "            HammingDist = sum([1 for i in range(k) if motif[i] != seq[s+i]])\n",
    "            if (HammingDist < minHammingDist2):\n",
    "                bestS = s\n",
    "                minHammingDist2 = HammingDist\n",
    "        bestAlignment2.append(bestS)\n",
    "        totalDist += minHammingDist2\n",
    "    return bestAlignment2, totalDist\n",
    "\n",
    "def getMotif(DNA, k, motif, minHammingDist):\n",
    "    global bestAlignment, globalKmer\n",
    "    depth = len(motif)\n",
    "    if (depth == k):\n",
    "        alignment, s = ScanAndScoreMotif(DNA, motif, minHammingDist)\n",
    "        if (s < minHammingDist):\n",
    "            bestAlignment = [a for a in alignment]\n",
    "            globalKmer = motif\n",
    "            return s\n",
    "        else:\n",
    "            return minHammingDist\n",
    "    else:\n",
    "        bestAlignment, OptimisticScore = ScanAndScoreMotif(DNA, motif, minHammingDist)\n",
    "        if (OptimisticScore > minHammingDist):\n",
    "            return minHammingDist\n",
    "        else:\n",
    "            for base in 'ACGT':\n",
    "                motif = motif+base\n",
    "                minHammingDist = getMotif(DNA, k, motif, minHammingDist) \n",
    "            return minHammingDist\n",
    "\n",
    "def BestMedianMotifSearch(DNA,k):\n",
    "    global bestAlignment, globalKmer, minHammingDist\n",
    "    bestAlignment, minHammingDist, globalKmer = ContainedMotifSearch(DNA, k)\n",
    "    getMotif(DNA, k, '', minHammingDist)\n",
    "    return bestAlignment, minHammingDist, globalKmer"
   ]
  },
  {
   "cell_type": "code",
   "execution_count": 84,
   "metadata": {
    "number": 4,
    "section": "workcode"
   },
   "outputs": [
    {
     "name": "stdout",
     "output_type": "stream",
     "text": [
      "3845 Motifs in our set\n",
      "Wall time: 44.1 s\n"
     ]
    },
    {
     "data": {
      "text/plain": [
       "([227, 107, 53, 133, 93, 7, 89, 209, 160, 206, 18, 23, 38, 56, 91, 64],\n",
       " 40,\n",
       " 'CATGCCGACT')"
      ]
     },
     "execution_count": 84,
     "metadata": {},
     "output_type": "execute_result"
    }
   ],
   "source": [
    "# This cell is provided for testing your answer to problem 4. It will not be graded.\n",
    "dna = loadFasta(\"../PS2/motifs.fa\")[1]\n",
    "dna = [d[1:] for d in dna]\n",
    "%time BestMedianMotifSearch(dna, 10)"
   ]
  },
  {
   "cell_type": "markdown",
   "metadata": {
    "number": 5,
    "section": "problem"
   },
   "source": [
    "**Problem #5:** Recall that *ContainedMotifSearch()* considers only k-mers that appear in the given sequences as possible motifs. Modify *ContainedMotifSearch()* so that it considers all k-mers that have a Hamming distance of 1 or less from the set of k-mers that appear in the given sequences. Call your new search algorithm *DistanceOneContainedMotifSearch()*."
   ]
  },
  {
   "cell_type": "code",
   "execution_count": 25,
   "metadata": {
    "number": 5,
    "section": "answer"
   },
   "outputs": [],
   "source": [
    "# THIS CELL WILL BE GRADED.\n",
    "# This cell should include *ALL* functions called by DistanceOneContainedMotifSearch().\n",
    "# All test and validation code should be placed in another cell\n",
    "\n",
    "def ContainedMotifSearch(DNA,k):\n",
    "    newString = ''\n",
    "    \"\"\" Consider only motifs from the given DNA sequences\"\"\"\n",
    "    motifSet = set()\n",
    "    for seq in DNA:\n",
    "        for i in range(len(seq)-k+1):\n",
    "            motifSet.add(seq[i:i+k])\n",
    "            \n",
    "    for motif in motifSet.copy():\n",
    "        for i in range(k):\n",
    "            arr = list(motif)\n",
    "            for base in ['A', 'C', 'T', 'G']:\n",
    "                arr[i] = base\n",
    "                motifSet.add(''.join(arr))\n",
    "                    \n",
    "    print(\"%d Motifs in our set\" % len(motifSet))\n",
    "    bestAlignment = []\n",
    "    minHammingDist = k*len(DNA)\n",
    "    kmer = ''\n",
    "    for motif in motifSet:\n",
    "        align, dist = ScanAndScoreMotif(DNA, motif, minHammingDist)\n",
    "        if (dist < minHammingDist):\n",
    "            bestAlignment = [s for s in align]\n",
    "            minHammingDist = dist\n",
    "            kmer = motif\n",
    "    return bestAlignment, minHammingDist, kmer\n",
    "\n",
    "def ScanAndScoreMotif(DNA, motif, dist):\n",
    "    totalDist = 0\n",
    "    bestAlignment = []\n",
    "    k = len(motif)\n",
    "    for seq in DNA:\n",
    "        minHammingDist = k+1\n",
    "        for s in range(len(seq)-k+1):\n",
    "            HammingDist = sum([1 for i in range(k) if motif[i] != seq[s+i]])\n",
    "            if (HammingDist < minHammingDist):\n",
    "                bestS = s\n",
    "                minHammingDist = HammingDist\n",
    "        bestAlignment.append(bestS)\n",
    "        totalDist += minHammingDist\n",
    "    return bestAlignment, totalDist\n",
    "\n",
    "def DistanceOneContainedMotifSearch(DNA,k):\n",
    "    bestAlignment = []\n",
    "    minHammingDist = k*len(DNA)\n",
    "    kmer = ''\n",
    "    bestAlignment, minHammingDist, kmer = ContainedMotifSearch(DNA, k)\n",
    "    for pattern in itertools.product('ACGT', repeat=k):\n",
    "        motif = ''.join(pattern)\n",
    "        align, dist = ScanAndScoreMotif(DNA, motif, minHammingDist)\n",
    "        if (dist < minHammingDist):\n",
    "            bestAlignment = [p for p in align]\n",
    "            minHammingDist = dist\n",
    "            kmer = motif\n",
    "    return bestAlignment, minHammingDist, kmer"
   ]
  },
  {
   "cell_type": "code",
   "execution_count": null,
   "metadata": {
    "number": 5,
    "section": "workcode"
   },
   "outputs": [
    {
     "name": "stdout",
     "output_type": "stream",
     "text": [
      "112479 Motifs in our set\n"
     ]
    }
   ],
   "source": [
    "# This cell is provided for testing your answer to problem 5. It will not be graded.\n",
    "dna = loadFasta(\"../PS2/motifs.fa\")[1]\n",
    "dna = [d[1:] for d in dna]\n",
    "%time DistanceOneContainedMotifSearch(dna,10)"
   ]
  },
  {
   "cell_type": "markdown",
   "metadata": {
    "section": "submit"
   },
   "source": [
    "---\n",
    "\n",
    "## Instructions for submitting your problem set\n",
    "\n",
    "When you are ready to submit a version of your problem set, follow the instructions below.\n",
    "\n",
    "1. Press [Save and Checkpoint] on the *File* menu of your Jupyter notebook.\n",
    "2. Press the link below, which will take you to a website for submitting your problem set.\n",
    "3. Choose the ***correct problem set number*** from the pull-down, else you might overwrite an earlier submission.\n",
    "4. Enter in your onyen and PID in the form provided, then upload your submission.\n",
    "\n",
    "Click [here to submit](http://csbio.unc.edu/mcmillan/index.py?run=PS.upload) your completed problem set\n",
    "\n",
    "**Instructions for resubmissions:**\n",
    "\n",
    "1. You may resubmit as many times as you like before the deadline. \n",
    "2. Resubmissions *always* overwrite any earlier submissions. \n",
    "3. If you resubmit after the due date, you will be warned of any penalties. \n",
    "4. Problem sets will not be regraded."
   ]
  }
 ],
 "metadata": {
  "celltoolbar": "Edit Metadata",
  "kernelspec": {
   "display_name": "Python 3",
   "language": "python",
   "name": "python3"
  },
  "language_info": {
   "codemirror_mode": {
    "name": "ipython",
    "version": 3
   },
   "file_extension": ".py",
   "mimetype": "text/x-python",
   "name": "python",
   "nbconvert_exporter": "python",
   "pygments_lexer": "ipython3",
   "version": "3.7.4"
  }
 },
 "nbformat": 4,
 "nbformat_minor": 1
}
