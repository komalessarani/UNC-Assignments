{
 "cells": [
  {
   "cell_type": "code",
   "execution_count": 4,
   "metadata": {},
   "outputs": [
    {
     "name": "stdout",
     "output_type": "stream",
     "text": [
      "3 [4, 9, 17]\n"
     ]
    }
   ],
   "source": [
    "bwt = \"TGAG$TGTC$AAAGAAT$TA\"\n",
    "dollarIndices = [i for i, base in enumerate(bwt) if base == '$']\n",
    "print(len(dollarIndices), dollarIndices)\n",
    "fm, offset = FMIndex(bwt)\n",
    "for i in dollarIndices:\n",
    "    print(recoverSuffix(i, bwt, fm, off))"
   ]
  },
  {
   "cell_type": "code",
   "execution_count": 5,
   "metadata": {},
   "outputs": [
    {
     "data": {
      "text/plain": [
       "[(0, 'T'),\n",
       " (1, 'G'),\n",
       " (2, 'A'),\n",
       " (3, 'G'),\n",
       " (4, '$'),\n",
       " (5, 'T'),\n",
       " (6, 'G'),\n",
       " (7, 'T'),\n",
       " (8, 'C'),\n",
       " (9, '$'),\n",
       " (10, 'A'),\n",
       " (11, 'A'),\n",
       " (12, 'A'),\n",
       " (13, 'G'),\n",
       " (14, 'A'),\n",
       " (15, 'A'),\n",
       " (16, 'T'),\n",
       " (17, '$'),\n",
       " (18, 'T'),\n",
       " (19, 'A')]"
      ]
     },
     "execution_count": 5,
     "metadata": {},
     "output_type": "execute_result"
    }
   ],
   "source": [
    "[(i, base) for i, base in enumerate(bwt)]"
   ]
  }
 ],
 "metadata": {
  "kernelspec": {
   "display_name": "Python 3",
   "language": "python",
   "name": "python3"
  },
  "language_info": {
   "codemirror_mode": {
    "name": "ipython",
    "version": 3
   },
   "file_extension": ".py",
   "mimetype": "text/x-python",
   "name": "python",
   "nbconvert_exporter": "python",
   "pygments_lexer": "ipython3",
   "version": "3.7.4"
  }
 },
 "nbformat": 4,
 "nbformat_minor": 4
}
