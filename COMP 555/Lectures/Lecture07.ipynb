{
 "cells": [
  {
   "cell_type": "markdown",
   "metadata": {},
   "source": [
    "## An adjacency list graph object\n",
    "\n",
    "Directed graph represented as a list of edges where each edge is a tuple (source_node_index, destination_node_index)"
   ]
  },
  {
   "cell_type": "code",
   "execution_count": 2,
   "metadata": {},
   "outputs": [],
   "source": [
    "class BasicGraph:\n",
    "    def __init__(self, vlist=[]):\n",
    "        \"\"\" Initialize a Graph with an optional vertex list \"\"\"\n",
    "        self.index = {v:i for i,v in enumerate(vlist)}    # looks up index given name\n",
    "        self.vertex = {i:v for i,v in enumerate(vlist)}   # looks up name given index\n",
    "        self.edge = []\n",
    "        self.edgelabel = []\n",
    "        \n",
    "    def addVertex(self, label):\n",
    "        \"\"\" Add a labeled vertex to the graph \"\"\"\n",
    "        index = len(self.index)\n",
    "        self.index[label] = index\n",
    "        self.vertex[index] = label\n",
    "        \n",
    "    def addEdge(self, vsrc, vdst, label='', repeats=True):\n",
    "        \"\"\" Add a directed edge to the graph, with an optional label. \n",
    "        Repeated edges are distinct, unless repeats is set to False. \"\"\"\n",
    "        e = (self.index[vsrc], self.index[vdst])\n",
    "        if (repeats) or (e not in self.edge):\n",
    "            self.edge.append(e)\n",
    "            self.edgelabel.append(label)"
   ]
  },
  {
   "cell_type": "markdown",
   "metadata": {},
   "source": [
    "## A Usage Example"
   ]
  },
  {
   "cell_type": "code",
   "execution_count": 4,
   "metadata": {},
   "outputs": [
    {
     "name": "stdout",
     "output_type": "stream",
     "text": [
      "['0000', '0001', '0010', '0011', '0100', '0101', '0110', '0111', '1000', '1001', '1010', '1011', '1100', '1101', '1110', '1111']\n",
      "\n",
      "Vertex indices =  {'0000': 0, '0001': 1, '0010': 2, '0011': 3, '0100': 4, '0101': 5, '0110': 6, '0111': 7, '1000': 8, '1001': 9, '1010': 10, '1011': 11, '1100': 12, '1101': 13, '1110': 14, '1111': 15}\n",
      "\n",
      "Index to Vertex =  {0: '0000', 1: '0001', 2: '0010', 3: '0011', 4: '0100', 5: '0101', 6: '0110', 7: '0111', 8: '1000', 9: '1001', 10: '1010', 11: '1011', 12: '1100', 13: '1101', 14: '1110', 15: '1111'}\n",
      "\n",
      "Edges = [(0, 0), (0, 1), (1, 2), (1, 3), (2, 4), (2, 5), (3, 6), (3, 7), (4, 8), (4, 9), (5, 10), (5, 11), (6, 12), (6, 13), (7, 14), (7, 15), (8, 0), (8, 1), (9, 2), (9, 3), (10, 4), (10, 5), (11, 6), (11, 7), (12, 8), (12, 9), (13, 10), (13, 11), (14, 12), (14, 13), (15, 14), (15, 15)]\n",
      " 0: 0000 --> 0000   1: 0000 --> 0001   2: 0001 --> 0010   3: 0001 --> 0011  \n",
      " 4: 0010 --> 0100   5: 0010 --> 0101   6: 0011 --> 0110   7: 0011 --> 0111  \n",
      " 8: 0100 --> 1000   9: 0100 --> 1001  10: 0101 --> 1010  11: 0101 --> 1011  \n",
      "12: 0110 --> 1100  13: 0110 --> 1101  14: 0111 --> 1110  15: 0111 --> 1111  \n",
      "16: 1000 --> 0000  17: 1000 --> 0001  18: 1001 --> 0010  19: 1001 --> 0011  \n",
      "20: 1010 --> 0100  21: 1010 --> 0101  22: 1011 --> 0110  23: 1011 --> 0111  \n",
      "24: 1100 --> 1000  25: 1100 --> 1001  26: 1101 --> 1010  27: 1101 --> 1011  \n",
      "28: 1110 --> 1100  29: 1110 --> 1101  30: 1111 --> 1110  31: 1111 --> 1111  \n"
     ]
    }
   ],
   "source": [
    "import itertools\n",
    "\n",
    "# build a list of binary number \"strings\"\n",
    "binary = [''.join(t) for t in itertools.product('01', repeat=4)]\n",
    "\n",
    "print(binary)\n",
    "\n",
    "# build a graph with edges connecting binary strings where\n",
    "# the k-1 suffix of the source vertex matches the k-1 prefix\n",
    "# of the destination vertex\n",
    "G1 = BasicGraph(binary)\n",
    "for vsrc in binary:\n",
    "    G1.addEdge(vsrc, vsrc[1:]+'0')\n",
    "    G1.addEdge(vsrc, vsrc[1:]+'1')\n",
    "\n",
    "print()\n",
    "print(\"Vertex indices = \", G1.index)\n",
    "print()\n",
    "print(\"Index to Vertex = \", G1.vertex)\n",
    "print()\n",
    "print(\"Edges =\", G1.edge)\n",
    "\n",
    "for i, (src, dst) in enumerate(G1.edge):\n",
    "    print(\"%2d: %s --> %s\" % (i, G1.vertex[src], G1.vertex[dst]), end = \"  \")\n",
    "    if (i % 4 == 3):\n",
    "        print()"
   ]
  },
  {
   "cell_type": "markdown",
   "metadata": {},
   "source": [
    "# All vertex permutations &equals; *every* possible path"
   ]
  },
  {
   "cell_type": "code",
   "execution_count": 14,
   "metadata": {},
   "outputs": [
    {
     "name": "stdout",
     "output_type": "stream",
     "text": [
      "(1, 2, 3, 4), (1, 2, 4, 3), (1, 3, 2, 4), (1, 3, 4, 2), (1, 4, 2, 3), (1, 4, 3, 2), \n",
      "(2, 1, 3, 4), (2, 1, 4, 3), (2, 3, 1, 4), (2, 3, 4, 1), (2, 4, 1, 3), (2, 4, 3, 1), \n",
      "(3, 1, 2, 4), (3, 1, 4, 2), (3, 2, 1, 4), (3, 2, 4, 1), (3, 4, 1, 2), (3, 4, 2, 1), \n",
      "(4, 1, 2, 3), (4, 1, 3, 2), (4, 2, 1, 3), (4, 2, 3, 1), (4, 3, 1, 2), (4, 3, 2, 1), "
     ]
    }
   ],
   "source": [
    "import itertools\n",
    "\n",
    "start = 1\n",
    "for path in itertools.permutations([1,2,3,4]):\n",
    "    if (path[0] != start):\n",
    "        print()\n",
    "        start = path[0]\n",
    "    print(path, end=', ')"
   ]
  },
  {
   "cell_type": "markdown",
   "metadata": {},
   "source": [
    "## A Hamiltonian Path Algorithm"
   ]
  },
  {
   "cell_type": "code",
   "execution_count": 15,
   "metadata": {},
   "outputs": [
    {
     "name": "stdout",
     "output_type": "stream",
     "text": [
      "CPU times: user 23min 55s, sys: 18.4 ms, total: 23min 55s\n",
      "Wall time: 23min 55s\n",
      "['0000', '0001', '0010', '0100', '1001', '0011', '0110', '1101', '1010', '0101', '1011', '0111', '1111', '1110', '1100', '1000']\n",
      "0000100110101111000\n"
     ]
    }
   ],
   "source": [
    "import itertools\n",
    "\n",
    "class EnhancedGraph(BasicGraph):\n",
    "    def hamiltonianPath(self):\n",
    "        \"\"\" A Brute-force method for finding a Hamiltonian Path. \n",
    "        Basically, all possible N! paths are enumerated and checked\n",
    "        for edges. Since edges can be reused there are no distictions\n",
    "        made for *which* version of a repeated edge. \"\"\"\n",
    "        for path in itertools.permutations(sorted(self.index.values())):\n",
    "            for i in range(len(path)-1):\n",
    "                if ((path[i],path[i+1]) not in self.edge):\n",
    "                    break\n",
    "            else:\n",
    "                return [self.vertex[i] for i in path]\n",
    "        return []\n",
    "    \n",
    "G1 = EnhancedGraph(binary)\n",
    "for vsrc in binary:\n",
    "    G1.addEdge(vsrc,vsrc[1:]+'0')\n",
    "    G1.addEdge(vsrc,vsrc[1:]+'1')\n",
    "\n",
    "# WARNING: takes about 20 mins\n",
    "%time path = G1.hamiltonianPath()\n",
    "print(path)\n",
    "superstring = path[0] + ''.join([path[i][3] for i in range(1,len(path))])\n",
    "print(superstring)"
   ]
  },
  {
   "cell_type": "markdown",
   "metadata": {},
   "source": [
    "## A Branch-and-Bound Hamiltonian Path Finder"
   ]
  },
  {
   "cell_type": "code",
   "execution_count": 5,
   "metadata": {},
   "outputs": [
    {
     "name": "stdout",
     "output_type": "stream",
     "text": [
      "104 µs ± 7.23 µs per loop (mean ± std. dev. of 7 runs, 10000 loops each)\n",
      "['0000', '0001', '0010', '0100', '1001', '0011', '0110', '1101', '1010', '0101', '1011', '0111', '1111', '1110', '1100', '1000']\n",
      "0000100110101111000\n"
     ]
    }
   ],
   "source": [
    "import itertools\n",
    "\n",
    "class ImprovedGraph(BasicGraph):\n",
    "    \n",
    "    def SearchTree(self, path, verticesLeft):\n",
    "        \"\"\" A recursive Branch-and-Bound Hamiltonian Path search. \n",
    "        Paths are extended one node at a time using only available\n",
    "        edges from the graph. \"\"\"\n",
    "        if (len(verticesLeft) == 0):\n",
    "            self.PathV2result = [self.vertex[i] for i in path]\n",
    "            return True\n",
    "        for v in verticesLeft:\n",
    "            if (len(path) == 0) or ((path[-1],v) in self.edge):\n",
    "                if self.SearchTree(path+[v], [r for r in verticesLeft if r != v]):\n",
    "                    return True\n",
    "        return False\n",
    "    \n",
    "    def hamiltonianPath(self):\n",
    "        \"\"\" A wrapper function for invoking the Branch-and-Bound \n",
    "        Hamiltonian Path search. \"\"\"\n",
    "        self.PathV2result = []\n",
    "        self.SearchTree([],sorted(self.index.values()))                \n",
    "        return self.PathV2result\n",
    "\n",
    "G1 = ImprovedGraph(binary)\n",
    "for vsrc in binary:\n",
    "    G1.addEdge(vsrc,vsrc[1:]+'0')\n",
    "    G1.addEdge(vsrc,vsrc[1:]+'1')\n",
    "%timeit path = G1.hamiltonianPath()\n",
    "path = G1.hamiltonianPath()\n",
    "print(path)\n",
    "superstring = path[0] + ''.join([path[i][3] for i in range(1,len(path))])\n",
    "print(superstring)"
   ]
  },
  {
   "cell_type": "code",
   "execution_count": null,
   "metadata": {},
   "outputs": [],
   "source": []
  }
 ],
 "metadata": {
  "kernelspec": {
   "display_name": "Python 3",
   "language": "python",
   "name": "python3"
  },
  "language_info": {
   "codemirror_mode": {
    "name": "ipython",
    "version": 3
   },
   "file_extension": ".py",
   "mimetype": "text/x-python",
   "name": "python",
   "nbconvert_exporter": "python",
   "pygments_lexer": "ipython3",
   "version": "3.7.4"
  }
 },
 "nbformat": 4,
 "nbformat_minor": 2
}
