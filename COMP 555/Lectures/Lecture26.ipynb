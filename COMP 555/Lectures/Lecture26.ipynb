{
 "cells": [
  {
   "cell_type": "markdown",
   "metadata": {},
   "source": [
    "## Select Code"
   ]
  },
  {
   "cell_type": "code",
   "execution_count": 1,
   "metadata": {},
   "outputs": [
    {
     "name": "stdout",
     "output_type": "stream",
     "text": [
      "4\n"
     ]
    }
   ],
   "source": [
    "def select(L, k):\n",
    "    value = L[0]\n",
    "    Llo = [t for t in L if t < value]\n",
    "    Lhi = [t for t in L if t > value]\n",
    "    below = len(Llo) + 1\n",
    "    if (len(Llo) >= k):\n",
    "        return select(Llo, k)\n",
    "    elif (k > below):\n",
    "        return select(Lhi, k - below)\n",
    "    else:\n",
    "        return value\n",
    "    \n",
    "test = [6, 3, 2, 8, 4, 5, 1, 7, 0, 9]\n",
    "print(select(test, 5))"
   ]
  },
  {
   "cell_type": "markdown",
   "metadata": {},
   "source": [
    "## Randomized Select"
   ]
  },
  {
   "cell_type": "code",
   "execution_count": 2,
   "metadata": {},
   "outputs": [
    {
     "name": "stdout",
     "output_type": "stream",
     "text": [
      "4\n"
     ]
    }
   ],
   "source": [
    "import random\n",
    "\n",
    "def randomizedSelect(L, k):\n",
    "    value = random.choice(L)\n",
    "    Llo = [t for t in L if t < value]\n",
    "    Lhi = [t for t in L if t > value]\n",
    "    below = len(Llo) + 1\n",
    "    if (len(Llo) >= k):\n",
    "        return randomizedSelect(Llo, k)\n",
    "    elif (k > below):\n",
    "        return randomizedSelect(Lhi, k - below)\n",
    "    else:\n",
    "        return value\n",
    "    \n",
    "test = [6, 3, 2, 8, 4, 5, 1, 7, 0, 9]\n",
    "print(randomizedSelect(test, 5)) "
   ]
  },
  {
   "cell_type": "markdown",
   "metadata": {},
   "source": [
    "## Modified Score and Profile functions"
   ]
  },
  {
   "cell_type": "code",
   "execution_count": 6,
   "metadata": {},
   "outputs": [],
   "source": [
    "import numpy\n",
    "\n",
    "def Score(seq, i, k, distr):\n",
    "    return numpy.prod([distr[j][seq[i+j]] for j in range(k)])\n",
    "\n",
    "def Profile(DNA, offset, k):\n",
    "    profile = []\n",
    "    t = len(DNA)\n",
    "    for i in range(k):\n",
    "        counts = {base : 0.01 for base in \"acgt\"}\n",
    "        for j in range(t):\n",
    "            counts[DNA[j][offset[j]+i]] += 0.96 / t\n",
    "        profile.append(counts)\n",
    "    return profile"
   ]
  },
  {
   "cell_type": "markdown",
   "metadata": {},
   "source": [
    "## Gibbs Sampling"
   ]
  },
  {
   "cell_type": "code",
   "execution_count": 14,
   "metadata": {},
   "outputs": [],
   "source": [
    "def GibbsProfileMotifSearch(seqList, k):\n",
    "    start = [random.randint(0,len(seqList[t])-k) for t in range(len(seqList))]\n",
    "    bestScore = 0.0\n",
    "    noImprovement = 0\n",
    "    while True:\n",
    "        remove = random.randint(0,len(seqList)-1)\n",
    "        start[remove] = -1\n",
    "        distr = Profile(seqList, start, k)\n",
    "        score = 0.0\n",
    "        for t in range(len(seqList)):\n",
    "            if (start[t] < 0):\n",
    "                rScore = 0.0\n",
    "                for i in range(len(seqList[remove])-k+1):\n",
    "                    score = Score(seqList[remove], i, k, distr)\n",
    "                    if (score > rScore):\n",
    "                        rStart, rScore = i, score\n",
    "                score += rScore\n",
    "                start[t] = rStart\n",
    "            else:\n",
    "                score += Score(seqList[t], start[t], k, distr)\n",
    "        if (score > bestScore):\n",
    "            bestScore = score\n",
    "            noImprovement = 0\n",
    "        else:\n",
    "            noImprovement += 1\n",
    "            if (noImprovement > len(seqList)):\n",
    "                break\n",
    "    return score, start"
   ]
  },
  {
   "cell_type": "markdown",
   "metadata": {},
   "source": [
    "## Example"
   ]
  },
  {
   "cell_type": "code",
   "execution_count": 15,
   "metadata": {},
   "outputs": [
    {
     "name": "stdout",
     "output_type": "stream",
     "text": [
      "0.013756961530184186 [17, 47, 18, 33, 21, 0, 46, 70, 16, 65]\n",
      "tagatctgaa\n",
      "tggatccgaa\n",
      "tagacccgaa\n",
      "taaatccgaa\n",
      "taggtccaaa\n",
      "tagattcgaa\n",
      "cagatccgaa\n",
      "tagatccgta\n",
      "tagatccaaa\n",
      "tcgatccgaa\n"
     ]
    }
   ],
   "source": [
    "random.seed(2020)\n",
    "\n",
    "seqApprox = [\n",
    "    'tagtggtcttttgagtgtagatctgaagggaaagtatttccaccagttcggggtcacccagcagggcagggtgacttaat',\n",
    "    'cgcgactcggcgctcacagttatcgcacgtttagaccaaaacggagttggatccgaaactggagtttaatcggagtcctt',\n",
    "    'gttacttgtgagcctggttagacccgaaatataattgttggctgcatagcggagctgacatacgagtaggggaaatgcgt',\n",
    "    'aacatcaggctttgattaaacaatttaagcacgtaaatccgaattgacctgatgacaatacggaacatgccggctccggg',\n",
    "    'accaccggataggctgcttattaggtccaaaaggtagtatcgtaataatggctcagccatgtcaatgtgcggcattccac',\n",
    "    'tagattcgaatcgatcgtgtttctccctctgtgggttaacgaggggtccgaccttgctcgcatgtgccgaacttgtaccc',\n",
    "    'gaaatggttcggtgcgatatcaggccgttctcttaacttggcggtgcagatccgaacgtctctggaggggtcgtgcgcta',\n",
    "    'atgtatactagacattctaacgctcgcttattggcggagaccatttgctccactacaagaggctactgtgtagatccgta',\n",
    "    'ttcttacacccttctttagatccaaacctgttggcgccatcttcttttcgagtccttgtacctccatttgctctgatgac',\n",
    "    'ctacctatgtaaaacaacatctactaacgtagtccggtctttcctgatctgccctaacctacaggtcgatccgaaattcg']\n",
    "\n",
    "s, m = GibbsProfileMotifSearch(seqApprox, 10)\n",
    "print(s, m)\n",
    "for i, j in enumerate(m):\n",
    "    print(seqApprox[i][j:j+10])"
   ]
  },
  {
   "cell_type": "code",
   "execution_count": null,
   "metadata": {
    "collapsed": true
   },
   "outputs": [],
   "source": []
  }
 ],
 "metadata": {
  "kernelspec": {
   "display_name": "Python 3",
   "language": "python",
   "name": "python3"
  },
  "language_info": {
   "codemirror_mode": {
    "name": "ipython",
    "version": 3
   },
   "file_extension": ".py",
   "mimetype": "text/x-python",
   "name": "python",
   "nbconvert_exporter": "python",
   "pygments_lexer": "ipython3",
   "version": "3.7.4"
  }
 },
 "nbformat": 4,
 "nbformat_minor": 1
}
