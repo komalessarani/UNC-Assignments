{
 "cells": [
  {
   "cell_type": "markdown",
   "metadata": {},
   "source": [
    "## Bring-to-Top in Code"
   ]
  },
  {
   "cell_type": "code",
   "execution_count": 1,
   "metadata": {},
   "outputs": [
    {
     "name": "stdout",
     "output_type": "stream",
     "text": [
      "Moved to bottom: [1, 4, 3, 2, 5]\n",
      "   Moved to top: [4, 1, 3, 2, 5]\n",
      "Moved to bottom: [2, 3, 1, 4, 5]\n",
      "   Moved to top: [3, 2, 1, 4, 5]\n",
      "Moved to bottom: [1, 2, 3, 4, 5]\n",
      "5\n"
     ]
    }
   ],
   "source": [
    "def BringToTop(pi):\n",
    "    t = 0\n",
    "    for bottom in range(len(pi)-1,0,-1):\n",
    "        i = pi.index(max(pi[:bottom+1]))\n",
    "        if (i != bottom):\n",
    "            if (i > 0):\n",
    "                pi = [pi[j] for j in range(i,-1,-1)] + pi[i+1:] \n",
    "                print(\"   Moved to top:\", pi)\n",
    "                t += 1\n",
    "            pi = [pi[j] for j in range(bottom,-1,-1)] + pi[bottom+1:] \n",
    "            print(\"Moved to bottom:\", pi)\n",
    "            t += 1\n",
    "    return t\n",
    "\n",
    "print(BringToTop([5,2,3,4,1]))"
   ]
  },
  {
   "cell_type": "markdown",
   "metadata": {},
   "source": [
    "## Greedy Reversal Sort as code"
   ]
  },
  {
   "cell_type": "code",
   "execution_count": 2,
   "metadata": {},
   "outputs": [
    {
     "name": "stdout",
     "output_type": "stream",
     "text": [
      "rho( 1, 4) = [1, 2, 4, 3, 5, 6, 7, 10, 9, 8]\n",
      "rho( 3, 4) = [1, 2, 3, 4, 5, 6, 7, 10, 9, 8]\n",
      "rho( 8,10) = [1, 2, 3, 4, 5, 6, 7, 8, 9, 10]\n",
      "3\n"
     ]
    }
   ],
   "source": [
    "def GreedyReversalSort(pi):\n",
    "    t = 0\n",
    "    for i in range(len(pi)-1):\n",
    "        j = pi.index(min(pi[i:]))\n",
    "        if (j != i):\n",
    "            pi = pi[:i] + [v for v in reversed(pi[i:j+1])] + pi[j+1:]\n",
    "            print(\"rho(%2d,%2d) = %s\" % (i+1,j+1,pi))\n",
    "            t += 1\n",
    "    return t\n",
    "\n",
    "print(GreedyReversalSort([3,4,2,1,5,6,7,10,9,8]))"
   ]
  },
  {
   "cell_type": "code",
   "execution_count": null,
   "metadata": {},
   "outputs": [],
   "source": []
  }
 ],
 "metadata": {
  "kernelspec": {
   "display_name": "Python 3",
   "language": "python",
   "name": "python3"
  },
  "language_info": {
   "codemirror_mode": {
    "name": "ipython",
    "version": 3
   },
   "file_extension": ".py",
   "mimetype": "text/x-python",
   "name": "python",
   "nbconvert_exporter": "python",
   "pygments_lexer": "ipython3",
   "version": "3.6.8"
  }
 },
 "nbformat": 4,
 "nbformat_minor": 2
}
