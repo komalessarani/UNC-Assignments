{
 "cells": [
  {
   "cell_type": "markdown",
   "metadata": {},
   "source": [
    "# LCS Code\n",
    "\n",
    "Let's see how well the code matches the approach we sketched out..."
   ]
  },
  {
   "cell_type": "code",
   "execution_count": 2,
   "metadata": {},
   "outputs": [
    {
     "name": "stdout",
     "output_type": "stream",
     "text": [
      "   score = [0 0 0 0 0 0 0 0]        backtrack = [0 0 0 0 0 0 0 0]   \n",
      "           [0 1 1 1 1 1 1 1]                    [0 3 2 2 2 2 3 2]   \n",
      "           [0 1 2 2 2 2 2 2]                    [0 1 3 2 2 3 2 2]   \n",
      "           [0 1 2 2 3 3 3 3]                    [0 1 1 2 3 2 2 2]   \n",
      "           [0 1 2 2 3 4 4 4]                    [0 1 3 2 1 3 2 2]   \n",
      "           [0 1 2 2 3 4 4 4]                    [0 1 3 2 1 3 2 2]   \n",
      "           [0 1 2 2 3 4 5 5]                    [0 3 1 2 1 1 3 2]   \n",
      "           [0 1 2 2 3 4 5 5]                    [0 1 3 2 1 3 1 2]   \n"
     ]
    }
   ],
   "source": [
    "from numpy import *\n",
    "\n",
    "def findLCS(v, w):\n",
    "    score = zeros((len(v)+1,len(w)+1), dtype=\"int32\")\n",
    "    backt = zeros((len(v)+1,len(w)+1), dtype=\"int32\")\n",
    "    for i in range(1,len(v)+1):\n",
    "        for j in range(1,len(w)+1):\n",
    "            # find best score at each vertex\n",
    "            if (v[i-1] == w[j-1]):  # test for a match (\"diagonal street\")\n",
    "                score[i,j], backt[i,j] = max((score[i-1,j-1]+1,3), (score[i-1,j],1), (score[i,j-1],2))\n",
    "            else:\n",
    "                score[i,j], backt[i,j] = max((score[i-1,j],1), (score[i,j-1],2))\n",
    "    return score, backt\n",
    "\n",
    "v = \"ATGTTAT\"\n",
    "w = \"ATCGTAC\"\n",
    "s, b = findLCS(v,w)\n",
    "for i in range(len(s)):\n",
    "    print(\"%10s %-20s    %12s %-20s\" % ('' if i else 'score =', str(s[i]), '' if i else 'backtrack =', str(b[i])))"
   ]
  },
  {
   "cell_type": "markdown",
   "metadata": {},
   "source": [
    "# Code to extract an answer\n",
    "\n",
    "A simple recursive LCS() routine to return along the path of arrows that led to our best score."
   ]
  },
  {
   "cell_type": "code",
   "execution_count": 3,
   "metadata": {},
   "outputs": [
    {
     "name": "stdout",
     "output_type": "stream",
     "text": [
      "ATGTA\n"
     ]
    }
   ],
   "source": [
    "def LCS(b,v,i,j):\n",
    "    if ((i == 0) and (j == 0)):\n",
    "        return ''\n",
    "    elif (b[i,j] == 3):\n",
    "        return LCS(b,v,i-1,j-1) + v[i-1]\n",
    "    elif (b[i,j] == 2):\n",
    "        return LCS(b,v,i,j-1)\n",
    "    else:\n",
    "        return LCS(b,v,i-1,j)\n",
    "        \n",
    "print(LCS(b,v,b.shape[0]-1,b.shape[1]-1))"
   ]
  },
  {
   "cell_type": "markdown",
   "metadata": {},
   "source": [
    "# An alignment of v and w"
   ]
  },
  {
   "cell_type": "code",
   "execution_count": 4,
   "metadata": {},
   "outputs": [
    {
     "name": "stdout",
     "output_type": "stream",
     "text": [
      "v = AT_GTTAT_\n",
      "w = ATCG_TA_C\n"
     ]
    }
   ],
   "source": [
    "def Alignment(b,v,w,i,j):\n",
    "    if ((i == 0) and (j == 0)):\n",
    "        return ['','']\n",
    "    if (b[i,j] == 3):\n",
    "        result = Alignment(b,v,w,i-1,j-1)\n",
    "        result[0] += v[i-1]\n",
    "        result[1] += w[j-1]\n",
    "        return result\n",
    "    if (b[i,j] == 2):\n",
    "        result = Alignment(b,v,w,i,j-1)\n",
    "        result[0] += \"_\"\n",
    "        result[1] += w[j-1]\n",
    "        return result\n",
    "    if (b[i,j] == 1):\n",
    "        result = Alignment(b,v,w,i-1,j)\n",
    "        result[0] += v[i-1]\n",
    "        result[1] += \"_\"\n",
    "        return result\n",
    "\n",
    "align = Alignment(b,v,w,b.shape[0]-1,b.shape[1]-1)\n",
    "print(\"v =\", align[0])\n",
    "print(\"w =\", align[1])"
   ]
  }
 ],
 "metadata": {
  "kernelspec": {
   "display_name": "Python 3",
   "language": "python",
   "name": "python3"
  },
  "language_info": {
   "codemirror_mode": {
    "name": "ipython",
    "version": 3
   },
   "file_extension": ".py",
   "mimetype": "text/x-python",
   "name": "python",
   "nbconvert_exporter": "python",
   "pygments_lexer": "ipython3",
   "version": "3.7.4"
  }
 },
 "nbformat": 4,
 "nbformat_minor": 2
}
