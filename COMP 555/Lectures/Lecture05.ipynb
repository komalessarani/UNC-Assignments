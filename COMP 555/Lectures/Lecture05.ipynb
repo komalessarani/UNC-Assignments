{
 "cells": [
  {
   "cell_type": "markdown",
   "metadata": {},
   "source": [
    "## Consensus Scoring Function"
   ]
  },
  {
   "cell_type": "code",
   "execution_count": 1,
   "metadata": {},
   "outputs": [],
   "source": [
    "def Score(s, DNA, k):\n",
    "    \"\"\" \n",
    "        compute the consensus SCORE of a given k-mer \n",
    "        alignment given offsets into each DNA string.\n",
    "            s = list of starting indices, 1-based, 0 means ignore\n",
    "            DNA = list of nucleotide strings\n",
    "            k = Target Motif length\n",
    "    \"\"\"\n",
    "    score = 0\n",
    "    for i in range(k):\n",
    "        # loop over string positions\n",
    "        cnt = dict(zip(\"acgt\",(0,0,0,0)))\n",
    "        for j, sval in enumerate(s):\n",
    "            # loop over DNA strands\n",
    "            base = DNA[j][sval+i] \n",
    "            cnt[base] += 1\n",
    "        score += max(cnt.values())\n",
    "    return score"
   ]
  },
  {
   "cell_type": "markdown",
   "metadata": {},
   "source": [
    "## And here's the Score we're looking for..."
   ]
  },
  {
   "cell_type": "code",
   "execution_count": 4,
   "metadata": {},
   "outputs": [],
   "source": [
    "seqApprox = [\n",
    "    'tagtggtcttttgagtgtagatctgaagggaaagtatttccaccagttcggggtcacccagcagggcagggtgacttaat',\n",
    "    'cgcgactcggcgctcacagttatcgcacgtttagaccaaaacggagttggatccgaaactggagtttaatcggagtcctt',\n",
    "    'gttacttgtgagcctggttagacccgaaatataattgttggctgcatagcggagctgacatacgagtaggggaaatgcgt',\n",
    "    'aacatcaggctttgattaaacaatttaagcacgtaaatccgaattgacctgatgacaatacggaacatgccggctccggg',\n",
    "    'accaccggataggctgcttattaggtccaaaaggtagtatcgtaataatggctcagccatgtcaatgtgcggcattccac',\n",
    "    'tagattcgaatcgatcgtgtttctccctctgtgggttaacgaggggtccgaccttgctcgcatgtgccgaacttgtaccc',\n",
    "    'gaaatggttcggtgcgatatcaggccgttctcttaacttggcggtgcagatccgaacgtctctggaggggtcgtgcgcta',\n",
    "    'atgtatactagacattctaacgctcgcttattggcggagaccatttgctccactacaagaggctactgtgtagatccgta',\n",
    "    'ttcttacacccttctttagatccaaacctgttggcgccatcttcttttcgagtccttgtacctccatttgctctgatgac',\n",
    "    'ctacctatgtaaaacaacatctactaacgtagtccggtctttcctgatctgccctaacctacaggtcgatccgaaattcg']"
   ]
  },
  {
   "cell_type": "code",
   "execution_count": 3,
   "metadata": {},
   "outputs": [
    {
     "name": "stdout",
     "output_type": "stream",
     "text": [
      "89\n"
     ]
    }
   ],
   "source": [
    "print(Score([17, 47, 18, 33, 21, 0, 46, 70, 16, 65], seqApprox, 10))"
   ]
  },
  {
   "cell_type": "code",
   "execution_count": 4,
   "metadata": {},
   "outputs": [
    {
     "name": "stdout",
     "output_type": "stream",
     "text": [
      "39.2 µs ± 4.75 µs per loop (mean ± std. dev. of 7 runs, 10000 loops each)\n"
     ]
    }
   ],
   "source": [
    "%timeit Score([17, 47, 18, 33, 21, 0, 46, 70, 16, 65], seqApprox, 10)"
   ]
  },
  {
   "cell_type": "code",
   "execution_count": 8,
   "metadata": {},
   "outputs": [
    {
     "name": "stdout",
     "output_type": "stream",
     "text": [
      "250\n"
     ]
    }
   ],
   "source": [
    "print(len(\"CTTTGTCATCCTCCTTACTTATAGCAAGCAGTCGTCACCGGCTTGCTGAACCAACAGCTATCTGTACGGATTTGAGATTGCATAGGTGACTAATCTAACAGTGCTCATGACTGTCTTTCCGATTTTGATTGGCCTTGTGGTGTGCGTTACGTTGGTGACATATCCGTCTGTCGGATGTACTCTTTCGCAGATGTACACCGCTGATCCTCGTTGCAGCGAGTTATGTTACGTGGGGAAGTGAGCAAGTACT\"))"
   ]
  },
  {
   "cell_type": "markdown",
   "metadata": {},
   "source": [
    "## Recursive Exploration of a Search Tree"
   ]
  },
  {
   "cell_type": "code",
   "execution_count": 13,
   "metadata": {},
   "outputs": [],
   "source": [
    "bestAlignment = []\n",
    "prunedPaths = 0\n",
    "\n",
    "def exploreMotifs(DNA,k,path,bestScore):\n",
    "    \"\"\" Search for a k-length motif in the list of DNA sequences by exploring\n",
    "        all paths in a search tree. Each call extends path by one. Once the\n",
    "        path reaches the number of DNA strings a score is computed. \"\"\"\n",
    "    global bestAlignment, prunedPaths\n",
    "    depth = len(path)\n",
    "    M = len(DNA)\n",
    "    if (depth == M):            # here we have an index in all M sequences\n",
    "        s = Score(path,DNA,k)\n",
    "        if (s > bestScore):\n",
    "            bestAlignment = [p for p in path]\n",
    "            return s\n",
    "        else:\n",
    "            return bestScore\n",
    "    else:\n",
    "        # Let's consider if an optimistic best score can beat the best score so far\n",
    "        if (depth > 1):\n",
    "            OptimisticScore = k*(M-depth) + Score(path,DNA,k)\n",
    "        else:\n",
    "            OptimisticScore = k*M\n",
    "        if (OptimisticScore < bestScore):\n",
    "            prunedPaths = prunedPaths + 1\n",
    "            return bestScore\n",
    "        else:\n",
    "            for s in range(len(DNA[depth])-k+1):\n",
    "                newPath = tuple([i for i in path] + [s])\n",
    "                bestScore = exploreMotifs(DNA,k,newPath,bestScore)\n",
    "            return bestScore"
   ]
  },
  {
   "cell_type": "code",
   "execution_count": 35,
   "metadata": {},
   "outputs": [],
   "source": [
    "def ContainedMotifSearch(DNA,k):\n",
    "    \"\"\" Consider only motifs from the given DNA sequences\"\"\"\n",
    "    motifSet = set()\n",
    "    for seq in DNA:\n",
    "        for i in range(len(seq)-k+1):\n",
    "            motifSet.add(seq[i:i+k])\n",
    "    print(\"%d Motifs in our set\" % len(motifSet))\n",
    "    bestAlignment = []\n",
    "    minHammingDist = k*len(DNA)\n",
    "    kmer = ''\n",
    "    for motif in motifSet:\n",
    "        align, dist = ScanAndScoreMotif(DNA, motif, minHammingDist)\n",
    "        if (dist < minHammingDist):\n",
    "            bestAlignment = [s for s in align]\n",
    "            minHammingDist = dist\n",
    "            kmer = motif\n",
    "    return bestAlignment, minHammingDist, kmer  "
   ]
  },
  {
   "cell_type": "code",
   "execution_count": 36,
   "metadata": {},
   "outputs": [
    {
     "name": "stdout",
     "output_type": "stream",
     "text": [
      "G\n",
      "T\n",
      "C\n",
      "A\n",
      "T\n",
      "C\n",
      "C\n",
      "T\n",
      "C\n",
      "C\n",
      "T\n",
      "T\n",
      "A\n",
      "C\n",
      "T\n",
      "T\n",
      "A\n",
      "T\n",
      "A\n",
      "G\n",
      "C\n",
      "A\n",
      "A\n",
      "G\n",
      "C\n",
      "A\n",
      "G\n",
      "T\n",
      "C\n",
      "G\n",
      "T\n",
      "C\n",
      "A\n",
      "C\n",
      "C\n",
      "G\n",
      "G\n",
      "C\n",
      "T\n",
      "T\n",
      "G\n",
      "C\n",
      "T\n",
      "G\n",
      "A\n",
      "A\n",
      "C\n",
      "C\n",
      "A\n",
      "A\n",
      "C\n",
      "A\n",
      "G\n",
      "C\n",
      "T\n",
      "A\n",
      "T\n",
      "C\n",
      "T\n",
      "G\n",
      "T\n",
      "A\n",
      "C\n",
      "G\n",
      "G\n",
      "A\n",
      "T\n",
      "T\n",
      "T\n",
      "G\n",
      "A\n",
      "G\n",
      "A\n",
      "T\n",
      "T\n",
      "G\n",
      "C\n",
      "A\n",
      "T\n",
      "A\n",
      "G\n",
      "G\n",
      "T\n",
      "G\n",
      "A\n",
      "C\n",
      "T\n",
      "A\n",
      "A\n",
      "T\n",
      "C\n",
      "T\n",
      "A\n",
      "A\n",
      "C\n",
      "A\n",
      "G\n",
      "T\n",
      "G\n",
      "C\n",
      "T\n",
      "C\n",
      "A\n",
      "T\n",
      "G\n",
      "A\n",
      "C\n",
      "T\n",
      "G\n",
      "T\n",
      "C\n",
      "T\n",
      "T\n",
      "T\n",
      "C\n",
      "C\n",
      "G\n",
      "A\n",
      "T\n",
      "T\n",
      "T\n",
      "T\n",
      "G\n",
      "A\n",
      "T\n",
      "T\n",
      "G\n",
      "G\n",
      "C\n",
      "C\n",
      "T\n",
      "T\n",
      "G\n",
      "T\n",
      "G\n",
      "G\n",
      "T\n",
      "G\n",
      "T\n",
      "G\n",
      "C\n",
      "G\n",
      "T\n",
      "T\n",
      "A\n",
      "C\n",
      "G\n",
      "T\n",
      "T\n",
      "G\n",
      "G\n",
      "T\n",
      "G\n",
      "A\n",
      "C\n",
      "A\n",
      "T\n",
      "A\n",
      "T\n",
      "C\n",
      "C\n",
      "G\n",
      "T\n",
      "C\n",
      "T\n",
      "G\n",
      "T\n",
      "C\n",
      "G\n",
      "G\n",
      "A\n",
      "T\n",
      "G\n",
      "T\n",
      "A\n",
      "C\n",
      "T\n",
      "C\n",
      "T\n",
      "T\n",
      "T\n",
      "C\n",
      "G\n",
      "C\n",
      "A\n",
      "G\n",
      "A\n",
      "T\n",
      "G\n",
      "T\n",
      "A\n",
      "C\n",
      "A\n",
      "C\n",
      "C\n",
      "G\n",
      "C\n",
      "T\n",
      "G\n",
      "A\n",
      "T\n",
      "C\n",
      "C\n",
      "T\n",
      "C\n",
      "G\n",
      "T\n",
      "T\n",
      "G\n",
      "C\n",
      "A\n",
      "G\n",
      "C\n",
      "G\n",
      "A\n",
      "G\n",
      "T\n",
      "T\n",
      "A\n",
      "T\n",
      "G\n",
      "T\n",
      "T\n",
      "A\n",
      "C\n",
      "G\n",
      "T\n",
      "G\n",
      "G\n",
      "G\n",
      "G\n",
      "A\n",
      "A\n",
      "G\n",
      "T\n",
      "G\n",
      "A\n",
      "G\n",
      "C\n",
      "A\n",
      "A\n",
      "G\n",
      "T\n",
      "A\n",
      "C\n",
      "T\n"
     ]
    },
    {
     "ename": "IndexError",
     "evalue": "string index out of range",
     "output_type": "error",
     "traceback": [
      "\u001b[1;31m---------------------------------------------------------------------------\u001b[0m",
      "\u001b[1;31mIndexError\u001b[0m                                Traceback (most recent call last)",
      "\u001b[1;32m<ipython-input-36-c74dcab82590>\u001b[0m in \u001b[0;36m<module>\u001b[1;34m\u001b[0m\n\u001b[0;32m      1\u001b[0m \u001b[0mdna\u001b[0m \u001b[1;33m=\u001b[0m \u001b[0mloadFasta\u001b[0m\u001b[1;33m(\u001b[0m\u001b[1;34m\"../PS2/motifs.fa\"\u001b[0m\u001b[1;33m)\u001b[0m\u001b[1;33m[\u001b[0m\u001b[1;36m1\u001b[0m\u001b[1;33m]\u001b[0m\u001b[1;33m\u001b[0m\u001b[1;33m\u001b[0m\u001b[0m\n\u001b[1;32m----> 2\u001b[1;33m \u001b[0mContainedMotifSearch\u001b[0m\u001b[1;33m(\u001b[0m\u001b[0mdna\u001b[0m\u001b[1;33m,\u001b[0m \u001b[1;36m5\u001b[0m\u001b[1;33m)\u001b[0m\u001b[1;33m\u001b[0m\u001b[1;33m\u001b[0m\u001b[0m\n\u001b[0m",
      "\u001b[1;32m<ipython-input-35-90ae61866049>\u001b[0m in \u001b[0;36mContainedMotifSearch\u001b[1;34m(DNA, k)\u001b[0m\n\u001b[0;32m      5\u001b[0m         \u001b[1;32mfor\u001b[0m \u001b[0mi\u001b[0m \u001b[1;32min\u001b[0m \u001b[0mrange\u001b[0m\u001b[1;33m(\u001b[0m\u001b[0mlen\u001b[0m\u001b[1;33m(\u001b[0m\u001b[0mseq\u001b[0m\u001b[1;33m)\u001b[0m\u001b[1;33m-\u001b[0m\u001b[0mk\u001b[0m\u001b[1;33m+\u001b[0m\u001b[1;36m1\u001b[0m\u001b[1;33m)\u001b[0m\u001b[1;33m:\u001b[0m\u001b[1;33m\u001b[0m\u001b[1;33m\u001b[0m\u001b[0m\n\u001b[0;32m      6\u001b[0m             \u001b[0mmotifSet\u001b[0m\u001b[1;33m.\u001b[0m\u001b[0madd\u001b[0m\u001b[1;33m(\u001b[0m\u001b[0mseq\u001b[0m\u001b[1;33m[\u001b[0m\u001b[0mi\u001b[0m\u001b[1;33m:\u001b[0m\u001b[0mi\u001b[0m\u001b[1;33m+\u001b[0m\u001b[0mk\u001b[0m\u001b[1;33m]\u001b[0m\u001b[1;33m)\u001b[0m\u001b[1;33m\u001b[0m\u001b[1;33m\u001b[0m\u001b[0m\n\u001b[1;32m----> 7\u001b[1;33m             \u001b[0mprint\u001b[0m\u001b[1;33m(\u001b[0m\u001b[0mseq\u001b[0m\u001b[1;33m[\u001b[0m\u001b[0mi\u001b[0m\u001b[1;33m+\u001b[0m\u001b[0mk\u001b[0m\u001b[1;33m]\u001b[0m\u001b[1;33m)\u001b[0m\u001b[1;33m\u001b[0m\u001b[1;33m\u001b[0m\u001b[0m\n\u001b[0m\u001b[0;32m      8\u001b[0m     \u001b[0mprint\u001b[0m\u001b[1;33m(\u001b[0m\u001b[1;34m\"%d Motifs in our set\"\u001b[0m \u001b[1;33m%\u001b[0m \u001b[0mlen\u001b[0m\u001b[1;33m(\u001b[0m\u001b[0mmotifSet\u001b[0m\u001b[1;33m)\u001b[0m\u001b[1;33m)\u001b[0m\u001b[1;33m\u001b[0m\u001b[1;33m\u001b[0m\u001b[0m\n\u001b[0;32m      9\u001b[0m     \u001b[0mbestAlignment\u001b[0m \u001b[1;33m=\u001b[0m \u001b[1;33m[\u001b[0m\u001b[1;33m]\u001b[0m\u001b[1;33m\u001b[0m\u001b[1;33m\u001b[0m\u001b[0m\n",
      "\u001b[1;31mIndexError\u001b[0m: string index out of range"
     ]
    }
   ],
   "source": [
    "dna = loadFasta(\"../PS2/motifs.fa\")[1]\n",
    "ContainedMotifSearch(dna, 5)"
   ]
  },
  {
   "cell_type": "markdown",
   "metadata": {},
   "source": [
    "## Let's try it"
   ]
  },
  {
   "cell_type": "code",
   "execution_count": 46,
   "metadata": {},
   "outputs": [
    {
     "ename": "KeyboardInterrupt",
     "evalue": "",
     "output_type": "error",
     "traceback": [
      "\u001b[1;31m---------------------------------------------------------------------------\u001b[0m",
      "\u001b[1;31mKeyboardInterrupt\u001b[0m                         Traceback (most recent call last)",
      "\u001b[1;32m<timed eval>\u001b[0m in \u001b[0;36m<module>\u001b[1;34m\u001b[0m\n",
      "\u001b[1;32m<ipython-input-46-59e9fc429605>\u001b[0m in \u001b[0;36mBranchAndBoundMotifSearch\u001b[1;34m(DNA, k)\u001b[0m\n\u001b[0;32m      5\u001b[0m     \u001b[0mprunedPaths\u001b[0m \u001b[1;33m=\u001b[0m \u001b[1;36m0\u001b[0m\u001b[1;33m\u001b[0m\u001b[1;33m\u001b[0m\u001b[0m\n\u001b[0;32m      6\u001b[0m     \u001b[0mbestScore\u001b[0m \u001b[1;33m=\u001b[0m \u001b[1;36m0\u001b[0m\u001b[1;33m\u001b[0m\u001b[1;33m\u001b[0m\u001b[0m\n\u001b[1;32m----> 7\u001b[1;33m     \u001b[0mbestScore\u001b[0m \u001b[1;33m=\u001b[0m \u001b[0mexploreMotifs\u001b[0m\u001b[1;33m(\u001b[0m\u001b[0mDNA\u001b[0m\u001b[1;33m,\u001b[0m\u001b[0mk\u001b[0m\u001b[1;33m,\u001b[0m\u001b[1;33m[\u001b[0m\u001b[1;33m]\u001b[0m\u001b[1;33m,\u001b[0m\u001b[0mbestScore\u001b[0m\u001b[1;33m)\u001b[0m\u001b[1;33m\u001b[0m\u001b[1;33m\u001b[0m\u001b[0m\n\u001b[0m\u001b[0;32m      8\u001b[0m     \u001b[0mprint\u001b[0m\u001b[1;33m(\u001b[0m\u001b[0mbestAlignment\u001b[0m\u001b[1;33m,\u001b[0m \u001b[0mbestScore\u001b[0m\u001b[1;33m,\u001b[0m \u001b[0mprunedPaths\u001b[0m\u001b[1;33m)\u001b[0m\u001b[1;33m\u001b[0m\u001b[1;33m\u001b[0m\u001b[0m\n\u001b[0;32m      9\u001b[0m \u001b[1;33m\u001b[0m\u001b[0m\n",
      "\u001b[1;32m<ipython-input-45-eadf537d6609>\u001b[0m in \u001b[0;36mexploreMotifs\u001b[1;34m(DNA, k, path, bestScore)\u001b[0m\n\u001b[0;32m     28\u001b[0m             \u001b[1;32mfor\u001b[0m \u001b[0ms\u001b[0m \u001b[1;32min\u001b[0m \u001b[0mrange\u001b[0m\u001b[1;33m(\u001b[0m\u001b[0mlen\u001b[0m\u001b[1;33m(\u001b[0m\u001b[0mDNA\u001b[0m\u001b[1;33m[\u001b[0m\u001b[0mdepth\u001b[0m\u001b[1;33m]\u001b[0m\u001b[1;33m)\u001b[0m\u001b[1;33m-\u001b[0m\u001b[0mk\u001b[0m\u001b[1;33m+\u001b[0m\u001b[1;36m1\u001b[0m\u001b[1;33m)\u001b[0m\u001b[1;33m:\u001b[0m\u001b[1;33m\u001b[0m\u001b[1;33m\u001b[0m\u001b[0m\n\u001b[0;32m     29\u001b[0m                 \u001b[0mnewPath\u001b[0m \u001b[1;33m=\u001b[0m \u001b[0mtuple\u001b[0m\u001b[1;33m(\u001b[0m\u001b[1;33m[\u001b[0m\u001b[0mi\u001b[0m \u001b[1;32mfor\u001b[0m \u001b[0mi\u001b[0m \u001b[1;32min\u001b[0m \u001b[0mpath\u001b[0m\u001b[1;33m]\u001b[0m \u001b[1;33m+\u001b[0m \u001b[1;33m[\u001b[0m\u001b[0ms\u001b[0m\u001b[1;33m]\u001b[0m\u001b[1;33m)\u001b[0m\u001b[1;33m\u001b[0m\u001b[1;33m\u001b[0m\u001b[0m\n\u001b[1;32m---> 30\u001b[1;33m                 \u001b[0mbestScore\u001b[0m \u001b[1;33m=\u001b[0m \u001b[0mexploreMotifs\u001b[0m\u001b[1;33m(\u001b[0m\u001b[0mDNA\u001b[0m\u001b[1;33m,\u001b[0m\u001b[0mk\u001b[0m\u001b[1;33m,\u001b[0m\u001b[0mnewPath\u001b[0m\u001b[1;33m,\u001b[0m\u001b[0mbestScore\u001b[0m\u001b[1;33m)\u001b[0m\u001b[1;33m\u001b[0m\u001b[1;33m\u001b[0m\u001b[0m\n\u001b[0m\u001b[0;32m     31\u001b[0m             \u001b[1;32mreturn\u001b[0m \u001b[0mbestScore\u001b[0m\u001b[1;33m\u001b[0m\u001b[1;33m\u001b[0m\u001b[0m\n",
      "\u001b[1;32m<ipython-input-45-eadf537d6609>\u001b[0m in \u001b[0;36mexploreMotifs\u001b[1;34m(DNA, k, path, bestScore)\u001b[0m\n\u001b[0;32m     28\u001b[0m             \u001b[1;32mfor\u001b[0m \u001b[0ms\u001b[0m \u001b[1;32min\u001b[0m \u001b[0mrange\u001b[0m\u001b[1;33m(\u001b[0m\u001b[0mlen\u001b[0m\u001b[1;33m(\u001b[0m\u001b[0mDNA\u001b[0m\u001b[1;33m[\u001b[0m\u001b[0mdepth\u001b[0m\u001b[1;33m]\u001b[0m\u001b[1;33m)\u001b[0m\u001b[1;33m-\u001b[0m\u001b[0mk\u001b[0m\u001b[1;33m+\u001b[0m\u001b[1;36m1\u001b[0m\u001b[1;33m)\u001b[0m\u001b[1;33m:\u001b[0m\u001b[1;33m\u001b[0m\u001b[1;33m\u001b[0m\u001b[0m\n\u001b[0;32m     29\u001b[0m                 \u001b[0mnewPath\u001b[0m \u001b[1;33m=\u001b[0m \u001b[0mtuple\u001b[0m\u001b[1;33m(\u001b[0m\u001b[1;33m[\u001b[0m\u001b[0mi\u001b[0m \u001b[1;32mfor\u001b[0m \u001b[0mi\u001b[0m \u001b[1;32min\u001b[0m \u001b[0mpath\u001b[0m\u001b[1;33m]\u001b[0m \u001b[1;33m+\u001b[0m \u001b[1;33m[\u001b[0m\u001b[0ms\u001b[0m\u001b[1;33m]\u001b[0m\u001b[1;33m)\u001b[0m\u001b[1;33m\u001b[0m\u001b[1;33m\u001b[0m\u001b[0m\n\u001b[1;32m---> 30\u001b[1;33m                 \u001b[0mbestScore\u001b[0m \u001b[1;33m=\u001b[0m \u001b[0mexploreMotifs\u001b[0m\u001b[1;33m(\u001b[0m\u001b[0mDNA\u001b[0m\u001b[1;33m,\u001b[0m\u001b[0mk\u001b[0m\u001b[1;33m,\u001b[0m\u001b[0mnewPath\u001b[0m\u001b[1;33m,\u001b[0m\u001b[0mbestScore\u001b[0m\u001b[1;33m)\u001b[0m\u001b[1;33m\u001b[0m\u001b[1;33m\u001b[0m\u001b[0m\n\u001b[0m\u001b[0;32m     31\u001b[0m             \u001b[1;32mreturn\u001b[0m \u001b[0mbestScore\u001b[0m\u001b[1;33m\u001b[0m\u001b[1;33m\u001b[0m\u001b[0m\n",
      "\u001b[1;32m<ipython-input-45-eadf537d6609>\u001b[0m in \u001b[0;36mexploreMotifs\u001b[1;34m(DNA, k, path, bestScore)\u001b[0m\n\u001b[0;32m     28\u001b[0m             \u001b[1;32mfor\u001b[0m \u001b[0ms\u001b[0m \u001b[1;32min\u001b[0m \u001b[0mrange\u001b[0m\u001b[1;33m(\u001b[0m\u001b[0mlen\u001b[0m\u001b[1;33m(\u001b[0m\u001b[0mDNA\u001b[0m\u001b[1;33m[\u001b[0m\u001b[0mdepth\u001b[0m\u001b[1;33m]\u001b[0m\u001b[1;33m)\u001b[0m\u001b[1;33m-\u001b[0m\u001b[0mk\u001b[0m\u001b[1;33m+\u001b[0m\u001b[1;36m1\u001b[0m\u001b[1;33m)\u001b[0m\u001b[1;33m:\u001b[0m\u001b[1;33m\u001b[0m\u001b[1;33m\u001b[0m\u001b[0m\n\u001b[0;32m     29\u001b[0m                 \u001b[0mnewPath\u001b[0m \u001b[1;33m=\u001b[0m \u001b[0mtuple\u001b[0m\u001b[1;33m(\u001b[0m\u001b[1;33m[\u001b[0m\u001b[0mi\u001b[0m \u001b[1;32mfor\u001b[0m \u001b[0mi\u001b[0m \u001b[1;32min\u001b[0m \u001b[0mpath\u001b[0m\u001b[1;33m]\u001b[0m \u001b[1;33m+\u001b[0m \u001b[1;33m[\u001b[0m\u001b[0ms\u001b[0m\u001b[1;33m]\u001b[0m\u001b[1;33m)\u001b[0m\u001b[1;33m\u001b[0m\u001b[1;33m\u001b[0m\u001b[0m\n\u001b[1;32m---> 30\u001b[1;33m                 \u001b[0mbestScore\u001b[0m \u001b[1;33m=\u001b[0m \u001b[0mexploreMotifs\u001b[0m\u001b[1;33m(\u001b[0m\u001b[0mDNA\u001b[0m\u001b[1;33m,\u001b[0m\u001b[0mk\u001b[0m\u001b[1;33m,\u001b[0m\u001b[0mnewPath\u001b[0m\u001b[1;33m,\u001b[0m\u001b[0mbestScore\u001b[0m\u001b[1;33m)\u001b[0m\u001b[1;33m\u001b[0m\u001b[1;33m\u001b[0m\u001b[0m\n\u001b[0m\u001b[0;32m     31\u001b[0m             \u001b[1;32mreturn\u001b[0m \u001b[0mbestScore\u001b[0m\u001b[1;33m\u001b[0m\u001b[1;33m\u001b[0m\u001b[0m\n",
      "\u001b[1;32m<ipython-input-45-eadf537d6609>\u001b[0m in \u001b[0;36mexploreMotifs\u001b[1;34m(DNA, k, path, bestScore)\u001b[0m\n\u001b[0;32m     28\u001b[0m             \u001b[1;32mfor\u001b[0m \u001b[0ms\u001b[0m \u001b[1;32min\u001b[0m \u001b[0mrange\u001b[0m\u001b[1;33m(\u001b[0m\u001b[0mlen\u001b[0m\u001b[1;33m(\u001b[0m\u001b[0mDNA\u001b[0m\u001b[1;33m[\u001b[0m\u001b[0mdepth\u001b[0m\u001b[1;33m]\u001b[0m\u001b[1;33m)\u001b[0m\u001b[1;33m-\u001b[0m\u001b[0mk\u001b[0m\u001b[1;33m+\u001b[0m\u001b[1;36m1\u001b[0m\u001b[1;33m)\u001b[0m\u001b[1;33m:\u001b[0m\u001b[1;33m\u001b[0m\u001b[1;33m\u001b[0m\u001b[0m\n\u001b[0;32m     29\u001b[0m                 \u001b[0mnewPath\u001b[0m \u001b[1;33m=\u001b[0m \u001b[0mtuple\u001b[0m\u001b[1;33m(\u001b[0m\u001b[1;33m[\u001b[0m\u001b[0mi\u001b[0m \u001b[1;32mfor\u001b[0m \u001b[0mi\u001b[0m \u001b[1;32min\u001b[0m \u001b[0mpath\u001b[0m\u001b[1;33m]\u001b[0m \u001b[1;33m+\u001b[0m \u001b[1;33m[\u001b[0m\u001b[0ms\u001b[0m\u001b[1;33m]\u001b[0m\u001b[1;33m)\u001b[0m\u001b[1;33m\u001b[0m\u001b[1;33m\u001b[0m\u001b[0m\n\u001b[1;32m---> 30\u001b[1;33m                 \u001b[0mbestScore\u001b[0m \u001b[1;33m=\u001b[0m \u001b[0mexploreMotifs\u001b[0m\u001b[1;33m(\u001b[0m\u001b[0mDNA\u001b[0m\u001b[1;33m,\u001b[0m\u001b[0mk\u001b[0m\u001b[1;33m,\u001b[0m\u001b[0mnewPath\u001b[0m\u001b[1;33m,\u001b[0m\u001b[0mbestScore\u001b[0m\u001b[1;33m)\u001b[0m\u001b[1;33m\u001b[0m\u001b[1;33m\u001b[0m\u001b[0m\n\u001b[0m\u001b[0;32m     31\u001b[0m             \u001b[1;32mreturn\u001b[0m \u001b[0mbestScore\u001b[0m\u001b[1;33m\u001b[0m\u001b[1;33m\u001b[0m\u001b[0m\n",
      "\u001b[1;32m<ipython-input-45-eadf537d6609>\u001b[0m in \u001b[0;36mexploreMotifs\u001b[1;34m(DNA, k, path, bestScore)\u001b[0m\n\u001b[0;32m     28\u001b[0m             \u001b[1;32mfor\u001b[0m \u001b[0ms\u001b[0m \u001b[1;32min\u001b[0m \u001b[0mrange\u001b[0m\u001b[1;33m(\u001b[0m\u001b[0mlen\u001b[0m\u001b[1;33m(\u001b[0m\u001b[0mDNA\u001b[0m\u001b[1;33m[\u001b[0m\u001b[0mdepth\u001b[0m\u001b[1;33m]\u001b[0m\u001b[1;33m)\u001b[0m\u001b[1;33m-\u001b[0m\u001b[0mk\u001b[0m\u001b[1;33m+\u001b[0m\u001b[1;36m1\u001b[0m\u001b[1;33m)\u001b[0m\u001b[1;33m:\u001b[0m\u001b[1;33m\u001b[0m\u001b[1;33m\u001b[0m\u001b[0m\n\u001b[0;32m     29\u001b[0m                 \u001b[0mnewPath\u001b[0m \u001b[1;33m=\u001b[0m \u001b[0mtuple\u001b[0m\u001b[1;33m(\u001b[0m\u001b[1;33m[\u001b[0m\u001b[0mi\u001b[0m \u001b[1;32mfor\u001b[0m \u001b[0mi\u001b[0m \u001b[1;32min\u001b[0m \u001b[0mpath\u001b[0m\u001b[1;33m]\u001b[0m \u001b[1;33m+\u001b[0m \u001b[1;33m[\u001b[0m\u001b[0ms\u001b[0m\u001b[1;33m]\u001b[0m\u001b[1;33m)\u001b[0m\u001b[1;33m\u001b[0m\u001b[1;33m\u001b[0m\u001b[0m\n\u001b[1;32m---> 30\u001b[1;33m                 \u001b[0mbestScore\u001b[0m \u001b[1;33m=\u001b[0m \u001b[0mexploreMotifs\u001b[0m\u001b[1;33m(\u001b[0m\u001b[0mDNA\u001b[0m\u001b[1;33m,\u001b[0m\u001b[0mk\u001b[0m\u001b[1;33m,\u001b[0m\u001b[0mnewPath\u001b[0m\u001b[1;33m,\u001b[0m\u001b[0mbestScore\u001b[0m\u001b[1;33m)\u001b[0m\u001b[1;33m\u001b[0m\u001b[1;33m\u001b[0m\u001b[0m\n\u001b[0m\u001b[0;32m     31\u001b[0m             \u001b[1;32mreturn\u001b[0m \u001b[0mbestScore\u001b[0m\u001b[1;33m\u001b[0m\u001b[1;33m\u001b[0m\u001b[0m\n",
      "\u001b[1;32m<ipython-input-45-eadf537d6609>\u001b[0m in \u001b[0;36mexploreMotifs\u001b[1;34m(DNA, k, path, bestScore)\u001b[0m\n\u001b[0;32m     19\u001b[0m         \u001b[1;31m# Let's consider if an optimistic best score can beat the best score so far\u001b[0m\u001b[1;33m\u001b[0m\u001b[1;33m\u001b[0m\u001b[1;33m\u001b[0m\u001b[0m\n\u001b[0;32m     20\u001b[0m         \u001b[1;32mif\u001b[0m \u001b[1;33m(\u001b[0m\u001b[0mdepth\u001b[0m \u001b[1;33m>\u001b[0m \u001b[1;36m1\u001b[0m\u001b[1;33m)\u001b[0m\u001b[1;33m:\u001b[0m\u001b[1;33m\u001b[0m\u001b[1;33m\u001b[0m\u001b[0m\n\u001b[1;32m---> 21\u001b[1;33m             \u001b[0mOptimisticScore\u001b[0m \u001b[1;33m=\u001b[0m \u001b[0mk\u001b[0m\u001b[1;33m*\u001b[0m\u001b[1;33m(\u001b[0m\u001b[0mM\u001b[0m\u001b[1;33m-\u001b[0m\u001b[0mdepth\u001b[0m\u001b[1;33m)\u001b[0m \u001b[1;33m+\u001b[0m \u001b[0mScore\u001b[0m\u001b[1;33m(\u001b[0m\u001b[0mpath\u001b[0m\u001b[1;33m,\u001b[0m\u001b[0mDNA\u001b[0m\u001b[1;33m,\u001b[0m\u001b[0mk\u001b[0m\u001b[1;33m)\u001b[0m\u001b[1;33m\u001b[0m\u001b[1;33m\u001b[0m\u001b[0m\n\u001b[0m\u001b[0;32m     22\u001b[0m         \u001b[1;32melse\u001b[0m\u001b[1;33m:\u001b[0m\u001b[1;33m\u001b[0m\u001b[1;33m\u001b[0m\u001b[0m\n\u001b[0;32m     23\u001b[0m             \u001b[0mOptimisticScore\u001b[0m \u001b[1;33m=\u001b[0m \u001b[0mk\u001b[0m\u001b[1;33m*\u001b[0m\u001b[0mM\u001b[0m\u001b[1;33m\u001b[0m\u001b[1;33m\u001b[0m\u001b[0m\n",
      "\u001b[1;32m<ipython-input-1-1855d54ced4c>\u001b[0m in \u001b[0;36mScore\u001b[1;34m(s, DNA, k)\u001b[0m\n\u001b[0;32m     15\u001b[0m             \u001b[0mbase\u001b[0m \u001b[1;33m=\u001b[0m \u001b[0mDNA\u001b[0m\u001b[1;33m[\u001b[0m\u001b[0mj\u001b[0m\u001b[1;33m]\u001b[0m\u001b[1;33m[\u001b[0m\u001b[0msval\u001b[0m\u001b[1;33m+\u001b[0m\u001b[0mi\u001b[0m\u001b[1;33m]\u001b[0m\u001b[1;33m\u001b[0m\u001b[1;33m\u001b[0m\u001b[0m\n\u001b[0;32m     16\u001b[0m             \u001b[0mcnt\u001b[0m\u001b[1;33m[\u001b[0m\u001b[0mbase\u001b[0m\u001b[1;33m]\u001b[0m \u001b[1;33m+=\u001b[0m \u001b[1;36m1\u001b[0m\u001b[1;33m\u001b[0m\u001b[1;33m\u001b[0m\u001b[0m\n\u001b[1;32m---> 17\u001b[1;33m         \u001b[0mscore\u001b[0m \u001b[1;33m+=\u001b[0m \u001b[0mmax\u001b[0m\u001b[1;33m(\u001b[0m\u001b[0mcnt\u001b[0m\u001b[1;33m.\u001b[0m\u001b[0mvalues\u001b[0m\u001b[1;33m(\u001b[0m\u001b[1;33m)\u001b[0m\u001b[1;33m)\u001b[0m\u001b[1;33m\u001b[0m\u001b[1;33m\u001b[0m\u001b[0m\n\u001b[0m\u001b[0;32m     18\u001b[0m     \u001b[1;32mreturn\u001b[0m \u001b[0mscore\u001b[0m\u001b[1;33m\u001b[0m\u001b[1;33m\u001b[0m\u001b[0m\n",
      "\u001b[1;31mKeyboardInterrupt\u001b[0m: "
     ]
    }
   ],
   "source": [
    "def BranchAndBoundMotifSearch(DNA, k):\n",
    "    \"\"\" Finds a k-length motif within a list of DNA sequences\"\"\"\n",
    "    global bestAlignment, prunedPaths\n",
    "    bestAlignment = []\n",
    "    prunedPaths = 0\n",
    "    bestScore = 0\n",
    "    bestScore = exploreMotifs(DNA,k,[],bestScore)\n",
    "    print(bestAlignment, bestScore, prunedPaths)\n",
    "\n",
    "%time BranchAndBoundMotifSearch(seqApprox[0:6], 10)"
   ]
  },
  {
   "cell_type": "markdown",
   "metadata": {},
   "source": [
    "## Scanning-and-Scoring a Motif"
   ]
  },
  {
   "cell_type": "code",
   "execution_count": 7,
   "metadata": {},
   "outputs": [],
   "source": [
    "def ScanAndScoreMotif(DNA, motif):\n",
    "    totalDist = 0\n",
    "    bestAlignment = []\n",
    "    k = len(motif)\n",
    "    for seq in DNA:\n",
    "        minHammingDist = k+1\n",
    "        for s in range(len(seq)-k+1):\n",
    "            HammingDist = sum([1 for i in range(k) if motif[i] != seq[s+i]])\n",
    "            if (HammingDist < minHammingDist):\n",
    "                bestS = s\n",
    "                minHammingDist = HammingDist\n",
    "        bestAlignment.append(bestS)\n",
    "        totalDist += minHammingDist\n",
    "    return bestAlignment, totalDist"
   ]
  },
  {
   "cell_type": "code",
   "execution_count": 9,
   "metadata": {},
   "outputs": [
    {
     "name": "stdout",
     "output_type": "stream",
     "text": [
      "([17, 47, 18, 33, 21, 0, 46, 70, 16, 65], 11)\n",
      "1.45 ms ± 24 µs per loop (mean ± std. dev. of 7 runs, 1000 loops each)\n"
     ]
    }
   ],
   "source": [
    "print(ScanAndScoreMotif(seqApprox, \"tagatccgaa\"))\n",
    "%timeit ScanAndScoreMotif(seqApprox, \"tagatccgaa\")"
   ]
  },
  {
   "cell_type": "markdown",
   "metadata": {},
   "source": [
    "## Let's do it"
   ]
  },
  {
   "cell_type": "code",
   "execution_count": null,
   "metadata": {},
   "outputs": [],
   "source": [
    "import itertools\n",
    "\n",
    "def MedianStringMotifSearch(DNA,k):\n",
    "    \"\"\" Consider all possible 4**k motifs\"\"\"\n",
    "    bestAlignment = []\n",
    "    minHammingDist = k*len(DNA)\n",
    "    kmer = ''\n",
    "    for pattern in itertools.product('acgt', repeat=k):\n",
    "        motif = ''.join(pattern)\n",
    "        align, dist = ScanAndScoreMotif(DNA, motif)\n",
    "        if (dist < minHammingDist):\n",
    "            bestAlignment = [p for p in align]\n",
    "            minHammingDist = dist\n",
    "            kmer = motif\n",
    "    return bestAlignment, minHammingDist, kmer\n",
    "\n",
    "%time MedianStringMotifSearch(seqApprox,10)"
   ]
  },
  {
   "cell_type": "markdown",
   "metadata": {},
   "source": [
    "# Let's consider only Motifs seen in the DNA"
   ]
  },
  {
   "cell_type": "code",
   "execution_count": 39,
   "metadata": {},
   "outputs": [
    {
     "name": "stdout",
     "output_type": "stream",
     "text": [
      "709 Motifs in our set\n",
      "CPU times: user 771 ms, sys: 0 ns, total: 771 ms\n",
      "Wall time: 769 ms\n"
     ]
    },
    {
     "data": {
      "text/plain": [
       "([17, 31, 18, 33, 21, 0, 46, 70, 16, 65], 17, 'tagatccaaa')"
      ]
     },
     "execution_count": 39,
     "metadata": {},
     "output_type": "execute_result"
    }
   ],
   "source": [
    "def ContainedMotifSearch(DNA,k):\n",
    "    \"\"\" Consider only motifs from the given DNA sequences\"\"\"\n",
    "    motifSet = set()\n",
    "    for seq in DNA:\n",
    "        for i in range(len(seq)-k+1):\n",
    "            motifSet.add(seq[i:i+k])\n",
    "    print(\"%d Motifs in our set\" % len(motifSet))\n",
    "    bestAlignment = []\n",
    "    minHammingDist = k*len(DNA)\n",
    "    kmer = ''\n",
    "    for motif in motifSet:\n",
    "        align, dist = ScanAndScoreMotif(DNA, motif)\n",
    "        if (dist < minHammingDist):\n",
    "            bestAlignment = [s for s in align]\n",
    "            minHammingDist = dist\n",
    "            kmer = motif\n",
    "    return bestAlignment, minHammingDist, kmer\n",
    "\n",
    "%time ContainedMotifSearch(seqApprox,10)"
   ]
  },
  {
   "cell_type": "markdown",
   "metadata": {},
   "source": [
    "## Contained Consensus Motif Search"
   ]
  },
  {
   "cell_type": "code",
   "execution_count": 42,
   "metadata": {},
   "outputs": [
    {
     "name": "stdout",
     "output_type": "stream",
     "text": [
      "709 Motifs in our set\n",
      "CPU times: user 770 ms, sys: 0 ns, total: 770 ms\n",
      "Wall time: 767 ms\n"
     ]
    },
    {
     "data": {
      "text/plain": [
       "([17, 47, 18, 33, 21, 0, 46, 70, 16, 65], 11, 'tagatccgaa')"
      ]
     },
     "execution_count": 42,
     "metadata": {},
     "output_type": "execute_result"
    }
   ],
   "source": [
    "def Consensus(s, DNA, k):\n",
    "    \"\"\" compute the consensus k-Motif of an alignment given offsets into each DNA string.\n",
    "            s = list of starting indices, 1-based, 0 means ignore, DNA = list of nucleotide strings,\n",
    "            k = Target Motif length \"\"\"\n",
    "    consensus = ''\n",
    "    for i in range(k):\n",
    "        # loop over string positions\n",
    "        cnt = dict(zip(\"acgt\",(0,0,0,0)))\n",
    "        for j, sval in enumerate(s):\n",
    "            # loop over DNA strands\n",
    "            base = DNA[j][sval+i] \n",
    "            cnt[base] += 1\n",
    "        consensus += max(cnt.items(), key=lambda tup: tup[1])[0]\n",
    "    return consensus\n",
    "\n",
    "def ContainedConsensusMotifSearch(DNA,k):\n",
    "    bestAlignment, minHammingDist, kmer = ContainedMotifSearch(DNA,k)\n",
    "    motif = Consensus(bestAlignment,DNA,k)\n",
    "    newAlignment, HammingDist = ScanAndScoreMotif(DNA, motif)\n",
    "    return newAlignment, HammingDist, motif\n",
    "\n",
    "%time ContainedConsensusMotifSearch(seqApprox,10)"
   ]
  },
  {
   "cell_type": "markdown",
   "metadata": {},
   "source": [
    "## Randomized Motif Search"
   ]
  },
  {
   "cell_type": "code",
   "execution_count": 56,
   "metadata": {},
   "outputs": [],
   "source": [
    "import random\n",
    "\n",
    "def RandomizedMotifSearch(DNA,k):\n",
    "    \"\"\" Searches for a k-length motif that appears \n",
    "    in all given DNA sequences. It begins with a\n",
    "    random set of candidate consensus motifs \n",
    "    derived from the data. It refines the motif\n",
    "    until a true consensus emerges.\"\"\"\n",
    "    \n",
    "    # Seed with motifs from random alignments\n",
    "    motifSet = set()\n",
    "    for i in range(500):\n",
    "        randomAlignment = [random.randint(0,len(DNA[j])-k) for j in range(len(DNA))]\n",
    "        motif = Consensus(randomAlignment, DNA, k)\n",
    "        motifSet.add(motif)\n",
    "\n",
    "    bestAlignment = []\n",
    "    minHammingDist = k*len(DNA)\n",
    "    kmer = ''\n",
    "    testSet = motifSet.copy()\n",
    "    while (len(testSet) > 0):\n",
    "        print(len(motifSet),end=', ')\n",
    "        nextSet = set()\n",
    "        for motif in testSet:\n",
    "            align, dist = ScanAndScoreMotif(DNA, motif)\n",
    "            # add new motifs based on these alignments\n",
    "            newMotif = Consensus(align, DNA, k)\n",
    "            if (newMotif not in motifSet):\n",
    "                nextSet.add(newMotif)\n",
    "            if (dist < minHammingDist):\n",
    "                bestAlignment = [s for s in align]\n",
    "                minHammingDist = dist\n",
    "                kmer = motif\n",
    "        testSet = nextSet.copy()\n",
    "        motifSet = motifSet | nextSet\n",
    "    return bestAlignment, minHammingDist, kmer"
   ]
  },
  {
   "cell_type": "markdown",
   "metadata": {},
   "source": [
    "## Let's try it"
   ]
  },
  {
   "cell_type": "code",
   "execution_count": 57,
   "metadata": {},
   "outputs": [
    {
     "name": "stdout",
     "output_type": "stream",
     "text": [
      "500, 771, 866, 883, 889, 890, CPU times: user 1.03 s, sys: 4.01 ms, total: 1.04 s\n",
      "Wall time: 1.03 s\n"
     ]
    },
    {
     "data": {
      "text/plain": [
       "([17, 47, 18, 33, 21, 0, 46, 70, 16, 65], 11, 'tagatccgaa')"
      ]
     },
     "execution_count": 57,
     "metadata": {},
     "output_type": "execute_result"
    }
   ],
   "source": [
    "%time RandomizedMotifSearch(seqApprox,10)"
   ]
  },
  {
   "cell_type": "code",
   "execution_count": 58,
   "metadata": {},
   "outputs": [
    {
     "name": "stdout",
     "output_type": "stream",
     "text": [
      "499, 774, 861, 876, 878, ([17, 47, 18, 33, 21, 0, 46, 70, 16, 65], 11, 'tagatccgaa')\n",
      "500, 768, 843, 863, 869, ([17, 47, 18, 33, 21, 0, 46, 70, 16, 65], 11, 'tagatccgaa')\n",
      "500, 743, 823, 843, 845, ([17, 47, 18, 33, 21, 0, 46, 70, 16, 65], 11, 'tagatccgaa')\n",
      "500, 756, 832, 844, 845, ([17, 47, 18, 33, 21, 0, 46, 70, 16, 65], 11, 'tagatccgaa')\n",
      "500, 745, 826, 844, 850, ([17, 47, 18, 33, 21, 0, 46, 70, 16, 65], 11, 'tagatccgaa')\n",
      "500, 776, 852, 870, 873, 874, ([17, 47, 18, 33, 21, 0, 46, 70, 16, 65], 11, 'tagatccgaa')\n",
      "500, 762, 857, 878, 880, ([17, 47, 18, 33, 21, 0, 46, 70, 16, 65], 11, 'tagatccgaa')\n",
      "500, 753, 822, 839, 844, 845, ([17, 47, 18, 33, 21, 0, 46, 70, 16, 65], 11, 'tagatccgaa')\n",
      "500, 764, 845, 865, 867, 868, ([17, 47, 18, 33, 21, 0, 46, 70, 16, 65], 11, 'tagatccgaa')\n",
      "500, 749, 825, 839, 841, ([17, 47, 18, 33, 21, 0, 46, 70, 16, 65], 11, 'tagatccgaa')\n"
     ]
    }
   ],
   "source": [
    "for i in range(10):\n",
    "    print(RandomizedMotifSearch(seqApprox,10))"
   ]
  },
  {
   "cell_type": "code",
   "execution_count": 12,
   "metadata": {},
   "outputs": [],
   "source": [
    "# THIS CELL WILL BE GRADED\n",
    "# This cell should include *ALL* functions called by BestMedianMotifSearch(),\n",
    "# such as ContainedMedianSearch() and ScanAndScoreMotif(). Any test or \n",
    "# validation code should be placed in another cell \n",
    "\n",
    "def ContainedMotifSearch(DNA,k):\n",
    "    \"\"\" Consider only motifs from the given DNA sequences\"\"\"\n",
    "    motifSet = set()\n",
    "    for seq in DNA:\n",
    "        for i in range(len(seq)-k+1):\n",
    "            motifSet.add(seq[i:i+k])\n",
    "    print(\"%d Motifs in our set\" % len(motifSet))\n",
    "    bestAlignment1 = []\n",
    "    minHammingDist1 = k*len(DNA)\n",
    "    kmer = ''\n",
    "    for motif in motifSet:\n",
    "        align, dist = ScanAndScoreMotif(DNA, motif, minHammingDist1)\n",
    "        if (dist < minHammingDist1):\n",
    "            bestAlignment1 = [s for s in align]\n",
    "            minHammingDist1 = dist\n",
    "            kmer = motif\n",
    "    return bestAlignment1, minHammingDist1, kmer\n",
    "\n",
    "def ScanAndScoreMotif(DNA, motif, dist):\n",
    "    totalDist = 0\n",
    "    bestAlignment2 = []\n",
    "    k = len(motif)\n",
    "    for seq in DNA:\n",
    "        minHammingDist2 = k+1\n",
    "        for s in range(len(seq)-k+1):\n",
    "            HammingDist = sum([1 for i in range(k) if motif[i] != seq[s+i]])\n",
    "            if (HammingDist < minHammingDist2):\n",
    "                bestS = s\n",
    "                minHammingDist2 = HammingDist\n",
    "        bestAlignment2.append(bestS)\n",
    "        totalDist += minHammingDist2\n",
    "    return bestAlignment2, totalDist\n",
    "\n",
    "def getMotif(DNA, k, motif, minHammingDist):\n",
    "    global bestAlignment, globalKmer\n",
    "    depth = len(motif)\n",
    "    if (depth == k):\n",
    "        alignment, s = ScanAndScoreMotif(DNA, motif, minHammingDist)\n",
    "        if (s < minHammingDist):\n",
    "            bestAlignment = [a for a in alignment]\n",
    "            globalKmer = motif\n",
    "            return s\n",
    "        else:\n",
    "            return minHammingDist\n",
    "    else:\n",
    "        bestAlignment, OptimisticScore = ScanAndScoreMotif(DNA, motif, minHammingDist)\n",
    "        if (OptimisticScore > minHammingDist):\n",
    "            return minHammingDist\n",
    "        else:\n",
    "            for base in 'ACGT':\n",
    "                motif = motif+base\n",
    "                minHammingDist = getMotif(DNA, k, motif, minHammingDist) \n",
    "            return minHammingDist\n",
    "\n",
    "def BestMedianMotifSearch(DNA,k):\n",
    "    global bestAlignment, globalKmer, minHammingDist\n",
    "    bestAlignment, minHammingDist, globalKmer = ContainedMotifSearch(DNA, k)\n",
    "    getMotif(DNA, k, '', minHammingDist)\n",
    "    return bestAlignment, minHammingDist, globalKmer"
   ]
  },
  {
   "cell_type": "code",
   "execution_count": 13,
   "metadata": {},
   "outputs": [
    {
     "name": "stdout",
     "output_type": "stream",
     "text": [
      "1003 Motifs in our set\n",
      "Wall time: 6.99 s\n"
     ]
    },
    {
     "data": {
      "text/plain": [
       "([148, 111, 57, 113, 93, 11, 7, 86, 160, 170, 22, 152, 42, 113, 91, 64],\n",
       " 6,\n",
       " 'CCGCT')"
      ]
     },
     "execution_count": 13,
     "metadata": {},
     "output_type": "execute_result"
    }
   ],
   "source": [
    "# This cell is provided for testing your answer to problem 5. It will not be graded.\n",
    "dna = loadFasta(\"../PS2/motifs.fa\")[1]\n",
    "dna = [d[1:] for d in dna]\n",
    "%time BestMedianMotifSearch(dna,5)"
   ]
  }
 ],
 "metadata": {
  "kernelspec": {
   "display_name": "Python 3",
   "language": "python",
   "name": "python3"
  },
  "language_info": {
   "codemirror_mode": {
    "name": "ipython",
    "version": 3
   },
   "file_extension": ".py",
   "mimetype": "text/x-python",
   "name": "python",
   "nbconvert_exporter": "python",
   "pygments_lexer": "ipython3",
   "version": "3.7.4"
  }
 },
 "nbformat": 4,
 "nbformat_minor": 2
}
