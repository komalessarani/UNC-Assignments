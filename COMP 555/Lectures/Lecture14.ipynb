{
 "cells": [
  {
   "cell_type": "markdown",
   "metadata": {},
   "source": [
    "## A \"Greedy\" change approach"
   ]
  },
  {
   "cell_type": "code",
   "execution_count": 3,
   "metadata": {},
   "outputs": [
    {
     "name": "stdout",
     "output_type": "stream",
     "text": [
      "[2, 2, 0, 2] 6\n",
      "[1, 1, 1, 0] 3\n",
      "[1, 0, 1, 1, 0] 3\n"
     ]
    }
   ],
   "source": [
    "def greedyChange(amount, denominations):\n",
    "    # Goal is to produce the fewest coins to achieve\n",
    "    # given target \"amount\"\n",
    "    # Strategy: Give as many of the largest coin \n",
    "    # denomination that is less than amount. \n",
    "    solution = []\n",
    "    for coin in denominations:\n",
    "        i = amount // coin       # truncating integer divide\n",
    "        solution.append(i)\n",
    "        amount -= coin * i\n",
    "    return solution\n",
    "\n",
    "s1 = greedyChange(72, [25,10,5,1])\n",
    "print(s1, sum(s1))\n",
    "s2 = greedyChange(40, [25,10,5,1])\n",
    "print(s2, sum(s2))\n",
    "s3 = greedyChange(40, [25,20,10,5,1])\n",
    "print(s3, sum(s3))"
   ]
  },
  {
   "cell_type": "markdown",
   "metadata": {},
   "source": [
    "## Another Approach"
   ]
  },
  {
   "cell_type": "code",
   "execution_count": 14,
   "metadata": {},
   "outputs": [
    {
     "name": "stdout",
     "output_type": "stream",
     "text": [
      "[0, 2, 0, 0, 0]\n",
      "CPU times: user 699 ms, sys: 0 ns, total: 699 ms\n",
      "Wall time: 701 ms\n"
     ]
    }
   ],
   "source": [
    "def exhaustiveChange(amount, denominations):\n",
    "    bestN = 100\n",
    "    count = [0 for i in range(len(denominations))]\n",
    "    while True:\n",
    "        for i, coinValue in enumerate(denominations):\n",
    "            count[i] += 1\n",
    "            if (count[i]*coinValue < 100):\n",
    "                break\n",
    "            count[i] = 0\n",
    "        n = sum(count)\n",
    "        if n == 0:\n",
    "            break\n",
    "        value = sum([count[i]*denominations[i] for i in range(len(denominations))])\n",
    "        if (value == amount):\n",
    "            if (n < bestN):\n",
    "                solution = [count[i] for i in range(len(denominations))]\n",
    "                bestN = n\n",
    "    return solution\n",
    "\n",
    "%time print(exhaustiveChange(40,[25,20,10,5,1]))"
   ]
  },
  {
   "cell_type": "markdown",
   "metadata": {},
   "source": [
    "## Correct, but costly\n",
    "* Our algorithm now gets the right answer for every value 1..100\n",
    "* It must, because it considers every possible answer<br>(that’s the good thing about brute force)\n",
    "* There is a downside though"
   ]
  },
  {
   "cell_type": "code",
   "execution_count": 16,
   "metadata": {},
   "outputs": [
    {
     "name": "stdout",
     "output_type": "stream",
     "text": [
      "[1, 1, 1, 0]\n",
      "CPU times: user 155 ms, sys: 0 ns, total: 155 ms\n",
      "Wall time: 149 ms\n",
      "[0, 2, 0, 0, 0]\n",
      "CPU times: user 632 ms, sys: 0 ns, total: 632 ms\n",
      "Wall time: 628 ms\n",
      "[0, 3, 1, 0, 0, 0]\n",
      "CPU times: user 2min 50s, sys: 0 ns, total: 2min 50s\n",
      "Wall time: 2min 50s\n"
     ]
    }
   ],
   "source": [
    "%time print(exhaustiveChange(40, [25,10,5,1]))\n",
    "%time print(exhaustiveChange(40, [25,20,10,5,1]))\n",
    "%time print(exhaustiveChange(40, [13,11,7,5,3,1]))"
   ]
  },
  {
   "cell_type": "markdown",
   "metadata": {},
   "source": [
    "## Other tricks?\n",
    "\n",
    "A Branch-and-bound algorithm"
   ]
  },
  {
   "cell_type": "code",
   "execution_count": 18,
   "metadata": {},
   "outputs": [
    {
     "name": "stdout",
     "output_type": "stream",
     "text": [
      "[0, 3, 1, 0, 0, 0]\n",
      "CPU times: user 329 ms, sys: 0 ns, total: 329 ms\n",
      "Wall time: 310 ms\n"
     ]
    }
   ],
   "source": [
    "def branchAndBoundChange(amount, denominations):\n",
    "    bestN = amount\n",
    "    count = [0 for i in range(len(denominations))]\n",
    "    while True:\n",
    "        for i, coinValue in enumerate(denominations):\n",
    "            count[i] += 1\n",
    "            if (count[i]*coinValue < amount):             # Set upper bound to amount rather than 100\n",
    "                break\n",
    "            count[i] = 0\n",
    "        n = sum(count)\n",
    "        if n == 0:\n",
    "            break\n",
    "        if (n > bestN):                                   # don't compute the amount if there are too many coins\n",
    "            continue\n",
    "        value = sum([count[i]*denominations[i] for i in range(len(denominations))])\n",
    "        if (value == amount):\n",
    "            if (n < bestN):\n",
    "                solution = [count[i] for i in range(len(denominations))]\n",
    "                bestN = n\n",
    "    return solution\n",
    "\n",
    "%time print(branchAndBoundChange(40, [13,11,7,5,3,1]))"
   ]
  },
  {
   "cell_type": "markdown",
   "metadata": {},
   "source": [
    "## A Recursive Coin-Change Algorithm"
   ]
  },
  {
   "cell_type": "code",
   "execution_count": null,
   "metadata": {},
   "outputs": [],
   "source": [
    "def RecursiveChange(M, c):\n",
    "    if (M == 0):\n",
    "        return [0 for i in range(len(c))]\n",
    "    smallestNumberOfCoins = M+1\n",
    "    for i in range(len(c)):\n",
    "        if (M >= c[i]):\n",
    "            thisChange = RecursiveChange(M - c[i], c)\n",
    "            thisChange[i] += 1\n",
    "            if (sum(thisChange) < smallestNumberOfCoins):\n",
    "                bestChange = thisChange\n",
    "                smallestNumberOfCoins = sum(thisChange)\n",
    "    return bestChange\n",
    "\n",
    "%time print(RecursiveChange(99, [13,11,7,5,3,1]))"
   ]
  },
  {
   "cell_type": "markdown",
   "metadata": {},
   "source": [
    "## Change via Dynamic Programming"
   ]
  },
  {
   "cell_type": "code",
   "execution_count": 15,
   "metadata": {},
   "outputs": [
    {
     "name": "stdout",
     "output_type": "stream",
     "text": [
      "[1, 0, 0, 0, 0, 3]\n",
      "CPU times: user 692 µs, sys: 0 ns, total: 692 µs\n",
      "Wall time: 540 µs\n",
      "[1, 0, 1, 0, 0, 0, 2]\n",
      "CPU times: user 332 µs, sys: 0 ns, total: 332 µs\n",
      "Wall time: 329 µs\n",
      "[2, 0, 0, 0, 0, 0, 0, 2]\n",
      "CPU times: user 350 µs, sys: 0 ns, total: 350 µs\n",
      "Wall time: 335 µs\n"
     ]
    }
   ],
   "source": [
    "def DPChange(M, c):\n",
    "    change = [[0 for i in range(len(c))]]\n",
    "    for m in range(1,M+1):\n",
    "        bestNumCoins = m+1\n",
    "        for i in range(len(c)):\n",
    "            if (m >= c[i]):\n",
    "                thisChange = [x for x in change[m - c[i]]]\n",
    "                thisChange[i] += 1\n",
    "                if (sum(thisChange) < bestNumCoins):\n",
    "                    change[m:m] = [thisChange]\n",
    "                    bestNumCoins = sum(thisChange)\n",
    "    return change[M]\n",
    "\n",
    "%time print(DPChange(40, [1,3,5,7,11,13]))\n",
    "%time print(DPChange(40, [1,3,5,7,11,13,17]))\n",
    "%time print(DPChange(40, [1,3,5,7,11,13,17,19]))"
   ]
  },
  {
   "cell_type": "markdown",
   "metadata": {},
   "source": [
    "## A Hybrid Approach: Memoization"
   ]
  },
  {
   "cell_type": "code",
   "execution_count": 3,
   "metadata": {},
   "outputs": [
    {
     "name": "stdout",
     "output_type": "stream",
     "text": [
      "[1, 2, 2]\n",
      "CPU times: user 703 µs, sys: 0 ns, total: 703 µs\n",
      "Wall time: 664 µs\n"
     ]
    }
   ],
   "source": [
    "change = {}                                            # This is a cache for saving bestChange[M]\n",
    "\n",
    "def MemoizedChange(M, c):\n",
    "    global change\n",
    "    if (M in change):                                   # Check the cache first\n",
    "        return [v for v in change[M]]\n",
    "    if (len(change) == 0):                              # Initialize cache\n",
    "        change[0] = [0 for i in range(len(c))]\n",
    "    smallestNumberOfCoins = M+1\n",
    "    for i in range(len(c)):\n",
    "        if (M >= c[i]):\n",
    "            thisChange = MemoizedChange(M - c[i], c)\n",
    "            thisChange[i] += 1\n",
    "            if (sum(thisChange) < smallestNumberOfCoins):\n",
    "                bestChange = [v for v in thisChange]\n",
    "                smallestNumberOfCoins = sum(thisChange)\n",
    "    change[M] = [v for v in bestChange]                 # Add new M to cache \n",
    "    return bestChange\n",
    "\n",
    "%time print(MemoizedChange(99, [1,7,42]))"
   ]
  },
  {
   "cell_type": "code",
   "execution_count": null,
   "metadata": {},
   "outputs": [],
   "source": []
  }
 ],
 "metadata": {
  "kernelspec": {
   "display_name": "Python 3",
   "language": "python",
   "name": "python3"
  },
  "language_info": {
   "codemirror_mode": {
    "name": "ipython",
    "version": 3
   },
   "file_extension": ".py",
   "mimetype": "text/x-python",
   "name": "python",
   "nbconvert_exporter": "python",
   "pygments_lexer": "ipython3",
   "version": "3.7.4"
  }
 },
 "nbformat": 4,
 "nbformat_minor": 2
}
