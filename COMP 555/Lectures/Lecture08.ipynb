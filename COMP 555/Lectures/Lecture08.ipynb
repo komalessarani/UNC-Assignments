{
 "cells": [
  {
   "cell_type": "markdown",
   "metadata": {},
   "source": [
    "## From last time"
   ]
  },
  {
   "cell_type": "code",
   "execution_count": 3,
   "metadata": {},
   "outputs": [],
   "source": [
    "class BasicGraph:\n",
    "    def __init__(self, vlist=[]):\n",
    "        \"\"\" Initialize a Graph with an optional vertex list \"\"\"\n",
    "        self.index = {v:i for i,v in enumerate(vlist)}    # looks up index given name\n",
    "        self.vertex = {i:v for i,v in enumerate(vlist)}   # looks up name given index\n",
    "        self.edge = []\n",
    "        self.edgelabel = []\n",
    "        \n",
    "    def addVertex(self, label):\n",
    "        \"\"\" Add a labeled vertex to the graph \"\"\"\n",
    "        index = len(self.index)\n",
    "        self.index[label] = index\n",
    "        self.vertex[index] = label\n",
    "        \n",
    "    def addEdge(self, vsrc, vdst, label='', repeats=True):\n",
    "        \"\"\" Add a directed edge to the graph, with an optional label. \n",
    "        Repeated edges are distinct, unless repeats is set to False. \"\"\"\n",
    "        e = (self.index[vsrc], self.index[vdst])\n",
    "        if (repeats) or (e not in self.edge):\n",
    "            self.edge.append(e)\n",
    "            self.edgelabel.append(label)"
   ]
  },
  {
   "cell_type": "markdown",
   "metadata": {},
   "source": [
    "## Also from last time:\n",
    "The BasicGraph extended with a Branch-and-bound Hamiltonian Path method"
   ]
  },
  {
   "cell_type": "code",
   "execution_count": 4,
   "metadata": {},
   "outputs": [],
   "source": [
    "import itertools\n",
    "\n",
    "class ImprovedGraph(BasicGraph):\n",
    "    \n",
    "    def SearchTree(self, path, verticesLeft):\n",
    "        \"\"\" A recursive Branch-and-Bound Hamiltonian Path search. \n",
    "        Paths are extended one node at a time using only available\n",
    "        edges from the graph. \"\"\"\n",
    "        if (len(verticesLeft) == 0):\n",
    "            self.PathV2result = [self.vertex[i] for i in path]\n",
    "            return True\n",
    "        for v in verticesLeft:\n",
    "            if (len(path) == 0) or ((path[-1],v) in self.edge):\n",
    "                if self.SearchTree(path+[v], [r for r in verticesLeft if r != v]):\n",
    "                    return True\n",
    "        return False\n",
    "    \n",
    "    def hamiltonianPath(self):\n",
    "        \"\"\" A wrapper function for invoking the Branch-and-Bound \n",
    "        Hamiltonian Path search. \"\"\"\n",
    "        self.PathV2result = []\n",
    "        self.SearchTree([],sorted(self.index.values())) # \"index.values()\" is a list of nodes           \n",
    "        return self.PathV2result"
   ]
  },
  {
   "cell_type": "markdown",
   "metadata": {},
   "source": [
    "## Converting to code"
   ]
  },
  {
   "cell_type": "code",
   "execution_count": 5,
   "metadata": {},
   "outputs": [],
   "source": [
    "class AwesomeGraph(ImprovedGraph):\n",
    "\n",
    "    def degrees(self):\n",
    "        \"\"\" Returns two dictionaries with the inDegree and outDegree\n",
    "        of each node from the graph. \"\"\"\n",
    "        inDegree = {}\n",
    "        outDegree = {}\n",
    "        for src, dst in self.edge:\n",
    "            outDegree[src] = outDegree.get(src, 0) + 1\n",
    "            inDegree[dst] = inDegree.get(dst, 0) + 1\n",
    "        return inDegree, outDegree\n",
    "    \n",
    "    def verifyAndGetStart(self):\n",
    "        inDegree, outDegree = self.degrees()\n",
    "        start, end = 0, 0\n",
    "        # node 0 will be the starting node is a Euler cycle is found\n",
    "        for vert in self.vertex:\n",
    "            ins = inDegree.get(vert,0)\n",
    "            outs = outDegree.get(vert,0)\n",
    "            if (ins == outs):\n",
    "                continue\n",
    "            elif (ins - outs == 1):\n",
    "                end = vert\n",
    "            elif (outs - ins == 1):\n",
    "                start = vert\n",
    "            else:\n",
    "                start, end = -1, -1\n",
    "                break\n",
    "        if (start >= 0) and (end >= 0):\n",
    "            return start\n",
    "        else:\n",
    "            return -1\n",
    "        \n",
    "    def eulerianPath(self):\n",
    "        graph = [(src,dst) for src,dst in self.edge]\n",
    "        currentVertex = self.verifyAndGetStart()\n",
    "        path = [currentVertex]\n",
    "        # \"next\" is the list index where vertices get inserted into our tour\n",
    "        # it starts at the end (i.e. same as appending), but later \"side-trips\" will insert in the middle\n",
    "        next = 1\n",
    "        while (len(graph) > 0):                   # when all edges are used, len(graph) == 0\n",
    "            # follows a path until it ends\n",
    "            for edge in graph:\n",
    "                if (edge[0] == currentVertex):\n",
    "                    currentVertex = edge[1]\n",
    "                    graph.remove(edge)\n",
    "                    path.insert(next, currentVertex)  # inserts vertex in path\n",
    "                    next += 1\n",
    "                    break\n",
    "            else:\n",
    "                # Look for side-trips along the current path\n",
    "                for edge in graph:\n",
    "                    try:\n",
    "                        # insert our side-trip after the \"u\" vertex that is starts from\n",
    "                        next = path.index(edge[0]) + 1\n",
    "                        currentVertex = edge[0]\n",
    "                        break\n",
    "                    except ValueError:\n",
    "                        continue\n",
    "                else:\n",
    "                    print(\"There is no path!\")\n",
    "                    return False\n",
    "        return path\n",
    "\n",
    "    def eulerEdges(self, path):\n",
    "        edgeId = {}\n",
    "        for i in range(len(self.edge)):\n",
    "            edgeId[self.edge[i]] = edgeId.get(self.edge[i], []) + [i]\n",
    "        edgeList = []\n",
    "        for i in range(len(path)-1):\n",
    "            edgeList.append(self.edgelabel[edgeId[path[i],path[i+1]].pop()])            \n",
    "        return edgeList\n",
    "\n",
    "    def render(self, highlightPath=[]):\n",
    "        \"\"\" Outputs a version of the graph that can be rendered\n",
    "        using graphviz tools (http://www.graphviz.org/).\"\"\"\n",
    "        edgeId = {}\n",
    "        for i in range(len(self.edge)):\n",
    "            edgeId[self.edge[i]] = edgeId.get(self.edge[i], []) + [i]\n",
    "        edgeSet = set()\n",
    "        for i in range(len(highlightPath)-1):\n",
    "            src = self.index[highlightPath[i]]\n",
    "            dst = self.index[highlightPath[i+1]]\n",
    "            edgeSet.add(edgeId[src,dst].pop())\n",
    "        result = ''\n",
    "        result += 'digraph {\\n'\n",
    "        result += '   graph [nodesep=2, size=\"10,10\"];\\n'\n",
    "        for index, label in self.vertex.items():\n",
    "            result += '    N%d [shape=\"box\", style=\"rounded\", label=\"%s\"];\\n' % (index, label)\n",
    "        for i, e in enumerate(self.edge):\n",
    "            src, dst = e\n",
    "            result += '    N%d -> N%d' % (src, dst)\n",
    "            label = self.edgelabel[i]\n",
    "            if (len(label) > 0):\n",
    "                if (i in edgeSet):\n",
    "                    result += ' [label=\"%s\", penwidth=3.0]' % (label)\n",
    "                else:\n",
    "                    result += ' [label=\"%s\"]' % (label)\n",
    "            elif (i in edgeSet):\n",
    "                result += ' [penwidth=3.0]'                \n",
    "            result += ';\\n'                \n",
    "        result += '    overlap=false;\\n'\n",
    "        result += '}\\n'\n",
    "        return result\n",
    "    \n",
    "    "
   ]
  },
  {
   "cell_type": "code",
   "execution_count": 6,
   "metadata": {},
   "outputs": [
    {
     "name": "stdout",
     "output_type": "stream",
     "text": [
      "25.6 µs ± 1.93 µs per loop (mean ± std. dev. of 7 runs, 10000 loops each)\n",
      "['000', '001', '010', '011', '100', '101', '110', '111']\n",
      "[0, 0, 1, 3, 7, 7, 6, 5, 3, 6, 4, 1, 2, 5, 2, 4, 0]\n",
      "['0000', '0001', '0011', '0111', '1111', '1110', '1101', '1011', '0110', '1100', '1001', '0010', '0101', '1010', '0100', '1000']\n",
      "0000111101100101000\n"
     ]
    }
   ],
   "source": [
    "binary = [''.join(t) for t in itertools.product('01', repeat=4)]\n",
    "\n",
    "nodes = sorted(set([code[:-1] for code in binary] + [code[1:] for code in binary]))\n",
    "G2 = AwesomeGraph(nodes)\n",
    "for code in binary:\n",
    "   # Here I give each edge a label\n",
    "   G2.addEdge(code[:-1],code[1:],code)\n",
    "\n",
    "%timeit G2.eulerianPath()\n",
    "path = G2.eulerianPath()\n",
    "print(nodes)\n",
    "print(path)\n",
    "edges = G2.eulerEdges(path)\n",
    "print(edges)\n",
    "print(edges[0] + ''.join([edges[i][-1] for i in range(1,len(edges))]))"
   ]
  },
  {
   "cell_type": "code",
   "execution_count": null,
   "metadata": {},
   "outputs": [],
   "source": [
    "render = G2.render()\n",
    "print(render)\n",
    "with open(\"TestGraph.dot\", 'w') as fp:\n",
    "    fp.write(render)"
   ]
  },
  {
   "cell_type": "code",
   "execution_count": null,
   "metadata": {},
   "outputs": [],
   "source": [
    "# The following command assumes that graphviz is installed.\n",
    "# See https://www.graphviz.org/\n",
    "!circo -Goverlap=scale -Tpng TestGraph.dot -o TestGraph.png"
   ]
  },
  {
   "cell_type": "code",
   "execution_count": 9,
   "metadata": {},
   "outputs": [
    {
     "ename": "FileNotFoundError",
     "evalue": "No such file or directory: 'TestGraph.png'",
     "output_type": "error",
     "traceback": [
      "\u001b[1;31m---------------------------------------------------------------------------\u001b[0m",
      "\u001b[1;31mTypeError\u001b[0m                                 Traceback (most recent call last)",
      "\u001b[1;32m~\\Anaconda3\\lib\\site-packages\\IPython\\core\\display.py\u001b[0m in \u001b[0;36m_data_and_metadata\u001b[1;34m(self, always_both)\u001b[0m\n\u001b[0;32m   1264\u001b[0m         \u001b[1;32mtry\u001b[0m\u001b[1;33m:\u001b[0m\u001b[1;33m\u001b[0m\u001b[1;33m\u001b[0m\u001b[0m\n\u001b[1;32m-> 1265\u001b[1;33m             \u001b[0mb64_data\u001b[0m \u001b[1;33m=\u001b[0m \u001b[0mb2a_base64\u001b[0m\u001b[1;33m(\u001b[0m\u001b[0mself\u001b[0m\u001b[1;33m.\u001b[0m\u001b[0mdata\u001b[0m\u001b[1;33m)\u001b[0m\u001b[1;33m.\u001b[0m\u001b[0mdecode\u001b[0m\u001b[1;33m(\u001b[0m\u001b[1;34m'ascii'\u001b[0m\u001b[1;33m)\u001b[0m\u001b[1;33m\u001b[0m\u001b[1;33m\u001b[0m\u001b[0m\n\u001b[0m\u001b[0;32m   1266\u001b[0m         \u001b[1;32mexcept\u001b[0m \u001b[0mTypeError\u001b[0m\u001b[1;33m:\u001b[0m\u001b[1;33m\u001b[0m\u001b[1;33m\u001b[0m\u001b[0m\n",
      "\u001b[1;31mTypeError\u001b[0m: a bytes-like object is required, not 'str'",
      "\nDuring handling of the above exception, another exception occurred:\n",
      "\u001b[1;31mFileNotFoundError\u001b[0m                         Traceback (most recent call last)",
      "\u001b[1;32m~\\Anaconda3\\lib\\site-packages\\IPython\\core\\formatters.py\u001b[0m in \u001b[0;36m__call__\u001b[1;34m(self, obj, include, exclude)\u001b[0m\n\u001b[0;32m    968\u001b[0m \u001b[1;33m\u001b[0m\u001b[0m\n\u001b[0;32m    969\u001b[0m             \u001b[1;32mif\u001b[0m \u001b[0mmethod\u001b[0m \u001b[1;32mis\u001b[0m \u001b[1;32mnot\u001b[0m \u001b[1;32mNone\u001b[0m\u001b[1;33m:\u001b[0m\u001b[1;33m\u001b[0m\u001b[1;33m\u001b[0m\u001b[0m\n\u001b[1;32m--> 970\u001b[1;33m                 \u001b[1;32mreturn\u001b[0m \u001b[0mmethod\u001b[0m\u001b[1;33m(\u001b[0m\u001b[0minclude\u001b[0m\u001b[1;33m=\u001b[0m\u001b[0minclude\u001b[0m\u001b[1;33m,\u001b[0m \u001b[0mexclude\u001b[0m\u001b[1;33m=\u001b[0m\u001b[0mexclude\u001b[0m\u001b[1;33m)\u001b[0m\u001b[1;33m\u001b[0m\u001b[1;33m\u001b[0m\u001b[0m\n\u001b[0m\u001b[0;32m    971\u001b[0m             \u001b[1;32mreturn\u001b[0m \u001b[1;32mNone\u001b[0m\u001b[1;33m\u001b[0m\u001b[1;33m\u001b[0m\u001b[0m\n\u001b[0;32m    972\u001b[0m         \u001b[1;32melse\u001b[0m\u001b[1;33m:\u001b[0m\u001b[1;33m\u001b[0m\u001b[1;33m\u001b[0m\u001b[0m\n",
      "\u001b[1;32m~\\Anaconda3\\lib\\site-packages\\IPython\\core\\display.py\u001b[0m in \u001b[0;36m_repr_mimebundle_\u001b[1;34m(self, include, exclude)\u001b[0m\n\u001b[0;32m   1253\u001b[0m         \u001b[1;32mif\u001b[0m \u001b[0mself\u001b[0m\u001b[1;33m.\u001b[0m\u001b[0membed\u001b[0m\u001b[1;33m:\u001b[0m\u001b[1;33m\u001b[0m\u001b[1;33m\u001b[0m\u001b[0m\n\u001b[0;32m   1254\u001b[0m             \u001b[0mmimetype\u001b[0m \u001b[1;33m=\u001b[0m \u001b[0mself\u001b[0m\u001b[1;33m.\u001b[0m\u001b[0m_mimetype\u001b[0m\u001b[1;33m\u001b[0m\u001b[1;33m\u001b[0m\u001b[0m\n\u001b[1;32m-> 1255\u001b[1;33m             \u001b[0mdata\u001b[0m\u001b[1;33m,\u001b[0m \u001b[0mmetadata\u001b[0m \u001b[1;33m=\u001b[0m \u001b[0mself\u001b[0m\u001b[1;33m.\u001b[0m\u001b[0m_data_and_metadata\u001b[0m\u001b[1;33m(\u001b[0m\u001b[0malways_both\u001b[0m\u001b[1;33m=\u001b[0m\u001b[1;32mTrue\u001b[0m\u001b[1;33m)\u001b[0m\u001b[1;33m\u001b[0m\u001b[1;33m\u001b[0m\u001b[0m\n\u001b[0m\u001b[0;32m   1256\u001b[0m             \u001b[1;32mif\u001b[0m \u001b[0mmetadata\u001b[0m\u001b[1;33m:\u001b[0m\u001b[1;33m\u001b[0m\u001b[1;33m\u001b[0m\u001b[0m\n\u001b[0;32m   1257\u001b[0m                 \u001b[0mmetadata\u001b[0m \u001b[1;33m=\u001b[0m \u001b[1;33m{\u001b[0m\u001b[0mmimetype\u001b[0m\u001b[1;33m:\u001b[0m \u001b[0mmetadata\u001b[0m\u001b[1;33m}\u001b[0m\u001b[1;33m\u001b[0m\u001b[1;33m\u001b[0m\u001b[0m\n",
      "\u001b[1;32m~\\Anaconda3\\lib\\site-packages\\IPython\\core\\display.py\u001b[0m in \u001b[0;36m_data_and_metadata\u001b[1;34m(self, always_both)\u001b[0m\n\u001b[0;32m   1266\u001b[0m         \u001b[1;32mexcept\u001b[0m \u001b[0mTypeError\u001b[0m\u001b[1;33m:\u001b[0m\u001b[1;33m\u001b[0m\u001b[1;33m\u001b[0m\u001b[0m\n\u001b[0;32m   1267\u001b[0m             raise FileNotFoundError(\n\u001b[1;32m-> 1268\u001b[1;33m                 \"No such file or directory: '%s'\" % (self.data))\n\u001b[0m\u001b[0;32m   1269\u001b[0m         \u001b[0mmd\u001b[0m \u001b[1;33m=\u001b[0m \u001b[1;33m{\u001b[0m\u001b[1;33m}\u001b[0m\u001b[1;33m\u001b[0m\u001b[1;33m\u001b[0m\u001b[0m\n\u001b[0;32m   1270\u001b[0m         \u001b[1;32mif\u001b[0m \u001b[0mself\u001b[0m\u001b[1;33m.\u001b[0m\u001b[0mmetadata\u001b[0m\u001b[1;33m:\u001b[0m\u001b[1;33m\u001b[0m\u001b[1;33m\u001b[0m\u001b[0m\n",
      "\u001b[1;31mFileNotFoundError\u001b[0m: No such file or directory: 'TestGraph.png'"
     ]
    },
    {
     "ename": "FileNotFoundError",
     "evalue": "No such file or directory: 'TestGraph.png'",
     "output_type": "error",
     "traceback": [
      "\u001b[1;31m---------------------------------------------------------------------------\u001b[0m",
      "\u001b[1;31mTypeError\u001b[0m                                 Traceback (most recent call last)",
      "\u001b[1;32m~\\Anaconda3\\lib\\site-packages\\IPython\\core\\display.py\u001b[0m in \u001b[0;36m_data_and_metadata\u001b[1;34m(self, always_both)\u001b[0m\n\u001b[0;32m   1264\u001b[0m         \u001b[1;32mtry\u001b[0m\u001b[1;33m:\u001b[0m\u001b[1;33m\u001b[0m\u001b[1;33m\u001b[0m\u001b[0m\n\u001b[1;32m-> 1265\u001b[1;33m             \u001b[0mb64_data\u001b[0m \u001b[1;33m=\u001b[0m \u001b[0mb2a_base64\u001b[0m\u001b[1;33m(\u001b[0m\u001b[0mself\u001b[0m\u001b[1;33m.\u001b[0m\u001b[0mdata\u001b[0m\u001b[1;33m)\u001b[0m\u001b[1;33m.\u001b[0m\u001b[0mdecode\u001b[0m\u001b[1;33m(\u001b[0m\u001b[1;34m'ascii'\u001b[0m\u001b[1;33m)\u001b[0m\u001b[1;33m\u001b[0m\u001b[1;33m\u001b[0m\u001b[0m\n\u001b[0m\u001b[0;32m   1266\u001b[0m         \u001b[1;32mexcept\u001b[0m \u001b[0mTypeError\u001b[0m\u001b[1;33m:\u001b[0m\u001b[1;33m\u001b[0m\u001b[1;33m\u001b[0m\u001b[0m\n",
      "\u001b[1;31mTypeError\u001b[0m: a bytes-like object is required, not 'str'",
      "\nDuring handling of the above exception, another exception occurred:\n",
      "\u001b[1;31mFileNotFoundError\u001b[0m                         Traceback (most recent call last)",
      "\u001b[1;32m~\\Anaconda3\\lib\\site-packages\\IPython\\core\\formatters.py\u001b[0m in \u001b[0;36m__call__\u001b[1;34m(self, obj)\u001b[0m\n\u001b[0;32m    343\u001b[0m             \u001b[0mmethod\u001b[0m \u001b[1;33m=\u001b[0m \u001b[0mget_real_method\u001b[0m\u001b[1;33m(\u001b[0m\u001b[0mobj\u001b[0m\u001b[1;33m,\u001b[0m \u001b[0mself\u001b[0m\u001b[1;33m.\u001b[0m\u001b[0mprint_method\u001b[0m\u001b[1;33m)\u001b[0m\u001b[1;33m\u001b[0m\u001b[1;33m\u001b[0m\u001b[0m\n\u001b[0;32m    344\u001b[0m             \u001b[1;32mif\u001b[0m \u001b[0mmethod\u001b[0m \u001b[1;32mis\u001b[0m \u001b[1;32mnot\u001b[0m \u001b[1;32mNone\u001b[0m\u001b[1;33m:\u001b[0m\u001b[1;33m\u001b[0m\u001b[1;33m\u001b[0m\u001b[0m\n\u001b[1;32m--> 345\u001b[1;33m                 \u001b[1;32mreturn\u001b[0m \u001b[0mmethod\u001b[0m\u001b[1;33m(\u001b[0m\u001b[1;33m)\u001b[0m\u001b[1;33m\u001b[0m\u001b[1;33m\u001b[0m\u001b[0m\n\u001b[0m\u001b[0;32m    346\u001b[0m             \u001b[1;32mreturn\u001b[0m \u001b[1;32mNone\u001b[0m\u001b[1;33m\u001b[0m\u001b[1;33m\u001b[0m\u001b[0m\n\u001b[0;32m    347\u001b[0m         \u001b[1;32melse\u001b[0m\u001b[1;33m:\u001b[0m\u001b[1;33m\u001b[0m\u001b[1;33m\u001b[0m\u001b[0m\n",
      "\u001b[1;32m~\\Anaconda3\\lib\\site-packages\\IPython\\core\\display.py\u001b[0m in \u001b[0;36m_repr_png_\u001b[1;34m(self)\u001b[0m\n\u001b[0;32m   1283\u001b[0m     \u001b[1;32mdef\u001b[0m \u001b[0m_repr_png_\u001b[0m\u001b[1;33m(\u001b[0m\u001b[0mself\u001b[0m\u001b[1;33m)\u001b[0m\u001b[1;33m:\u001b[0m\u001b[1;33m\u001b[0m\u001b[1;33m\u001b[0m\u001b[0m\n\u001b[0;32m   1284\u001b[0m         \u001b[1;32mif\u001b[0m \u001b[0mself\u001b[0m\u001b[1;33m.\u001b[0m\u001b[0membed\u001b[0m \u001b[1;32mand\u001b[0m \u001b[0mself\u001b[0m\u001b[1;33m.\u001b[0m\u001b[0mformat\u001b[0m \u001b[1;33m==\u001b[0m \u001b[0mself\u001b[0m\u001b[1;33m.\u001b[0m\u001b[0m_FMT_PNG\u001b[0m\u001b[1;33m:\u001b[0m\u001b[1;33m\u001b[0m\u001b[1;33m\u001b[0m\u001b[0m\n\u001b[1;32m-> 1285\u001b[1;33m             \u001b[1;32mreturn\u001b[0m \u001b[0mself\u001b[0m\u001b[1;33m.\u001b[0m\u001b[0m_data_and_metadata\u001b[0m\u001b[1;33m(\u001b[0m\u001b[1;33m)\u001b[0m\u001b[1;33m\u001b[0m\u001b[1;33m\u001b[0m\u001b[0m\n\u001b[0m\u001b[0;32m   1286\u001b[0m \u001b[1;33m\u001b[0m\u001b[0m\n\u001b[0;32m   1287\u001b[0m     \u001b[1;32mdef\u001b[0m \u001b[0m_repr_jpeg_\u001b[0m\u001b[1;33m(\u001b[0m\u001b[0mself\u001b[0m\u001b[1;33m)\u001b[0m\u001b[1;33m:\u001b[0m\u001b[1;33m\u001b[0m\u001b[1;33m\u001b[0m\u001b[0m\n",
      "\u001b[1;32m~\\Anaconda3\\lib\\site-packages\\IPython\\core\\display.py\u001b[0m in \u001b[0;36m_data_and_metadata\u001b[1;34m(self, always_both)\u001b[0m\n\u001b[0;32m   1266\u001b[0m         \u001b[1;32mexcept\u001b[0m \u001b[0mTypeError\u001b[0m\u001b[1;33m:\u001b[0m\u001b[1;33m\u001b[0m\u001b[1;33m\u001b[0m\u001b[0m\n\u001b[0;32m   1267\u001b[0m             raise FileNotFoundError(\n\u001b[1;32m-> 1268\u001b[1;33m                 \"No such file or directory: '%s'\" % (self.data))\n\u001b[0m\u001b[0;32m   1269\u001b[0m         \u001b[0mmd\u001b[0m \u001b[1;33m=\u001b[0m \u001b[1;33m{\u001b[0m\u001b[1;33m}\u001b[0m\u001b[1;33m\u001b[0m\u001b[1;33m\u001b[0m\u001b[0m\n\u001b[0;32m   1270\u001b[0m         \u001b[1;32mif\u001b[0m \u001b[0mself\u001b[0m\u001b[1;33m.\u001b[0m\u001b[0mmetadata\u001b[0m\u001b[1;33m:\u001b[0m\u001b[1;33m\u001b[0m\u001b[1;33m\u001b[0m\u001b[0m\n",
      "\u001b[1;31mFileNotFoundError\u001b[0m: No such file or directory: 'TestGraph.png'"
     ]
    },
    {
     "data": {
      "text/plain": [
       "<IPython.core.display.Image object>"
      ]
     },
     "execution_count": 9,
     "metadata": {},
     "output_type": "execute_result"
    }
   ],
   "source": [
    "from IPython.display import Image\n",
    "Image('TestGraph.png')"
   ]
  },
  {
   "cell_type": "code",
   "execution_count": null,
   "metadata": {},
   "outputs": [],
   "source": []
  }
 ],
 "metadata": {
  "kernelspec": {
   "display_name": "Python 3",
   "language": "python",
   "name": "python3"
  },
  "language_info": {
   "codemirror_mode": {
    "name": "ipython",
    "version": 3
   },
   "file_extension": ".py",
   "mimetype": "text/x-python",
   "name": "python",
   "nbconvert_exporter": "python",
   "pygments_lexer": "ipython3",
   "version": "3.7.4"
  }
 },
 "nbformat": 4,
 "nbformat_minor": 2
}
