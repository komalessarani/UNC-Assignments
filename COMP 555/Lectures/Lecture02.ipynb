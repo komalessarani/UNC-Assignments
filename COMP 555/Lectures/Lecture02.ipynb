{
 "cells": [
  {
   "cell_type": "markdown",
   "metadata": {},
   "source": [
    "## The following are standard UNIX shell commands run inside of a Notebook Cell"
   ]
  },
  {
   "cell_type": "code",
   "execution_count": null,
   "metadata": {},
   "outputs": [],
   "source": [
    "!ls -l data/"
   ]
  },
  {
   "cell_type": "code",
   "execution_count": null,
   "metadata": {},
   "outputs": [],
   "source": [
    "!head data/VibrioCholerae.fa"
   ]
  },
  {
   "cell_type": "code",
   "execution_count": null,
   "metadata": {},
   "outputs": [],
   "source": [
    "!tail -5 data/VibrioCholerae.fa"
   ]
  },
  {
   "cell_type": "code",
   "execution_count": null,
   "metadata": {},
   "outputs": [],
   "source": [
    "!wc data/*.fa"
   ]
  },
  {
   "cell_type": "markdown",
   "metadata": {},
   "source": [
    "## Next we write and execute Python3 inside of a Notebook Cell"
   ]
  },
  {
   "cell_type": "code",
   "execution_count": null,
   "metadata": {},
   "outputs": [],
   "source": [
    "import gzip\n",
    "\n",
    "def loadFasta(filename):\n",
    "    \"\"\" Parses a classically formatted and possibly \n",
    "        compressed FASTA file into two lists. One of \n",
    "        headers and a second list of sequences.\n",
    "        The ith index of each list correspond.\"\"\"\n",
    "    if (filename.endswith(\".gz\")):\n",
    "        fp = gzip.open(filename, 'r')\n",
    "    else:\n",
    "        fp = open(filename, 'r')\n",
    "    # split at headers\n",
    "    data = fp.read().split('>')\n",
    "    fp.close()\n",
    "    # ignore whatever appears before the 1st header\n",
    "    data.pop(0)     \n",
    "    headers = []\n",
    "    sequences = []\n",
    "    for sequence in data:\n",
    "        lines = sequence.split('\\n')\n",
    "        headers.append(lines.pop(0))\n",
    "        # add an extra \"+\" to make string \"1-referenced\"\n",
    "        sequences.append('+' + ''.join(lines))\n",
    "    return (headers, sequences)"
   ]
  },
  {
   "cell_type": "code",
   "execution_count": null,
   "metadata": {},
   "outputs": [],
   "source": [
    "header, seq = loadFasta(\"data/VibrioCholerae.fa\")\n",
    "\n",
    "for i in range(len(header)):\n",
    "    print(header[i])\n",
    "    print(len(seq[i])-1, \"bases\", seq[i][:30], \"...\", seq[i][-30:])\n",
    "    print()"
   ]
  },
  {
   "cell_type": "markdown",
   "metadata": {},
   "source": [
    "## Use *k*-mer profiles to study a DNA sequence"
   ]
  },
  {
   "cell_type": "code",
   "execution_count": null,
   "metadata": {},
   "outputs": [],
   "source": [
    "def kmerCounts(seq, k):\n",
    "    kmerDict = {}\n",
    "    for i in range(1,len(seq)-k+1):\n",
    "        kmer = seq[i:i+k]\n",
    "        kmerDict[kmer] = kmerDict.get(kmer,0) + 1\n",
    "    return kmerDict"
   ]
  },
  {
   "cell_type": "code",
   "execution_count": null,
   "metadata": {},
   "outputs": [],
   "source": [
    "# Test code for the kmerCounts() function\n",
    "print(kmerCounts(\"+TAGACAT\",3))\n",
    "print(kmerCounts(\"+missmississippi\",3))"
   ]
  },
  {
   "cell_type": "code",
   "execution_count": null,
   "metadata": {},
   "outputs": [],
   "source": [
    "print('  k     k-mers              4^k      N-k+1          missing   repeated')\n",
    "for k in range(3,25):\n",
    "    kmers = kmerCounts(seq[0], k)\n",
    "    print(\"%3d %10d %16d %10d %16d %10d\" % (k, len(kmers), 4**k, (len(seq[0])-1)-k+1, 4**k-len(kmers), (len(seq[0])-1)-k+1-len(kmers)))"
   ]
  },
  {
   "cell_type": "markdown",
   "metadata": {},
   "source": [
    "## Back to Biology...\n",
    "Next we extract a known oriC region to look for patterns."
   ]
  },
  {
   "cell_type": "code",
   "execution_count": null,
   "metadata": {},
   "outputs": [],
   "source": [
    "genome = seq[0]\n",
    "print(\"oriC:\")\n",
    "OriCStart = 151887\n",
    "oriC = genome[OriCStart:OriCStart+540]\n",
    "for i in range(9):\n",
    "    print(\"    %s\" % oriC[60*i:60*(i+1)].lower())"
   ]
  },
  {
   "cell_type": "code",
   "execution_count": null,
   "metadata": {},
   "outputs": [],
   "source": [
    "def mostFreqKmer(start, end, sequence):\n",
    "    for k in range(start,end):\n",
    "        kmerStats = kmerCounts(sequence,k)\n",
    "        kmerOrder = sorted(kmerStats, reverse=True, key=kmerStats.get)\n",
    "        mostFreq = [(kmer, kmerStats[kmer]) for kmer in kmerOrder[0:6]]\n",
    "        print(k, mostFreq)\n",
    "\n",
    "mostFreqKmer(1,10,oriC)"
   ]
  },
  {
   "cell_type": "code",
   "execution_count": 14,
   "metadata": {},
   "outputs": [],
   "source": [
    "def kmers(seq, k):\n",
    "    kmerArr = []\n",
    "    for i in range(0,len(seq)-k+1):\n",
    "        kmer = seq[i:i+k]\n",
    "        kmerArr.append(kmer)\n",
    "    return kmerArr"
   ]
  },
  {
   "cell_type": "code",
   "execution_count": 15,
   "metadata": {},
   "outputs": [
    {
     "data": {
      "text/plain": [
       "['GATG',\n",
       " 'ATGG',\n",
       " 'TGGA',\n",
       " 'GGAA',\n",
       " 'GAAC',\n",
       " 'AACT',\n",
       " 'ACTT',\n",
       " 'CTTG',\n",
       " 'TTGA',\n",
       " 'TGAC',\n",
       " 'GACT',\n",
       " 'ACTA',\n",
       " 'CTAC',\n",
       " 'TACG',\n",
       " 'ACGT',\n",
       " 'CGTA',\n",
       " 'GTAA',\n",
       " 'TAAA',\n",
       " 'AAAT',\n",
       " 'AATT']"
      ]
     },
     "execution_count": 15,
     "metadata": {},
     "output_type": "execute_result"
    }
   ],
   "source": [
    "kmers(\"GATGGAACTTGACTACGTAAATT\", 4)"
   ]
  }
 ],
 "metadata": {
  "kernelspec": {
   "display_name": "Python 3",
   "language": "python",
   "name": "python3"
  },
  "language_info": {
   "codemirror_mode": {
    "name": "ipython",
    "version": 3
   },
   "file_extension": ".py",
   "mimetype": "text/x-python",
   "name": "python",
   "nbconvert_exporter": "python",
   "pygments_lexer": "ipython3",
   "version": "3.7.4"
  }
 },
 "nbformat": 4,
 "nbformat_minor": 2
}
