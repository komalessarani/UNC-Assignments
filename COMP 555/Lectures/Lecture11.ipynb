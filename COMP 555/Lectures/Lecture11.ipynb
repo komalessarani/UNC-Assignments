{
 "cells": [
  {
   "cell_type": "markdown",
   "metadata": {},
   "source": [
    "## A tweak to argsort()\n",
    "\n",
    "* Recall argsort() from last time:"
   ]
  },
  {
   "cell_type": "code",
   "execution_count": 5,
   "metadata": {},
   "outputs": [
    {
     "name": "stdout",
     "output_type": "stream",
     "text": [
      "[3, 1, 5, 4, 2, 6, 0]\n"
     ]
    }
   ],
   "source": [
    "def argsort(input):\n",
    "    return sorted(range(len(input)), key=input.__getitem__)\n",
    "\n",
    "B = [\"TAGACAT\", \"AGACAT\", \"GACAT\", \"ACAT\", \"CAT\", \"AT\", \"T\"]\n",
    "print(argsort(B))"
   ]
  },
  {
   "cell_type": "markdown",
   "metadata": {},
   "source": [
    "## Constructing a Suffix Array"
   ]
  },
  {
   "cell_type": "code",
   "execution_count": 1,
   "metadata": {},
   "outputs": [
    {
     "name": "stdout",
     "output_type": "stream",
     "text": [
      "[20, 9, 13, 18, 0, 7, 11, 16, 2, 4, 10, 6, 14, 19, 1, 8, 12, 17, 3, 15, 5]\n",
      "20: a\n",
      " 9: acanalpanama\n",
      "13: alpanama\n",
      "18: ama\n",
      " 0: amanaplanacanalpanama\n",
      " 7: anacanalpanama\n",
      "11: analpanama\n",
      "16: anama\n",
      " 2: anaplanacanalpanama\n",
      " 4: aplanacanalpanama\n",
      "10: canalpanama\n",
      " 6: lanacanalpanama\n",
      "14: lpanama\n",
      "19: ma\n",
      " 1: manaplanacanalpanama\n",
      " 8: nacanalpanama\n",
      "12: nalpanama\n",
      "17: nama\n",
      " 3: naplanacanalpanama\n",
      "15: panama\n",
      " 5: planacanalpanama\n"
     ]
    }
   ],
   "source": [
    "def suffixArray(string):\n",
    "    return [i for i in sorted(range(len(string)), key=lambda x: string[x:])]\n",
    "\n",
    "t = \"amanaplanacanalpanama\"\n",
    "sa = suffixArray(t)\n",
    "print(sa)\n",
    "for i in sa:\n",
    "    print(\"%2d: %s\" % (i, t[i:]))"
   ]
  },
  {
   "cell_type": "markdown",
   "metadata": {},
   "source": [
    "## Searching a Suffix Array\n",
    "\n",
    "* Searching a sorted list requires $O(log(m))$ comparisons using ***binary search***\n",
    "* Each comparision is over *n* symbols of the pattern\n",
    "* Thus, searching is $O(n log(m))$"
   ]
  },
  {
   "cell_type": "code",
   "execution_count": 7,
   "metadata": {},
   "outputs": [
    {
     "name": "stdout",
     "output_type": "stream",
     "text": [
      "amanaplanacanalpanama\n",
      "5 7 anacanalpanama\n"
     ]
    }
   ],
   "source": [
    "def findFirst(pattern, text, suffixarray):\n",
    "    lo, hi = 0, len(text)\n",
    "    while (lo < hi):\n",
    "        middle = (lo+hi)//2\n",
    "        if text[suffixarray[middle]:] < pattern:\n",
    "            lo = middle + 1\n",
    "        else:\n",
    "            hi = middle\n",
    "    return lo\n",
    "\n",
    "first = findFirst(\"an\", t, sa)\n",
    "print(t)\n",
    "print(first, sa[first], t[sa[first]:])"
   ]
  },
  {
   "cell_type": "markdown",
   "metadata": {},
   "source": [
    "## Finding all Occurences\n",
    "\n",
    "A variant to binary search which finds the last occurence of a pattern rather than the first. Only difference, uses \"<=\" instead of \"<\", but needs to trim string comparison to test for equality."
   ]
  },
  {
   "cell_type": "code",
   "execution_count": 8,
   "metadata": {},
   "outputs": [
    {
     "name": "stdout",
     "output_type": "stream",
     "text": [
      "amanaplanacanalpanama\n",
      "5 9\n",
      "  7: anacanalpanama\n",
      " 11: analpanama\n",
      " 16: anama\n",
      "  2: anaplanacanalpanama\n",
      "4 times\n"
     ]
    }
   ],
   "source": [
    "def findLast(pattern, text, suffixarray):\n",
    "    lo, hi = 0, len(text)\n",
    "    while (lo < hi):\n",
    "        middle = (lo+hi)//2\n",
    "        if text[suffixarray[middle]:suffixarray[middle]+len(pattern)] <= pattern:\n",
    "            lo = middle + 1\n",
    "        else:\n",
    "            hi = middle\n",
    "    return lo\n",
    "\n",
    "print(t)\n",
    "last = findLast(\"an\", t, sa)\n",
    "print(first, last)\n",
    "for suffix in sa[first:last]:     # recall \"first\" was found on the previous slide\n",
    "    print(\"%3d: %s\" % (suffix, t[suffix:]))\n",
    "print(last - first, \"times\")"
   ]
  },
  {
   "cell_type": "markdown",
   "metadata": {},
   "source": [
    "## Longest repeated substring?\n",
    "\n",
    "* Given a suffix array, we can compute a *helper* function, call the **Longest Common Prefix**, LCP"
   ]
  },
  {
   "cell_type": "code",
   "execution_count": 9,
   "metadata": {},
   "outputs": [
    {
     "name": "stdout",
     "output_type": "stream",
     "text": [
      "SA,LCP,Suffix\n",
      "20:  0 a\n",
      " 9:  1 acanalpanama\n",
      "13:  1 alpanama\n",
      "18:  1 ama\n",
      " 0:  3 amanaplanacanalpanama\n",
      " 7:  1 anacanalpanama\n",
      "11:  3 analpanama\n",
      "16:  3 anama\n",
      " 2:  3 anaplanacanalpanama\n",
      " 4:  1 aplanacanalpanama\n",
      "10:  0 canalpanama\n",
      " 6:  0 lanacanalpanama\n",
      "14:  1 lpanama\n",
      "19:  0 ma\n",
      " 1:  2 manaplanacanalpanama\n",
      " 8:  0 nacanalpanama\n",
      "12:  2 nalpanama\n",
      "17:  2 nama\n",
      " 3:  2 naplanacanalpanama\n",
      "15:  0 panama\n",
      " 5:  1 planacanalpanama\n"
     ]
    }
   ],
   "source": [
    "def computeLCP(text, suffixarray):\n",
    "    m = len(text)\n",
    "    lcp = [0 for i in range(m)]\n",
    "    for i in range(1,m):\n",
    "        u = suffixarray[i-1]\n",
    "        v = suffixarray[i]\n",
    "        n = 0\n",
    "        while text[u] == text[v]:\n",
    "            n += 1\n",
    "            u += 1\n",
    "            v += 1\n",
    "            if (u >= m) or (v >= m):\n",
    "                break\n",
    "        lcp[i] = n\n",
    "    return lcp\n",
    "\n",
    "lcp = computeLCP(t, sa)\n",
    "\n",
    "print(\"SA,LCP,Suffix\")\n",
    "for i, j in enumerate(sa):\n",
    "    print(\"%2d: %2d %s\" % (j, lcp[i], t[j:]))"
   ]
  },
  {
   "cell_type": "markdown",
   "metadata": {},
   "source": [
    "## Key Idea behind the BWT\n",
    "\n",
    "* Sorting Cyclical Suffixes (say that 3-times fast)\n",
    "<pre>\n",
    "         \"Cyclical Suffixes\"         \"Sorted Cyclical Suffixes\" \n",
    "              tarheel$                    $tarhee<span style=\"color:blue;\">l</span>\n",
    "              arheel$t                    arheel$<span style=\"color:blue;\">t</span>\n",
    "              rheel$ta                    eel$tar<span style=\"color:blue;\">h</span>\n",
    "              heel$tar                    el$tarh<span style=\"color:blue;\">e</span>\n",
    "              eel$tarh                    heel$ta<span style=\"color:blue;\">r</span>\n",
    "              el$tarhe                    l$tarhe<span style=\"color:blue;\">e</span>\n",
    "              l$tarhee                    rheel$t<span style=\"color:blue;\">a</span>\n",
    "              $tarheel                    tarheel<span style=\"color:blue;\">&dollar;</span>\n",
    "</pre>\n",
    "\n",
    "* The BWT of \"tarheels\" is the last column of the sorted cyclical suffixes \"ltherea&dollar;\"\n",
    "* Notice that the sorted cyclical suffixes have a lot in common with a suffix array.\n",
    "* The BWT is just the \"predecessor symbol of these suffixes\", where \"&dollar;\" precedes the first symbol"
   ]
  },
  {
   "cell_type": "code",
   "execution_count": 10,
   "metadata": {},
   "outputs": [
    {
     "name": "stdout",
     "output_type": "stream",
     "text": [
      "['DDND$DANAAADA', 'DND$DANAAADAD', 'ND$DANAAADADD', 'D$DANAAADADDN', '$DANAAADADDND', 'DANAAADADDND$', 'ANAAADADDND$D', 'NAAADADDND$DA', 'AAADADDND$DAN', 'AADADDND$DANA', 'ADADDND$DANAA', 'DADDND$DANAAA', 'ADDND$DANAAAD']\n"
     ]
    }
   ],
   "source": [
    "# making cyclical suffixes\n",
    "t=\"DDND$DANAAADA\"\n",
    "print([t[i:]+t[:i] for i in range(len(t))])"
   ]
  },
  {
   "cell_type": "markdown",
   "metadata": {},
   "source": [
    "## BWT in Python\n",
    "Straightforward implementation based on the definition (there are faster construction methods)"
   ]
  },
  {
   "cell_type": "code",
   "execution_count": 11,
   "metadata": {},
   "outputs": [
    {
     "name": "stdout",
     "output_type": "stream",
     "text": [
      "annb$aa\n",
      "amnnn$lcpmnapaaaaaaala\n",
      "nn$bnbaaaaa\n"
     ]
    }
   ],
   "source": [
    "def BWT(t):\n",
    "    # create a sorted list of all cyclic suffixes of t\n",
    "    rotation = sorted([t[i:]+t[:i] for i in range(len(t))])\n",
    "    # concatenate the last symbols from each suffix\n",
    "    return ''.join(r[-1] for r in rotation)\n",
    "\n",
    "print(BWT(\"banana$\"))\n",
    "print(BWT(\"amanaplanacanalpanama$\"))\n",
    "print(BWT(\"abananaban$\"))"
   ]
  },
  {
   "cell_type": "markdown",
   "metadata": {},
   "source": [
    "## BWT from a Suffix Array\n",
    "\n",
    "* It is even simpler to compute the BWT from a Suffix Array\n",
    "* Finds each suffix's \"predecessor\" symbol"
   ]
  },
  {
   "cell_type": "code",
   "execution_count": 12,
   "metadata": {},
   "outputs": [
    {
     "name": "stdout",
     "output_type": "stream",
     "text": [
      "DDND$DANAAADA\n",
      "[4, 12, 8, 9, 10, 6, 3, 11, 5, 0, 1, 7, 2]\n",
      "DDNAADNA$ADAD\n"
     ]
    }
   ],
   "source": [
    "def BWTfromSuffixArray(text, suffixarray):\n",
    "    return ''.join(text[i-1] for i in suffixarray)\n",
    "    \n",
    "newt = 'DDND$DANAAADA'\n",
    "sa = suffixArray(newt)\n",
    "print(newt)\n",
    "print(sa)\n",
    "print(BWTfromSuffixArray(newt, sa))"
   ]
  },
  {
   "cell_type": "markdown",
   "metadata": {},
   "source": [
    "## Inverse BWT in Python"
   ]
  },
  {
   "cell_type": "code",
   "execution_count": 13,
   "metadata": {},
   "outputs": [
    {
     "name": "stdout",
     "output_type": "stream",
     "text": [
      "ADNADADANDAD$\n",
      "amanaplanacanalpanama$\n",
      "banana$\n",
      "abananaban$\n"
     ]
    }
   ],
   "source": [
    "def inverseBWT(bwt):\n",
    "    # initialize the table from t\n",
    "    table = ['' for c in bwt]\n",
    "    for j in range(len(bwt)):\n",
    "        #insert the BWT as the first column\n",
    "        table = sorted([c+table[i] for i, c in enumerate(bwt)])\n",
    "    #return the row that ends with ‘$’\n",
    "    return table[bwt.index('$')]\n",
    "\n",
    "print(inverseBWT(\"ltherea$\"))\n",
    "print(inverseBWT(\"amnnn$lcpmnapaaaaaaala\"))\n",
    "print(inverseBWT(\"annb$aa\"))\n",
    "print(inverseBWT(\"nn$bnbaaaaa\"))"
   ]
  },
  {
   "cell_type": "markdown",
   "metadata": {},
   "source": [
    "## Constructing the FM-index"
   ]
  },
  {
   "cell_type": "code",
   "execution_count": 11,
   "metadata": {},
   "outputs": [
    {
     "name": "stdout",
     "output_type": "stream",
     "text": [
      "BWT  $, a, b, n\n",
      " a:  0, 0, 0, 0\n",
      " n:  0, 1, 0, 0\n",
      " n:  0, 1, 0, 1\n",
      " b:  0, 1, 0, 2\n",
      " $:  0, 1, 1, 2\n",
      " a:  1, 1, 1, 2\n",
      " a:  1, 2, 1, 2\n",
      "     1, 3, 1, 2\n",
      "\n",
      "[('$', 0), ('a', 1), ('b', 4), ('n', 5)]\n"
     ]
    }
   ],
   "source": [
    "def FMIndex(bwt):\n",
    "    fm = [{c: 0 for c in bwt}]  # a list of dictionaries\n",
    "    for c in bwt:\n",
    "        row = {symbol: count + 1 if (symbol == c) else count for symbol, count in fm[-1].items()}\n",
    "        fm.append(row)\n",
    "    offset = {}\n",
    "    N = 0\n",
    "    for symbol in sorted(row.keys()):\n",
    "        offset[symbol] = N\n",
    "        N += row[symbol]\n",
    "    return fm, offset\n",
    "\n",
    "bwt = \"annb$aa\"\n",
    "FM, Offset = FMIndex(bwt)\n",
    "print(\"BWT %2s,%2s,%2s,%2s\" % tuple([symbol for symbol in sorted(Offset.keys())]))\n",
    "for i, row in enumerate(FM):\n",
    "    data = [bwt[i]+':' if i < len(bwt) else '']+[row[symbol] for symbol in sorted(row.keys())]\n",
    "    print(\"%3s %2d,%2d,%2d,%2d\" % tuple(data))\n",
    "print()\n",
    "print([(sym, Offset[sym]) for sym in sorted(Offset.keys())])"
   ]
  },
  {
   "cell_type": "markdown",
   "metadata": {},
   "source": [
    "## Suffix Recovery\n",
    "\n",
    "* What is the suffix array entry corresponding to BWT index *i*?\n",
    "   - Start at *i* and repeatedly find predecessors until *i* is reached again\n",
    "\n",
    "* To find the *original* string, just start with *i = 0*, the '$' index"
   ]
  },
  {
   "cell_type": "code",
   "execution_count": 39,
   "metadata": {},
   "outputs": [
    {
     "name": "stdout",
     "output_type": "stream",
     "text": [
      "0 $banana a\n",
      "1 a$banan n\n",
      "2 ana$ban n\n",
      "3 anana$b b\n",
      "4 banana$ $\n",
      "5 na$bana a\n",
      "6 nana$ba a\n"
     ]
    }
   ],
   "source": [
    "def recoverSuffix(i, BWT, FMIndex, Offset):\n",
    "    suffix = ''\n",
    "    c = BWT[i]\n",
    "    predec = Offset[c] + FMIndex[i][c]\n",
    "    suffix = c + suffix\n",
    "    while (predec != i):\n",
    "        c = BWT[predec]\n",
    "        predec = Offset[c] + FMIndex[predec][c]\n",
    "        suffix = c + suffix\n",
    "    return suffix\n",
    "\n",
    "# recall that the FM-index that we built was \"annb$aa\", the BWT of \"banana$\"\n",
    "for i in range(len(bwt)):\n",
    "    print(i, recoverSuffix(i, bwt, FM, Offset), bwt[i])"
   ]
  },
  {
   "cell_type": "markdown",
   "metadata": {},
   "source": [
    "## BWT string search in Python\n",
    "\n",
    "* One of the simplest methods we've seen for searching"
   ]
  },
  {
   "cell_type": "code",
   "execution_count": 40,
   "metadata": {},
   "outputs": [
    {
     "name": "stdout",
     "output_type": "stream",
     "text": [
      "(2, 4)\n",
      "(4, 5)\n",
      "(4, 4)\n"
     ]
    }
   ],
   "source": [
    "def findBWT(pattern, FMIndex, Offset):\n",
    "    lo = 0\n",
    "    hi = len(FMIndex) - 1\n",
    "    for symbol in reversed(pattern):\n",
    "        lo = Offset[symbol] + FMIndex[lo][symbol]\n",
    "        hi = Offset[symbol] + FMIndex[hi][symbol]\n",
    "    return lo, hi\n",
    "\n",
    "print(findBWT(\"ana\", FM, Offset))\n",
    "print(findBWT(\"ban\", FM, Offset))\n",
    "print(findBWT(\"ann\", FM, Offset))"
   ]
  },
  {
   "cell_type": "code",
   "execution_count": null,
   "metadata": {},
   "outputs": [],
   "source": []
  }
 ],
 "metadata": {
  "kernelspec": {
   "display_name": "Python 3",
   "language": "python",
   "name": "python3"
  },
  "language_info": {
   "codemirror_mode": {
    "name": "ipython",
    "version": 3
   },
   "file_extension": ".py",
   "mimetype": "text/x-python",
   "name": "python",
   "nbconvert_exporter": "python",
   "pygments_lexer": "ipython3",
   "version": "3.7.4"
  }
 },
 "nbformat": 4,
 "nbformat_minor": 2
}
