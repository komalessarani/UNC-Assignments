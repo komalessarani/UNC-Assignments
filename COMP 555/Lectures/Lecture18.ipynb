{
 "cells": [
  {
   "cell_type": "markdown",
   "metadata": {},
   "source": [
    "## A toolkit of Python Dictionaries\n",
    "\n",
    "* The following Python Dictionaries will be used to aid our search"
   ]
  },
  {
   "cell_type": "code",
   "execution_count": 1,
   "metadata": {},
   "outputs": [],
   "source": [
    "codon = {  # Maps an RNA triplet of nucelotides to a 1-letter Amino Acid Abbrevation \n",
    "    \"AAA\": 'K', \"AAG\": 'K', \"AAC\": 'N', \"AAU\": 'N',\n",
    "    \"AGA\": 'R', \"AGG\": 'R', \"AGC\": 'S', \"AGU\": 'S',\n",
    "    \"ACA\": 'T', \"ACG\": 'T', \"ACC\": 'T', \"ACU\": 'T',\n",
    "    \"AUA\": 'I', \"AUG\": 'M', \"AUC\": 'I', \"AUU\": 'I',\n",
    "    \"GAA\": 'E', \"GAG\": 'E', \"GAC\": 'D', \"GAU\": 'D',\n",
    "    \"GGA\": 'G', \"GGG\": 'G', \"GGC\": 'G', \"GGU\": 'G',\n",
    "    \"GCA\": 'A', \"GCG\": 'A', \"GCC\": 'A', \"GCU\": 'A',\n",
    "    \"GUA\": 'V', \"GUG\": 'V', \"GUC\": 'V', \"GUU\": 'V',\n",
    "    \"CAA\": 'Q', \"CAG\": 'Q', \"CAC\": 'H', \"CAU\": 'H',\n",
    "    \"CGA\": 'R', \"CGG\": 'R', \"CGC\": 'R', \"CGU\": 'R',\n",
    "    \"CCA\": 'P', \"CCG\": 'P', \"CCC\": 'P', \"CCU\": 'P',\n",
    "    \"CUA\": 'L', \"CUG\": 'L', \"CUC\": 'L', \"CUU\": 'L',\n",
    "    \"UAA\": '*', \"UAG\": '*', \"UAC\": 'Y', \"UAU\": 'Y',\n",
    "    \"UGA\": '*', \"UGG\": 'W', \"UGC\": 'C', \"UGU\": 'C',\n",
    "    \"UCA\": 'S', \"UCG\": 'S', \"UCC\": 'S', \"UCU\": 'S',\n",
    "    \"UUA\": 'L', \"UUG\": 'L', \"UUC\": 'F', \"UUU\": 'F'\n",
    "}\n",
    "\n",
    "AminoAcid = { # Maps 1-letter Amino Acid Abbrevations to their full name\n",
    "    'A': 'Alanine', 'C': 'Cysteine', 'D': 'Aspartic acid', 'E': 'Glutamic acid', 'F': 'Phenylalanine',\n",
    "    'G': 'Glycine', 'H': 'Histidine', 'I': 'Isoleucine', 'K': 'Lysine', 'L': 'Leucine', 'M': 'Methionine',\n",
    "    'N': 'Asparagine', 'P': 'Proline', 'Q': 'Glutamine', 'R': 'Arginine', 'S': 'Serine',\n",
    "    'T': 'Theronine', 'V': 'Valine', 'W': 'Tryptophan', 'Y': 'Tyrosine', '*': 'STOP'\n",
    "}\n",
    "\n",
    "AminoAbbrv = { # Maps 1-letter Amino Acid Abbrevations to 3-letter Abbrevations\n",
    "    'A': 'Ala', 'C': 'Cys', 'D': 'Asp', 'E': 'Glu', 'F': 'Phe', 'G': 'Gly', 'H': 'His', 'I': 'Ile',\n",
    "    'K': 'Lys', 'L': 'Leu', 'M': 'Met', 'N': 'Asn', 'P': 'Pro', 'Q': 'Gln', 'R': 'Arg', 'S': 'Ser',\n",
    "    'T': 'Thr', 'V': 'Val', 'W': 'Trp', 'Y': 'Tyr', '*': 'STP'    \n",
    "}"
   ]
  },
  {
   "cell_type": "markdown",
   "metadata": {},
   "source": [
    "## Now our Peptide sequence\n",
    "We'll use the 1-letter Amino Acid abbreviations to represent our sequence, and create a dictionary that provides for every peptide in our chain the set of codons that could encode it."
   ]
  },
  {
   "cell_type": "code",
   "execution_count": 2,
   "metadata": {},
   "outputs": [
    {
     "name": "stdout",
     "output_type": "stream",
     "text": [
      "* (         STOP): ['UAA', 'UAG', 'UGA']\n",
      "A (      Alanine): ['GCA', 'GCG', 'GCC', 'GCU']\n",
      "C (     Cysteine): ['UGC', 'UGU']\n",
      "D (Aspartic acid): ['GAC', 'GAU']\n",
      "E (Glutamic acid): ['GAA', 'GAG']\n",
      "F (Phenylalanine): ['UUC', 'UUU']\n",
      "G (      Glycine): ['GGA', 'GGG', 'GGC', 'GGU']\n",
      "H (    Histidine): ['CAC', 'CAU']\n",
      "I (   Isoleucine): ['AUA', 'AUC', 'AUU']\n",
      "K (       Lysine): ['AAA', 'AAG']\n",
      "L (      Leucine): ['CUA', 'CUG', 'CUC', 'CUU', 'UUA', 'UUG']\n",
      "M (   Methionine): ['AUG']\n",
      "N (   Asparagine): ['AAC', 'AAU']\n",
      "P (      Proline): ['CCA', 'CCG', 'CCC', 'CCU']\n",
      "Q (    Glutamine): ['CAA', 'CAG']\n",
      "R (     Arginine): ['AGA', 'AGG', 'CGA', 'CGG', 'CGC', 'CGU']\n",
      "S (       Serine): ['AGC', 'AGU', 'UCA', 'UCG', 'UCC', 'UCU']\n",
      "T (    Theronine): ['ACA', 'ACG', 'ACC', 'ACU']\n",
      "V (       Valine): ['GUA', 'GUG', 'GUC', 'GUU']\n",
      "W (   Tryptophan): ['UGG']\n",
      "Y (     Tyrosine): ['UAC', 'UAU']\n"
     ]
    }
   ],
   "source": [
    "TrimerCodes = {}\n",
    "for key, code in codon.items():\n",
    "    TrimerCodes[code] = TrimerCodes.get(code,[]) + [key]\n",
    "for key in sorted(TrimerCodes.keys()):\n",
    "    print(\"%1s (%13s): %s\" % (key, AminoAcid[key], TrimerCodes[key]))"
   ]
  },
  {
   "cell_type": "markdown",
   "metadata": {},
   "source": [
    "## How many ways to code Tyrocidine B1?\n",
    "\n",
    "* Since most Amino Acids have multiple codon encodings, most peptide sequences can be codes in multiple ways.\n",
    "* Let's figure out exactly how many ways there are to encode our little peptide."
   ]
  },
  {
   "cell_type": "code",
   "execution_count": 3,
   "metadata": {},
   "outputs": [
    {
     "name": "stdout",
     "output_type": "stream",
     "text": [
      "V Val ['GUA', 'GUG', 'GUC', 'GUU']\n",
      "K Lys ['AAA', 'AAG']\n",
      "L Leu ['CUA', 'CUG', 'CUC', 'CUU', 'UUA', 'UUG']\n",
      "F Phe ['UUC', 'UUU']\n",
      "P Pro ['CCA', 'CCG', 'CCC', 'CCU']\n",
      "W Trp ['UGG']\n",
      "F Phe ['UUC', 'UUU']\n",
      "N Asn ['AAC', 'AAU']\n",
      "Q Gln ['CAA', 'CAG']\n",
      "Y Tyr ['UAC', 'UAU']\n",
      "6144 possible sequences\n"
     ]
    }
   ],
   "source": [
    "TyrocidineB1 = \"VKLFPWFNQY\"\n",
    "codes = 1\n",
    "for residue in TyrocidineB1:\n",
    "    print(residue, AminoAbbrv[residue], TrimerCodes[residue])\n",
    "    codes *= len(TrimerCodes[residue])\n",
    "print(\"%d possible sequences\" % codes)"
   ]
  },
  {
   "cell_type": "markdown",
   "metadata": {},
   "source": [
    "## Some Helper functions"
   ]
  },
  {
   "cell_type": "code",
   "execution_count": 4,
   "metadata": {},
   "outputs": [],
   "source": [
    "def revComp(dnaSeq):\n",
    "    return ''.join([{'A':'T','C':'G','G':'C','T':'A'}[base] for base in reversed(dnaSeq)])\n",
    "\n",
    "def proteinTranslation(dnaSeq):\n",
    "    rnaSeq = dnaSeq.replace(\"T\", \"U\")\n",
    "    protSeq = ''\n",
    "    for i in range(0,len(dnaSeq),3):\n",
    "        if (i+3 > len(dnaSeq)):\n",
    "            break\n",
    "        protSeq += AminoAbbrv[codon[rnaSeq[i:i+3]]]\n",
    "    return rnaSeq, protSeq"
   ]
  },
  {
   "cell_type": "markdown",
   "metadata": {},
   "source": [
    "## Let's test it"
   ]
  },
  {
   "cell_type": "code",
   "execution_count": 5,
   "metadata": {},
   "outputs": [
    {
     "name": "stdout",
     "output_type": "stream",
     "text": [
      "A short DNA sequence\n",
      "5'-GTGAAACTTTTTCCTTGGTTTAATCAATAT-3'\n",
      "3'-CACTTTGAAAAAGGAACCAAATTAGTTATA-5'\n",
      "\n",
      "Read frames in primary sequence\n",
      "1  GTGAAACTTTTTCCTTGGTTTAATCAATAT\n",
      "   GUGAAACUUUUUCCUUGGUUUAAUCAAUAU\n",
      "   ValLysLeuPheProTrpPheAsnGlnTyr\n",
      "\n",
      "2  GTGAAACTTTTTCCTTGGTTTAATCAATAT\n",
      "    UGAAACUUUUUCCUUGGUUUAAUCAAUAUG\n",
      "    STPAsnPhePheLeuGlyLeuIleAsnMet\n",
      "\n",
      "3  GTGAAACTTTTTCCTTGGTTTAATCAATAT\n",
      "     GAAACUUUUUCCUUGGUUUAAUCAAUAUGU\n",
      "     GluThrPheSerLeuValSTPSerIleCys\n",
      "\n",
      "\n",
      "Read frames in the reverse-complement sequence\n",
      "1  ATATTGATTAAACCAAGGAAAAAGTTTCAC\n",
      "   AUAUUGAUUAAACCAAGGAAAAAGUUUCAC\n",
      "   IleLeuIleLysProArgLysLysPheHis\n",
      "\n",
      "2  ATATTGATTAAACCAAGGAAAAAGTTTCAC\n",
      "    UAUUGAUUAAACCAAGGAAAAAGUUUCACA\n",
      "    TyrSTPLeuAsnGlnGlyLysSerPheThr\n",
      "\n",
      "3  ATATTGATTAAACCAAGGAAAAAGTTTCAC\n",
      "     AUUGAUUAAACCAAGGAAAAAGUUUCACAU\n",
      "     IleAspSTPThrLysGluLysValSerHis\n",
      "\n"
     ]
    }
   ],
   "source": [
    "# one way to code TyrocidineB1\n",
    "DNA = 'GTGAAACTTTTTCCTTGGTTTAATCAATAT' \n",
    "DNAr = revComp(DNA)\n",
    "\n",
    "print(\"A short DNA sequence\")\n",
    "print(\"5'-%s-3'\" % DNA)\n",
    "print(\"3'-%s-5'\" % ''.join([{'A':'T','C':'G','G':'C','T':'A'}[base] for base in DNA]))\n",
    "print()\n",
    "\n",
    "print(\"Read frames in primary sequence\")\n",
    "for frame in range(3):\n",
    "    RNA, Peptides = proteinTranslation(DNA[frame:]+DNA[:frame])\n",
    "    print(\"%d  %s\" % (frame+1,DNA))\n",
    "    print(\"%s   %s\" % (frame*\" \", RNA))\n",
    "    print(\"%s   %s\" % (frame*\" \", Peptides))\n",
    "    print()\n",
    "print()\n",
    "\n",
    "print(\"Read frames in the reverse-complement sequence\")\n",
    "for frame in range(3):\n",
    "    RNA, Peptides = proteinTranslation(DNAr[frame:]+DNAr[:frame])\n",
    "    print(\"%d  %s\" % (frame+1,DNAr))\n",
    "    print(\"%s   %s\" % (frame*\" \", RNA))\n",
    "    print(\"%s   %s\" % (frame*\" \", Peptides))\n",
    "    print()"
   ]
  },
  {
   "cell_type": "markdown",
   "metadata": {},
   "source": [
    "## Now let's try Something Real"
   ]
  },
  {
   "cell_type": "code",
   "execution_count": 9,
   "metadata": {},
   "outputs": [
    {
     "name": "stdout",
     "output_type": "stream",
     "text": [
      "Chromosome dna:chromosome chromosome:GCA_000010165.1:Chromosome:1:6296436:1\n",
      "6296436 bases +GGGTCTGTGGATATCATTTTATCCACAAA ... AAGGCAAATATCCCCATAAAACTATTTCCC\n",
      "\n"
     ]
    }
   ],
   "source": [
    "def loadFasta(filename):\n",
    "    \"\"\" Parses a classically formatted and possibly \n",
    "        compressed FASTA file into a list of headers \n",
    "        and fragment sequences for each sequence contained\"\"\"\n",
    "    if (filename.endswith(\".gz\")):\n",
    "        fp = gzip.open(filename, 'r')\n",
    "    else:\n",
    "        fp = open(filename, 'r')\n",
    "    # split at headers\n",
    "    data = fp.read().split('>')\n",
    "    fp.close()\n",
    "    # ignore whatever appears before the 1st header\n",
    "    data.pop(0)     \n",
    "    headers = []\n",
    "    sequences = []\n",
    "    for sequence in data:\n",
    "        lines = sequence.split('\\n')\n",
    "        headers.append(lines.pop(0))\n",
    "        # add an extra \"+\" to make string \"1-referenced\"\n",
    "        sequences.append('+' + ''.join(lines))\n",
    "    return (headers, sequences)\n",
    "\n",
    "header, seq = loadFasta(\"data/BacillusBrevis.fa\")\n",
    "for i in range(len(header)):\n",
    "    print(header[i])\n",
    "    print(len(seq[i])-1, \"bases\", seq[i][:30], \"...\", seq[i][-30:])\n",
    "    print()"
   ]
  },
  {
   "cell_type": "markdown",
   "metadata": {},
   "source": [
    "## Some simple \"Computational\" experiments\n",
    "\n",
    "* Just like a biologist, it is ill-advised to jump into a problem without first getting some sense of what works and what doesn't. Let's first take a look at our data\n",
    "* One thing you might have noticed about the possible encodings of Tyrocidine B1 is that there is a single *Tryptophan* and only one encoding for this amino acid\n",
    "* Let's try to anchor our search around that seed and grow the full sequence from there.\n",
    "* Where and how many *Tryptophan* encodings"
   ]
  },
  {
   "cell_type": "code",
   "execution_count": 10,
   "metadata": {},
   "outputs": [
    {
     "name": "stdout",
     "output_type": "stream",
     "text": [
      "Searching for TGG Found it 106555 times\n",
      "Searching for CCA Found it 107112 times\n"
     ]
    }
   ],
   "source": [
    "def CodonSeqCount(genome, codonSeq):\n",
    "    N = 0\n",
    "    start = 0\n",
    "    while True:\n",
    "        pos = genome.find(codonSeq, start)\n",
    "        if (pos < 0):\n",
    "            break\n",
    "        N += 1\n",
    "        start = pos + 1\n",
    "    return N\n",
    "    \n",
    "genome = seq[0]\n",
    "tryptophanCode = TrimerCodes['W'][0].replace('U','T')\n",
    "print(\"Searching for\", tryptophanCode, \"Found it\", CodonSeqCount(genome,tryptophanCode), \"times\")\n",
    "revCompCode = revComp(tryptophanCode)\n",
    "print(\"Searching for\", revCompCode, \"Found it\", CodonSeqCount(genome,revCompCode), \"times\")"
   ]
  },
  {
   "cell_type": "markdown",
   "metadata": {},
   "source": [
    "Is this about what you expected? $\\frac {6.3 \\times 10^6}{64} \\approx 100,000$.\n",
    "We've narrowed our search some, but there's still alot. "
   ]
  },
  {
   "cell_type": "markdown",
   "metadata": {},
   "source": [
    "## Narrowing things down more\n",
    "\n",
    "* Rather than searching for every possible string, let's examine the codons around this initial anchor."
   ]
  },
  {
   "cell_type": "code",
   "execution_count": 11,
   "metadata": {},
   "outputs": [
    {
     "name": "stdout",
     "output_type": "stream",
     "text": [
      "Searching for W Found it 106555 times\n",
      "Searching for WF Found it 3922 times\n",
      "Searching for WFN Found it 111 times\n",
      "Searching for WFNQ Found it 5 times\n",
      "Searching for WFNQY Found it 1 times\n"
     ]
    }
   ],
   "source": [
    "def AminoAcidSeqCount(genome, peptideSeq):   # Note: Only checks primary strand\n",
    "    readframe = []\n",
    "    anchor = peptideSeq[0]\n",
    "    for rnaSeq in TrimerCodes[anchor]:\n",
    "        dnaSeq = rnaSeq.replace('U','T')\n",
    "        start = 0\n",
    "        while True:\n",
    "            pos = genome.find(dnaSeq, start)\n",
    "            if (pos < 0):\n",
    "                break\n",
    "            i = 1\n",
    "            while (i < len(peptideSeq) and (pos+3*(i+1) <= len(genome))):\n",
    "                if (codon[genome[pos+3*i:pos+3*(i+1)].replace('T','U')] != peptideSeq[i]):\n",
    "                    break\n",
    "                i += 1\n",
    "            else:\n",
    "                readframe.append(pos)\n",
    "            start = pos + 1\n",
    "        return readframe\n",
    "\n",
    "peptide = \"WFNQY\"\n",
    "for i in range(1,len(peptide)+1):\n",
    "    ORFs = AminoAcidSeqCount(genome,peptide[:i])\n",
    "    print(\"Searching for\", peptide[:i], \"Found it\", len(ORFs), \"times\")  "
   ]
  },
  {
   "cell_type": "markdown",
   "metadata": {},
   "source": [
    "## Could we have been Lucky this time?\n",
    "\n",
    "Let's take a look:"
   ]
  },
  {
   "cell_type": "code",
   "execution_count": 12,
   "metadata": {},
   "outputs": [
    {
     "name": "stdout",
     "output_type": "stream",
     "text": [
      "  2789614 TGGTTCAACCAATAT TrpPheAsnGlnTyr\n"
     ]
    }
   ],
   "source": [
    "for pos in ORFs:\n",
    "    start = pos\n",
    "    end = pos + (3*len(peptide))\n",
    "    print(\"%9d %s %s\" % (start, genome[start:end], proteinTranslation(genome[start:end])[1]))"
   ]
  },
  {
   "cell_type": "markdown",
   "metadata": {},
   "source": [
    "We didn't find what we were expecting."
   ]
  },
  {
   "cell_type": "markdown",
   "metadata": {},
   "source": [
    "## What Went Wrong?\n",
    "\n",
    "1. We only searched in one direction from our anchor \n",
    "2. We didn't search the reverse-complement sequence\n",
    "3. We didn't consider that the cycle could have been broken somewhere in between \"W-F-N-Q-Y\"\n",
    "   * One of the earlier 5, 111, 3922, or 106555 candidates might be the solution\n",
    "4. The best approach might be to call AminoAcidSeqCount() will all 10 circular permutations of \"VKLFPWFNQY\" (assuming that we also fix the reverse-complement sequence problem)"
   ]
  },
  {
   "cell_type": "code",
   "execution_count": 1,
   "metadata": {},
   "outputs": [
    {
     "ename": "NameError",
     "evalue": "name 'TyrocidineB1' is not defined",
     "output_type": "error",
     "traceback": [
      "\u001b[1;31m---------------------------------------------------------------------------\u001b[0m",
      "\u001b[1;31mNameError\u001b[0m                                 Traceback (most recent call last)",
      "\u001b[1;32m<ipython-input-1-e67cdc4c630a>\u001b[0m in \u001b[0;36m<module>\u001b[1;34m\u001b[0m\n\u001b[1;32m----> 1\u001b[1;33m \u001b[1;33m[\u001b[0m\u001b[0mTyrocidineB1\u001b[0m\u001b[1;33m[\u001b[0m\u001b[0mi\u001b[0m\u001b[1;33m:\u001b[0m\u001b[1;33m]\u001b[0m\u001b[1;33m+\u001b[0m\u001b[0mTyrocidineB1\u001b[0m\u001b[1;33m[\u001b[0m\u001b[1;33m:\u001b[0m\u001b[0mi\u001b[0m\u001b[1;33m]\u001b[0m \u001b[1;32mfor\u001b[0m \u001b[0mi\u001b[0m \u001b[1;32min\u001b[0m \u001b[0mrange\u001b[0m\u001b[1;33m(\u001b[0m\u001b[0mlen\u001b[0m\u001b[1;33m(\u001b[0m\u001b[0mTyrocidineB1\u001b[0m\u001b[1;33m)\u001b[0m\u001b[1;33m)\u001b[0m\u001b[1;33m]\u001b[0m\u001b[1;33m\u001b[0m\u001b[1;33m\u001b[0m\u001b[0m\n\u001b[0m",
      "\u001b[1;31mNameError\u001b[0m: name 'TyrocidineB1' is not defined"
     ]
    }
   ],
   "source": [
    "[TyrocidineB1[i:]+TyrocidineB1[:i] for i in range(len(TyrocidineB1))]"
   ]
  },
  {
   "cell_type": "code",
   "execution_count": null,
   "metadata": {},
   "outputs": [],
   "source": []
  }
 ],
 "metadata": {
  "kernelspec": {
   "display_name": "Python 3",
   "language": "python",
   "name": "python3"
  },
  "language_info": {
   "codemirror_mode": {
    "name": "ipython",
    "version": 3
   },
   "file_extension": ".py",
   "mimetype": "text/x-python",
   "name": "python",
   "nbconvert_exporter": "python",
   "pygments_lexer": "ipython3",
   "version": "3.7.4"
  }
 },
 "nbformat": 4,
 "nbformat_minor": 2
}
