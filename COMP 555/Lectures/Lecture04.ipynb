{
 "cells": [
  {
   "cell_type": "markdown",
   "metadata": {},
   "source": [
    "# itertools: 3 loops over 2 things"
   ]
  },
  {
   "cell_type": "code",
   "execution_count": 4,
   "metadata": {},
   "outputs": [
    {
     "name": "stdout",
     "output_type": "stream",
     "text": [
      "(0, 0, 0) 0\n",
      "(0, 0, 1) 1\n",
      "(0, 1, 0) 2\n",
      "(0, 1, 1) 3\n",
      "(1, 0, 0) 4\n",
      "(1, 0, 1) 5\n",
      "(1, 1, 0) 6\n",
      "(1, 1, 1) 7\n"
     ]
    }
   ],
   "source": [
    "import itertools\n",
    "\n",
    "for number in itertools.product(range(2), repeat=3):\n",
    "    print(number, sum(2**(len(number)-i-1)*bit for i, bit in enumerate(number)))"
   ]
  },
  {
   "cell_type": "markdown",
   "metadata": {},
   "source": [
    "# itertools: 2 loops over 3 things"
   ]
  },
  {
   "cell_type": "code",
   "execution_count": 4,
   "metadata": {},
   "outputs": [
    {
     "name": "stdout",
     "output_type": "stream",
     "text": [
      "(0, 0)\n",
      "(0, 1)\n",
      "(0, 2)\n",
      "(1, 0)\n",
      "(1, 1)\n",
      "(1, 2)\n",
      "(2, 0)\n",
      "(2, 1)\n",
      "(2, 2)\n"
     ]
    }
   ],
   "source": [
    "for number in itertools.product(range(3), repeat=2):\n",
    "    print(number)"
   ]
  },
  {
   "cell_type": "markdown",
   "metadata": {},
   "source": [
    "# Permutations of mixed types"
   ]
  },
  {
   "cell_type": "code",
   "execution_count": 14,
   "metadata": {},
   "outputs": [
    {
     "name": "stdout",
     "output_type": "stream",
     "text": [
      "('I', 'A', 1)\n",
      "('I', 'A', 2)\n",
      "('I', 'B', 1)\n",
      "('I', 'B', 2)\n",
      "('I', 'C', 1)\n",
      "('I', 'C', 2)\n",
      "('II', 'A', 1)\n",
      "('II', 'A', 2)\n",
      "('II', 'B', 1)\n",
      "('II', 'B', 2)\n",
      "('II', 'C', 1)\n",
      "('II', 'C', 2)\n",
      "('III', 'A', 1)\n",
      "('III', 'A', 2)\n",
      "('III', 'B', 1)\n",
      "('III', 'B', 2)\n",
      "('III', 'C', 1)\n",
      "('III', 'C', 2)\n",
      "('IV', 'A', 1)\n",
      "('IV', 'A', 2)\n",
      "('IV', 'B', 1)\n",
      "('IV', 'B', 2)\n",
      "('IV', 'C', 1)\n",
      "('IV', 'C', 2)\n"
     ]
    }
   ],
   "source": [
    "for section in itertools.product((\"I\", \"II\", \"III\", \"IV\"),\"ABC\",range(1,3)):\n",
    "    print(section)"
   ]
  },
  {
   "cell_type": "markdown",
   "metadata": {},
   "source": [
    "# Bruteforce exact search"
   ]
  },
  {
   "cell_type": "code",
   "execution_count": 5,
   "metadata": {},
   "outputs": [],
   "source": [
    "sequences = [\n",
    "    'tagtggtcttttgagtgtagatccgaagggaaagtatttccaccagttcggggtcacccagcagggcagggtgacttaat',\n",
    "    'cgcgactcggcgctcacagttatcgcacgtttagaccaaaacggagttagatccgaaactggagtttaatcggagtcctt',\n",
    "    'gttacttgtgagcctggttagatccgaaatataattgttggctgcatagcggagctgacatacgagtaggggaaatgcgt',\n",
    "    'aacatcaggctttgattaaacaatttaagcacgtagatccgaattgacctgatgacaatacggaacatgccggctccggg',\n",
    "    'accaccggataggctgcttattagatccgaaaggtagtatcgtaataatggctcagccatgtcaatgtgcggcattccac',\n",
    "    'tagatccgaatcgatcgtgtttctccctctgtgggttaacgaggggtccgaccttgctcgcatgtgccgaacttgtaccc',\n",
    "    'gaaatggttcggtgcgatatcaggccgttctcttaacttggcggtgtagatccgaacgtctctggaggggtcgtgcgcta',\n",
    "    'atgtatactagacattctaacgctcgcttattggcggagaccatttgctccactacaagaggctactgtgtagatccgaa',\n",
    "    'ttcttacacccttctttagatccgaacctgttggcgccatcttcttttcgagtccttgtacctccatttgctctgatgac',\n",
    "    'ctacctatgtaaaacaacatctactaacgtagtccggtctttcctgatctgccctaacctacaggtagatccgaaattcg']\n",
    "\n",
    "def bruteForce(dna,k):\n",
    "    \"\"\"Finds a *k*-mer common to all sequences from a\n",
    "       list of *dna* fragments with the same length\"\"\"\n",
    "    M = len(dna)     # how many sequences\n",
    "    N = len(dna[0])  # length of sequences\n",
    "    for offset in itertools.product(range(N-k+1), repeat=M):\n",
    "        for i in range(1,len(offset)):\n",
    "            if dna[0][offset[0]:offset[0]+k] != dna[i][offset[i]:offset[i]+k]:\n",
    "                break\n",
    "        else:\n",
    "            return offset, dna[0][offset[0]:offset[0]+10]"
   ]
  },
  {
   "cell_type": "code",
   "execution_count": 6,
   "metadata": {},
   "outputs": [
    {
     "name": "stdout",
     "output_type": "stream",
     "text": [
      "(17, 47, 18, 33) tagatccgaa \n",
      "\n",
      "tagtggtcttttgagtgTAGATCCGAAgggaaagtatttccaccagttcggggtcacccagcagggcagggtgacttaat\n",
      "cgcgactcggcgctcacagttatcgcacgtttagaccaaaacggagtTAGATCCGAAactggagtttaatcggagtcctt\n",
      "gttacttgtgagcctggtTAGATCCGAAatataattgttggctgcatagcggagctgacatacgagtaggggaaatgcgt\n",
      "aacatcaggctttgattaaacaatttaagcacgTAGATCCGAAttgacctgatgacaatacggaacatgccggctccggg\n",
      "\n",
      "6.02 s ± 211 ms per loop (mean ± std. dev. of 7 runs, 1 loop each)\n"
     ]
    }
   ],
   "source": [
    "M = 4\n",
    "position, motif = bruteForce(sequences[0:M], 10)\n",
    "print(position, motif, '\\n')\n",
    "\n",
    "for i in range(M):\n",
    "    p = position[i]\n",
    "    print(sequences[i][:p]+sequences[i][p:p+10].upper()+sequences[i][p+10:])\n",
    "print()\n",
    "\n",
    "%timeit bruteForce(sequences[0:M], 10)\n",
    "# you can try a larger value of M, but be prepared to wait"
   ]
  },
  {
   "cell_type": "markdown",
   "metadata": {},
   "source": [
    "# Let's try again allowing for errors"
   ]
  },
  {
   "cell_type": "code",
   "execution_count": 7,
   "metadata": {},
   "outputs": [],
   "source": [
    "def Score(s, DNA, k):\n",
    "    \"\"\" \n",
    "        compute the consensus SCORE of a given k-mer alignment given \n",
    "        offsets into each DNA string. s = list of starting indices.\n",
    "        DNA = list of nucleotide strings. k = Target Motif length\n",
    "    \"\"\"\n",
    "    score = 0\n",
    "    for i in range(k):\n",
    "        # loop over string positions\n",
    "        cnt = dict(zip(\"acgt\",(0,0,0,0)))\n",
    "        for j, sval in enumerate(s):\n",
    "            base = DNA[j][sval+i] \n",
    "            cnt[base] += 1\n",
    "        score += max(cnt.values())\n",
    "    return score\n",
    "\n",
    "def BruteForceMotifSearch(dna,k):\n",
    "    M = len(dna)     # how many sequences\n",
    "    N = len(dna[0])  # length of sequences\n",
    "    bestScore = 0\n",
    "    bestAlignment = []\n",
    "    for offset in itertools.product(range(N-k+1), repeat=M):\n",
    "        s = Score(offset,dna,k)\n",
    "        if (s > bestScore):\n",
    "            bestAlignment = [p for p in offset]\n",
    "            bestScore = s\n",
    "    print(bestAlignment, bestScore)"
   ]
  },
  {
   "cell_type": "code",
   "execution_count": 8,
   "metadata": {},
   "outputs": [
    {
     "name": "stdout",
     "output_type": "stream",
     "text": [
      "41.9 µs ± 2.96 µs per loop (mean ± std. dev. of 7 runs, 10000 loops each)\n",
      "[17, 47, 18, 33] 36\n",
      "CPU times: user 13min 15s, sys: 589 ms, total: 13min 16s\n",
      "Wall time: 13min 14s\n"
     ]
    }
   ],
   "source": [
    "seqApprox = [\n",
    "    'tagtggtcttttgagtgtagatctgaagggaaagtatttccaccagttcggggtcacccagcagggcagggtgacttaat',\n",
    "    'cgcgactcggcgctcacagttatcgcacgtttagaccaaaacggagttggatccgaaactggagtttaatcggagtcctt',\n",
    "    'gttacttgtgagcctggttagacccgaaatataattgttggctgcatagcggagctgacatacgagtaggggaaatgcgt',\n",
    "    'aacatcaggctttgattaaacaatttaagcacgtaaatccgaattgacctgatgacaatacggaacatgccggctccggg',\n",
    "    'accaccggataggctgcttattaggtccaaaaggtagtatcgtaataatggctcagccatgtcaatgtgcggcattccac',\n",
    "    'tagattcgaatcgatcgtgtttctccctctgtgggttaacgaggggtccgaccttgctcgcatgtgccgaacttgtaccc',\n",
    "    'gaaatggttcggtgcgatatcaggccgttctcttaacttggcggtgcagatccgaacgtctctggaggggtcgtgcgcta',\n",
    "    'atgtatactagacattctaacgctcgcttattggcggagaccatttgctccactacaagaggctactgtgtagatccgta',\n",
    "    'ttcttacacccttctttagatccaaacctgttggcgccatcttcttttcgagtccttgtacctccatttgctctgatgac',\n",
    "    'ctacctatgtaaaacaacatctactaacgtagtccggtctttcctgatctgccctaacctacaggtcgatccgaaattcg']\n",
    "\n",
    "%timeit Score([17, 47, 18, 33, 21, 0, 46, 70, 16, 65], seqApprox, 10)\n",
    "%time BruteForceMotifSearch(seqApprox[0:4], 10)"
   ]
  },
  {
   "cell_type": "code",
   "execution_count": null,
   "metadata": {},
   "outputs": [],
   "source": []
  }
 ],
 "metadata": {
  "kernelspec": {
   "display_name": "Python 3",
   "language": "python",
   "name": "python3"
  },
  "language_info": {
   "codemirror_mode": {
    "name": "ipython",
    "version": 3
   },
   "file_extension": ".py",
   "mimetype": "text/x-python",
   "name": "python",
   "nbconvert_exporter": "python",
   "pygments_lexer": "ipython3",
   "version": "3.7.4"
  }
 },
 "nbformat": 4,
 "nbformat_minor": 2
}
