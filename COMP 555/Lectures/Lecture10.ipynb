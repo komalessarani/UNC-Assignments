{
 "cells": [
  {
   "cell_type": "markdown",
   "metadata": {},
   "source": [
    "## Pattern Matching \n",
    "\n",
    "* <u>**Goal:**</u> Find all occurrences of a pattern in a text\n",
    "\n",
    "* <u>**Input:**</u> Pattern $p = p_1, p_2, … p_n$ and text $t = t_1, t_2, … t_m$\n",
    "\n",
    "* <u>**Output:**</u> All positions 1 < i < (m – n + 1) such that the *n*-letter substring of t starting at i matches p"
   ]
  },
  {
   "cell_type": "code",
   "execution_count": 1,
   "metadata": {},
   "outputs": [
    {
     "name": "stdout",
     "output_type": "stream",
     "text": [
      "[11, 14]\n"
     ]
    }
   ],
   "source": [
    "def bruteForcePatternMatching(p, t):\n",
    "    locations = []\n",
    "    for i in range(0, len(t)-len(p)+1):\n",
    "        if t[i:i+len(p)] == p:\n",
    "            locations.append(i)\n",
    "    return locations\n",
    "\n",
    "print(bruteForcePatternMatching(\"ssi\", \"imissmissmississippi\"))"
   ]
  },
  {
   "cell_type": "markdown",
   "metadata": {},
   "source": [
    "## Prefix *Trie* Match"
   ]
  },
  {
   "cell_type": "code",
   "execution_count": 29,
   "metadata": {},
   "outputs": [
    {
     "name": "stdout",
     "output_type": "stream",
     "text": [
      "b {'a': {'p': {'p': {'l': {'e': {'$': True}}}, 'r': {'i': {'c': {'o': {'t': {'$': True}}}}}}}, 'b': {'a': {'n': {'a': {'n': {'a': {'$': True}}}, 'd': {'a': {'n': {'a': {'$': True}}}}}}}, 'o': {'r': {'a': {'n': {'g': {'e': {'$': True}}}}}}}\n",
      "a {'a': {'n': {'a': {'n': {'a': {'$': True}}}, 'd': {'a': {'n': {'a': {'$': True}}}}}}}\n",
      "n {'n': {'a': {'n': {'a': {'$': True}}}, 'd': {'a': {'n': {'a': {'$': True}}}}}}\n",
      "a {'a': {'n': {'a': {'$': True}}}, 'd': {'a': {'n': {'a': {'$': True}}}}}\n",
      "n {'n': {'a': {'$': True}}}\n",
      "a {'a': {'$': True}}\n"
     ]
    },
    {
     "data": {
      "text/plain": [
       "True"
      ]
     },
     "execution_count": 29,
     "metadata": {},
     "output_type": "execute_result"
    }
   ],
   "source": [
    "def path(string, parent):\n",
    "    if (len(string) > 0):\n",
    "        if (string[0] in parent):\n",
    "            child = parent[string[0]]\n",
    "        else:\n",
    "            child = {}\n",
    "            parent[string[0]] = child\n",
    "        path(string[1:], child)\n",
    "    else:\n",
    "        parent['$'] = True\n",
    "\n",
    "class PrefixTrie:\n",
    "    def __init__(self):\n",
    "        \"\"\" Tree is a dictionary of the children at each node\"\"\"\n",
    "        self.root = {}\n",
    "    def add(self, string):\n",
    "        \"\"\" Add a path from the Trie's root\"\"\"\n",
    "        path(string, self.root)\n",
    "    def match(self, string):\n",
    "        \"\"\" Check if there is a path from the root to a '$' \"\"\"\n",
    "        parent = self.root\n",
    "        for c in string:\n",
    "            print(c, parent)\n",
    "            if c not in parent:\n",
    "                print('Missed', c)\n",
    "                break\n",
    "            parent = parent[c]\n",
    "        return '$' in parent\n",
    "\n",
    "T = PrefixTrie()\n",
    "T.add(\"apple\")\n",
    "T.add(\"banana\")\n",
    "T.add(\"apricot\")\n",
    "T.add(\"bandana\")\n",
    "T.add(\"orange\")\n",
    "#print(T.root)\n",
    "#print([v for v in map(T.match, ['apple', 'banana', 'apricot', 'orange', 'band', 'april', 'bananapple'])])\n",
    "T.match('banana')"
   ]
  },
  {
   "cell_type": "markdown",
   "metadata": {},
   "source": [
    "## Code for Arg Sorting"
   ]
  },
  {
   "cell_type": "code",
   "execution_count": 7,
   "metadata": {},
   "outputs": [
    {
     "name": "stdout",
     "output_type": "stream",
     "text": [
      "[6, 4, 1, 3, 2, 5, 7, 0]\n",
      "[9, 18, 27, 36, 45, 54, 63, 72]\n",
      "\n",
      "[3, 1, 5, 4, 2, 6, 0]\n",
      "['ACAT', 'AGACAT', 'AT', 'CAT', 'GACAT', 'T', 'TAGACAT']\n"
     ]
    }
   ],
   "source": [
    "def argsort(input):\n",
    "    return sorted(range(len(input)), key=input.__getitem__)\n",
    "\n",
    "A = [72,27,45,36,18,54,9,63]\n",
    "print(argsort(A))\n",
    "print([A[i] for i in argsort(A)])\n",
    "\n",
    "print()\n",
    "B = [\"TAGACAT\", \"AGACAT\", \"GACAT\", \"ACAT\", \"CAT\", \"AT\", \"T\"]\n",
    "print(argsort(B))\n",
    "print([B[i] for i in argsort(B)])"
   ]
  }
 ],
 "metadata": {
  "kernelspec": {
   "display_name": "Python 3",
   "language": "python",
   "name": "python3"
  },
  "language_info": {
   "codemirror_mode": {
    "name": "ipython",
    "version": 3
   },
   "file_extension": ".py",
   "mimetype": "text/x-python",
   "name": "python",
   "nbconvert_exporter": "python",
   "pygments_lexer": "ipython3",
   "version": "3.7.4"
  }
 },
 "nbformat": 4,
 "nbformat_minor": 2
}
