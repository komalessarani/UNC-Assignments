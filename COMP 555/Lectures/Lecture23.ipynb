{
 "cells": [
  {
   "cell_type": "markdown",
   "metadata": {},
   "source": [
    "## Reading Genotypes"
   ]
  },
  {
   "cell_type": "code",
   "execution_count": 2,
   "metadata": {},
   "outputs": [
    {
     "name": "stdout",
     "output_type": "stream",
     "text": [
      "['Chromosome', 'Position', 'A/J', 'C57BL/6J', '129S1/SvImJ', 'NOD/ShiLtJ', 'NZO/HlLtJ', 'CAST/EiJ', 'PWK/PhJ', 'WSB/EiJ', 'CC004/TauUnc']\n",
      "Number of probes 417\n",
      "data[100] = ['1', 58523233, 'T', 'T', 'T', 'T', 'C', 'C', 'C', 'T', 'T']\n",
      "data[101] = ['1', 59995627, 'A', 'A', 'A', 'C', 'C', 'C', 'C', 'C', 'C']\n",
      "data[102] = ['1', 60400655, 'A', 'A', 'A', 'G', 'G', 'G', 'A', 'G', 'G']\n",
      "data[103] = ['1', 60761817, 'G', 'G', 'G', 'A', 'A', 'A', 'G', 'G', 'G']\n",
      "data[104] = ['1', 61312969, 'C', 'C', 'C', 'C', 'C', 'C', 'T', 'C', 'C']\n",
      "data[105] = ['1', 62719241, 'A', 'G', 'A', 'A', 'A', 'A', 'G', 'A', 'A']\n",
      "data[106] = ['1', 63003989, 'T', 'T', 'T', 'T', 'T', 'C', 'C', 'C', 'C']\n",
      "data[107] = ['1', 64378809, 'G', 'A', 'G', 'G', 'G', 'G', 'A', 'G', 'G']\n",
      "data[108] = ['1', 64700440, 'C', 'T', 'T', 'T', 'T', 'T', 'T', 'T', 'T']\n",
      "data[109] = ['1', 65504911, 'C', 'T', 'C', 'C', 'T', 'C', 'C', 'C', 'C']\n"
     ]
    }
   ],
   "source": [
    "fp = open(\"CCGenotypes.csv\", 'r')\n",
    "data = fp.read().split('\\n')        # break file into lines\n",
    "fp.close()\n",
    "header = data.pop(0).split(',')     # First line is header\n",
    "while (len(data[-1].strip()) < 1):  # remove extra lines\n",
    "    data.pop()\n",
    "for i, line in enumerate(data):     # make a list from each row\n",
    "    field = line.split(',')\n",
    "    field[1] = int(field[1])        # convert position to integer\n",
    "    data[i] = field\n",
    "fp.close()\n",
    "\n",
    "print(header)\n",
    "print(\"Number of probes\", len(data))\n",
    "for i in range(100,110):\n",
    "    print(\"data[%d] = %s\" % (i, data[i]))"
   ]
  },
  {
   "cell_type": "markdown",
   "metadata": {},
   "source": [
    "## Emission Probabilites based on Genotypes"
   ]
  },
  {
   "cell_type": "code",
   "execution_count": 3,
   "metadata": {},
   "outputs": [
    {
     "name": "stdout",
     "output_type": "stream",
     "text": [
      "Enter locus [0, 417] to see its Emission probability:100\n",
      "['1', 58523233, 'T', 'T', 'T', 'T', 'C', 'C', 'C', 'T', 'T']\n",
      "                A/J, C57BL/6J, 129S1/Sv, NOD/ShiL, NZO/HlLt, CAST/EiJ,  PWK/PhJ,  WSB/EiJ\n",
      "    A:  0 ['0.1250', '0.1250', '0.1250', '0.1250', '0.1250', '0.1250', '0.1250', '0.1250']\n",
      "    C:  3 ['0.0100', '0.0100', '0.0100', '0.0100', '0.3167', '0.3167', '0.3167', '0.0100']\n",
      "    G:  0 ['0.1250', '0.1250', '0.1250', '0.1250', '0.1250', '0.1250', '0.1250', '0.1250']\n",
      "    T:  5 ['0.1900', '0.1900', '0.1900', '0.1900', '0.0167', '0.0167', '0.0167', '0.1900']\n",
      "    H:  0 ['0.1250', '0.1250', '0.1250', '0.1250', '0.1250', '0.1250', '0.1250', '0.1250']\n",
      "    N:  0 ['0.1250', '0.1250', '0.1250', '0.1250', '0.1250', '0.1250', '0.1250', '0.1250']\n"
     ]
    }
   ],
   "source": [
    "i = int(input(\"Enter locus [0, %d] to see its Emission probability:\" % len(data)))\n",
    "\n",
    "print(data[i])\n",
    "Nstates = 8\n",
    "ErrorRate = 0.05\n",
    "# Count expected genotypes\n",
    "count = dict([(call, data[i][2:2+Nstates].count(call)) for call in \"ACGTHN\"])\n",
    "print(\"          \", ', '.join([\"%8s\" % v[0:8] for v in header[2:2+Nstates]]))\n",
    "for base in count.keys():\n",
    "    # Compute emission probability, assuming 5% error rate\n",
    "    if (count[base] == 0):\n",
    "        emission = [1.0/Nstates for j in range(2,2+Nstates)]   # unexpected \n",
    "    else:\n",
    "        emission = [(1.0 - ErrorRate)/count[base] if data[i][j] == base else ErrorRate/(Nstates - count[base])\n",
    "                    for j in range(2,2+Nstates)]\n",
    "    emission = [\"%6.4f\" % v for v in emission]\n",
    "    print(\"    %s: %2d %s\" % (base, count[base], emission))"
   ]
  },
  {
   "cell_type": "markdown",
   "metadata": {},
   "source": [
    "## Transition probabilities"
   ]
  },
  {
   "cell_type": "code",
   "execution_count": 4,
   "metadata": {},
   "outputs": [
    {
     "data": {
      "image/png": "[encoded data removed]",
      "text/plain": [
       "<Figure size 576x432 with 1 Axes>"
      ]
     },
     "metadata": {},
     "output_type": "display_data"
    }
   ],
   "source": [
    "%matplotlib inline\n",
    "import numpy\n",
    "import matplotlib.pyplot as plot\n",
    "\n",
    "fig = plot.figure(figsize = (8,6))\n",
    "axes = fig.add_subplot(111)\n",
    "\n",
    "Nstates = 8\n",
    "scale = 10000000.0\n",
    "x = numpy.arange(0,100000000.0,200000.0)\n",
    "stay = ((Nstates - 1.0) * numpy.exp(-x/scale) + 1.0) / Nstates \n",
    "switch = (1.0 - stay) / (Nstates - 1.0)\n",
    "\n",
    "plot.plot(x, stay, x, switch)\n",
    "plot.text(10000000, 0.7, r'$stay = P(s_{k,i} = s_{k,i-1})$', size=\"18\")\n",
    "plot.text(40000000, 0.05, r'$switch = P(s_{k,i} = s_{j,i-1}; k \\neq j)$', size=\"18\")\n",
    "plot.xlim((0,100000000.0))\n",
    "plot.ylim((0,1.0))\n",
    "pos, labels = plot.xticks()\n",
    "result = plot.xticks(pos, [\"%5.1fM\" % (p/1000000) for p in pos])"
   ]
  },
  {
   "cell_type": "markdown",
   "metadata": {},
   "source": [
    "## Viterbi Algorithm as a Dynamic Program"
   ]
  },
  {
   "cell_type": "code",
   "execution_count": 5,
   "metadata": {},
   "outputs": [
    {
     "name": "stdout",
     "output_type": "stream",
     "text": [
      "Length of paths: 418\n"
     ]
    }
   ],
   "source": [
    "from math import exp, log10\n",
    "\n",
    "Nstates = 8\n",
    "prevpos = 1\n",
    "state = [[(float(len(data)),i) for i in range(Nstates)]]   # (log(p), PathToHere)\n",
    "for i in range(len(data)):\n",
    "    # Count expected genotypes\n",
    "    count = dict([(call, data[i][2:2+Nstates].count(call)) for call in \"ACGTHN\"])\n",
    "    # Get the target genotype at this probe\n",
    "    observed = data[i][-1]\n",
    "    # Compute emission probability, assuming 5% error rate\n",
    "    if (count[observed] == 0):\n",
    "        emission = [1.0/Nstates for j in xrange(2,2+Nstates)]   # unexpected \n",
    "    else:\n",
    "        emission = [0.95/count[data[i][j]] if data[i][j] == observed else 0.05/(Nstates - count[data[i][j]])\n",
    "                    for j in range(2,2+Nstates)]\n",
    "    # compute transition probability\n",
    "    position = data[i][1]\n",
    "    delta = position - prevpos\n",
    "    prevpos = position\n",
    "    stay = ((Nstates - 1.0)*exp(-delta/10000000.0) + 1.0)/Nstates\n",
    "    switch = (1.0 - stay)/(Nstates - 1.0)\n",
    "    # update state probailities for all paths leading to the ith state\n",
    "    path = []\n",
    "    for j in range(Nstates):\n",
    "        choices = [(log10(emission[j])+(log10(stay) if (k==j) else log10(switch))+state[-1][k][0],k)\n",
    "                   for k in range(Nstates)]\n",
    "        path.append(max(choices))   # choices is a list of tuples of (score[i], from_whence_I_arrived[i])\n",
    "    state.append(path)\n",
    "print(\"Length of paths:\", len(state))"
   ]
  },
  {
   "cell_type": "markdown",
   "metadata": {},
   "source": [
    "## Backtrack to find solution"
   ]
  },
  {
   "cell_type": "code",
   "execution_count": 6,
   "metadata": {},
   "outputs": [
    {
     "name": "stdout",
     "output_type": "stream",
     "text": [
      "5 (129.58171061177885, 5) CAST/EiJ\n",
      "1,3409090,C,C,A,A,C,A,A,A,A,PWK/PhJ\n",
      "1,14334166,A,G,A,A,A,G,G,G,A,129S1/SvImJ\n",
      "1,41477940,G,A,A,A,A,G,G,G,G,A/J\n",
      "1,52869070,G,G,G,A,A,G,G,A,A,WSB/EiJ\n",
      "1,67749123,A,G,A,A,A,G,G,G,A,A/J\n",
      "1,132786434,C,C,C,C,C,T,C,C,C,C57BL/6J\n",
      "1,172685919,A,G,A,A,A,G,G,G,A,A/J\n",
      "1,176074355,A,G,G,G,A,G,A,A,G,CAST/EiJ\n",
      "1,194886567,G,G,T,G,T,T,G,T,T,CAST/EiJ\n"
     ]
    }
   ],
   "source": [
    "# backtrack\n",
    "path = state[-1]\n",
    "maxi = 0\n",
    "maxp = path[0][0]\n",
    "for i in range(1,Nstates):\n",
    "    if (path[i][0] > maxp):\n",
    "        maxp = path[i][0]\n",
    "        maxi = i\n",
    "print(maxi, path[maxi], header[2+maxi])\n",
    "\n",
    "for j in range(len(state)-2,-1,-1):\n",
    "    data[j].append(header[2+maxi])\n",
    "    maxi = state[j+1][maxi][1]\n",
    "\n",
    "header.append(\"Founder\")\n",
    "fp = open(\"result.csv\", 'w')\n",
    "fp.write(','.join(header)+'\\n')\n",
    "prev = ''\n",
    "for row in data:\n",
    "    line = ','.join([str(v) for v in row])\n",
    "    fp.write(line+'\\n')\n",
    "    if (row[-1] != prev):\n",
    "        print(line)\n",
    "        prev = row[-1]\n",
    "print(line)\n",
    "fp.close()"
   ]
  },
  {
   "cell_type": "code",
   "execution_count": 7,
   "metadata": {},
   "outputs": [
    {
     "name": "stdout",
     "output_type": "stream",
     "text": [
      "Chromosome,Position,A/J,C57BL/6J,129S1/SvImJ,NOD/ShiLtJ,NZO/HlLtJ,CAST/EiJ,PWK/PhJ,WSB/EiJ,CC004/TauUnc,Founder\r\n",
      "1,3409090,C,C,A,A,C,A,A,A,A,PWK/PhJ\r\n",
      "1,3427467,A,A,A,A,A,G,G,A,G,PWK/PhJ\r\n",
      "1,3439034,C,C,T,T,C,C,C,T,C,PWK/PhJ\r\n",
      "1,3668628,A,G,G,G,G,A,A,G,A,PWK/PhJ\r\n",
      "1,4504223,G,G,G,G,G,A,G,A,G,PWK/PhJ\r\n",
      "1,4744395,T,T,T,T,T,G,T,G,T,PWK/PhJ\r\n",
      "1,5069641,A,A,A,A,A,G,A,A,A,PWK/PhJ\r\n",
      "1,5149169,T,G,T,G,T,G,T,T,T,PWK/PhJ\r\n",
      "1,7698048,A,G,A,A,A,G,G,G,G,PWK/PhJ\r\n",
      "...\r\n",
      "1,193654902,G,A,A,G,A,G,G,G,G,CAST/EiJ\r\n",
      "1,193673297,G,A,A,G,A,G,G,G,G,CAST/EiJ\r\n",
      "1,193688845,A,C,C,A,C,C,A,A,C,CAST/EiJ\r\n",
      "1,193709621,G,A,A,A,A,A,G,G,A,CAST/EiJ\r\n",
      "1,193732571,T,C,C,C,C,C,T,C,C,CAST/EiJ\r\n",
      "1,193928056,A,G,G,A,G,A,A,A,A,CAST/EiJ\r\n",
      "1,194000258,C,C,C,T,C,C,C,T,C,CAST/EiJ\r\n",
      "1,194149219,G,A,A,G,G,G,G,G,G,CAST/EiJ\r\n",
      "1,194625219,C,T,T,T,C,T,T,C,T,CAST/EiJ\r\n",
      "1,194886567,G,G,T,G,T,T,G,T,T,CAST/EiJ\r\n"
     ]
    }
   ],
   "source": [
    "!head result.csv; echo '...'; tail result.csv"
   ]
  },
  {
   "cell_type": "code",
   "execution_count": null,
   "metadata": {},
   "outputs": [],
   "source": []
  }
 ],
 "metadata": {
  "kernelspec": {
   "display_name": "Python 3",
   "language": "python",
   "name": "python3"
  },
  "language_info": {
   "codemirror_mode": {
    "name": "ipython",
    "version": 3
   },
   "file_extension": ".py",
   "mimetype": "text/x-python",
   "name": "python",
   "nbconvert_exporter": "python",
   "pygments_lexer": "ipython3",
   "version": "3.6.8"
  }
 },
 "nbformat": 4,
 "nbformat_minor": 2
}
