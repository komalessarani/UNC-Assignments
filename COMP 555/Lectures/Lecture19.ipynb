{
 "cells": [
  {
   "cell_type": "markdown",
   "metadata": {},
   "source": [
    "## Table Definitions"
   ]
  },
  {
   "cell_type": "code",
   "execution_count": 3,
   "metadata": {},
   "outputs": [],
   "source": [
    "AminoAcid = {\n",
    "    'A': 'Alanine', 'C': 'Cysteine', 'D': 'Aspartic acid', 'E': 'Glutamic acid',\n",
    "    'F': 'Phenylalanine', 'G': 'Glycine', 'H': 'Histidine', 'I': 'Isoleucine',\n",
    "    'K': 'Lysine', 'L': 'Leucine', 'M': 'Methionine', 'N': 'Asparagine',\n",
    "    'P': 'Proline', 'Q': 'Glutamine', 'R': 'Arginine', 'S': 'Serine',\n",
    "    'T': 'Theronine', 'V': 'Valine', 'W': 'Tryptophan', 'Y': 'Tyrosine',\n",
    "    '*': 'STOP'\n",
    "}\n",
    "\n",
    "AminoAbbrv = {\n",
    "    'A': 'Ala', 'C': 'Cys', 'D': 'Asp', 'E': 'Glu',\n",
    "    'F': 'Phe', 'G': 'Gly', 'H': 'His', 'I': 'Ile',\n",
    "    'K': 'Lys', 'L': 'Leu', 'M': 'Met', 'N': 'Asn',\n",
    "    'P': 'Pro', 'Q': 'Gln', 'R': 'Arg', 'S': 'Ser',\n",
    "    'T': 'Thr', 'V': 'Val', 'W': 'Trp', 'Y': 'Tyr',\n",
    "    '*': 'STP'    \n",
    "}\n",
    "\n",
    "# Here's a new dictionary!\n",
    "Daltons = { \n",
    "    'A':  71, 'C': 103, 'D': 115, 'E': 129,\n",
    "    'F': 147, 'G':  57, 'H': 137, 'I': 113,\n",
    "    'K': 128, 'L': 113, 'M': 131, 'N': 114,\n",
    "    'P':  97, 'Q': 128, 'R': 156, 'S':  87,\n",
    "    'T': 101, 'V':  99, 'W': 186, 'Y': 163 \n",
    "}"
   ]
  },
  {
   "cell_type": "markdown",
   "metadata": {},
   "source": [
    "## The total molecular weight of our target"
   ]
  },
  {
   "cell_type": "code",
   "execution_count": 4,
   "metadata": {},
   "outputs": [
    {
     "name": "stdout",
     "output_type": "stream",
     "text": [
      "1322\n"
     ]
    }
   ],
   "source": [
    "TyrocidineB1 = \"VKLFPWFNQY\"\n",
    "\n",
    "# The weight of Tyrocidine B1\n",
    "print(sum([Daltons[res] for res in TyrocidineB1]))"
   ]
  },
  {
   "cell_type": "markdown",
   "metadata": {},
   "source": [
    "* Generally, we will assume that the peptide's total molecular weight is known\n",
    "* We will use it as a terminating condition for many of our algorithms that attempt to reconstruct the measured set of weights"
   ]
  },
  {
   "cell_type": "code",
   "execution_count": 5,
   "metadata": {},
   "outputs": [
    {
     "name": "stdout",
     "output_type": "stream",
     "text": [
      "average molecular weight = 118.75\n",
      "maximum length = 23 minimum length = 7\n",
      "typical length = 11.203389830508474 combinations = 376657155762813.56\n"
     ]
    }
   ],
   "source": [
    "maxLen = 1322//min(Daltons.values())\n",
    "minLen = 1322//max(Daltons.values())\n",
    "averageMW = sum(Daltons.values())/20.0\n",
    "print(\"average molecular weight =\", averageMW)\n",
    "print(\"maximum length =\", maxLen, \"minimum length =\", minLen)\n",
    "typicalLen = 1322/int(averageMW)\n",
    "print(\"typical length =\", typicalLen, \"combinations =\", 20**typicalLen)"
   ]
  },
  {
   "cell_type": "markdown",
   "metadata": {},
   "source": [
    "## Code for computing a Theoretical Spectrum"
   ]
  },
  {
   "cell_type": "code",
   "execution_count": 6,
   "metadata": {},
   "outputs": [
    {
     "name": "stdout",
     "output_type": "stream",
     "text": [
      "VKLFPWFNQY\n",
      "51\n",
      "[97, 99, 113, 114, 128, 147, 163, 186, 227, 241, 242, 244, 260, 261, 283, 291, 333, 340, 357, 388, 389, 405, 430, 447, 485, 487, 543, 544, 552, 575, 577, 584, 671, 672, 690, 691, 738, 770, 804, 818, 819, 835, 917, 932, 982, 1031, 1060, 1095, 1159, 1223, 1322]\n"
     ]
    }
   ],
   "source": [
    "def TheoreticalSpectrum(peptide):\n",
    "    # Generate every possible fragment of a peptide\n",
    "    spectrum = set()\n",
    "    for fragLength in range(1,len(peptide)+1):\n",
    "        for start in range(0,len(peptide)-fragLength+1):\n",
    "            seq = peptide[start:start+fragLength]\n",
    "            spectrum.add(sum([Daltons[res] for res in seq]))\n",
    "    return sorted(spectrum)\n",
    "\n",
    "print(TyrocidineB1)\n",
    "spectrum = TheoreticalSpectrum(TyrocidineB1)\n",
    "print(len(spectrum))\n",
    "print(spectrum)"
   ]
  },
  {
   "cell_type": "markdown",
   "metadata": {},
   "source": [
    "## Fragments and their Spectrums"
   ]
  },
  {
   "cell_type": "code",
   "execution_count": 7,
   "metadata": {},
   "outputs": [
    {
     "name": "stdout",
     "output_type": "stream",
     "text": [
      "VKLFPWFNQY\n",
      "55\n",
      "           P:   97            V:   99            L:  113            N:  114            K:  128 \n",
      "           Q:  128*           F:  147            F:  147*           Y:  163            W:  186 \n",
      "          VK:  227           KL:  241           NQ:  242           FP:  244           LF:  260 \n",
      "          FN:  261           PW:  283           QY:  291           WF:  333          VKL:  340 \n",
      "         LFP:  357          KLF:  388          FNQ:  389          NQY:  405          FPW:  430 \n",
      "         PWF:  430*         WFN:  447         KLFP:  485         VKLF:  487         LFPW:  543 \n",
      "        PWFN:  544         FNQY:  552         WFNQ:  575         FPWF:  577        VKLFP:  584 \n",
      "       KLFPW:  671        PWFNQ:  672        LFPWF:  690        FPWFN:  691        WFNQY:  738 \n",
      "      VKLFPW:  770       LFPWFN:  804       KLFPWF:  818       FPWFNQ:  819       PWFNQY:  835 \n",
      "     VKLFPWF:  917      KLFPWFN:  932      LFPWFNQ:  932*     FPWFNQY:  982     VKLFPWFN: 1031 \n",
      "    KLFPWFNQ: 1060     LFPWFNQY: 1095    VKLFPWFNQ: 1159    KLFPWFNQY: 1223   VKLFPWFNQY: 1322 \n"
     ]
    }
   ],
   "source": [
    "peptide = TyrocidineB1\n",
    "fragList = []\n",
    "for fragLength in range(1,len(peptide)+1):\n",
    "    for start in range(0,len(peptide)-fragLength+1):\n",
    "        seq = peptide[start:start+fragLength]\n",
    "        fragList.append((sum([Daltons[res] for res in seq]), seq))\n",
    "\n",
    "print(peptide) \n",
    "print(len(fragList))\n",
    "N = 0\n",
    "lastWeight = 0\n",
    "for weight, frag in sorted(fragList):\n",
    "    print(\"%12s: %4d%s\" % (frag, weight, \"*\" if (weight == lastWeight) else \" \"), end='')\n",
    "    N += 1\n",
    "    if (N % 5 == 0):\n",
    "        print()\n",
    "    lastWeight = weight"
   ]
  },
  {
   "cell_type": "markdown",
   "metadata": {},
   "source": [
    "## Let's try a smaller example"
   ]
  },
  {
   "cell_type": "code",
   "execution_count": 13,
   "metadata": {},
   "outputs": [
    {
     "name": "stdout",
     "output_type": "stream",
     "text": [
      "10 [71, 97, 113, 163, 184, 210, 234, 281, 347, 444]\n",
      "10\n",
      "           A:   71            P:   97            L:  113            Y:  163           LA:  184 \n",
      "          PL:  210           AY:  234          PLA:  281          LAY:  347         PLAY:  444 \n"
     ]
    }
   ],
   "source": [
    "peptide = 'PLAY'\n",
    "spectrum = TheoreticalSpectrum(peptide)\n",
    "print(len(spectrum), spectrum)\n",
    "\n",
    "fragList = []\n",
    "for fragLength in range(1,len(peptide)+1):\n",
    "    for start in range(0,len(peptide)-fragLength+1):\n",
    "        seq = peptide[start:start+fragLength]\n",
    "        fragList.append((sum([Daltons[res] for res in seq]), seq))\n",
    "\n",
    "print(len(fragList))\n",
    "N = 0\n",
    "lastWeight = 0\n",
    "for weight, frag in sorted(fragList):\n",
    "    print(\"%12s: %4d%s\" % (frag, weight, \"*\" if (weight == lastWeight) else \" \"), end='')\n",
    "    N += 1\n",
    "    if (N % 5 == 0):\n",
    "        print()\n",
    "    lastWeight = weight"
   ]
  },
  {
   "cell_type": "markdown",
   "metadata": {},
   "source": [
    "# A Brute-Force Attempt"
   ]
  },
  {
   "cell_type": "code",
   "execution_count": 77,
   "metadata": {},
   "outputs": [
    {
     "name": "stdout",
     "output_type": "stream",
     "text": [
      "Wall time: 12min 14s\n",
      "629935 candidates True\n",
      "Wall time: 22.9 s\n",
      "['MYSFV', 'VFSYM'] True\n"
     ]
    }
   ],
   "source": [
    "def PossiblePeptide(spectrum, prefix=''):\n",
    "    \"\"\" Brute force method of generating all peptide sequences with a desired weight, the max of a given spectrum \"\"\"\n",
    "    global peptideList\n",
    "    if (len(prefix) == 0):\n",
    "        peptideList = []\n",
    "    current = sum([Daltons[res] for res in prefix])\n",
    "    target = max(spectrum)  # our target\n",
    "    if (current == target):\n",
    "        peptideList.append(prefix)\n",
    "    elif (current < target):\n",
    "        for residue in Daltons.keys():\n",
    "            PossiblePeptide(spectrum, prefix+residue)\n",
    "\n",
    "def TestPeptides(candidateList, target):\n",
    "    filteredList = []\n",
    "    for peptide in candidateList:\n",
    "        candidateSpectrum = TheoreticalSpectrum(peptide)\n",
    "        if (candidateSpectrum == target):\n",
    "            filteredList.append(peptide)\n",
    "    return filteredList\n",
    "\n",
    "spectrum = TheoreticalSpectrum('MYSFV')\n",
    "%time PossiblePeptide(spectrum)\n",
    "print(len(peptideList), \"candidates\", \"MYSFV\" in peptideList)\n",
    "%time matches = TestPeptides(peptideList, spectrum)\n",
    "print(matches, \"MYSFV\" in matches)"
   ]
  },
  {
   "cell_type": "markdown",
   "metadata": {},
   "source": [
    "## Only a small change"
   ]
  },
  {
   "cell_type": "code",
   "execution_count": 11,
   "metadata": {},
   "outputs": [
    {
     "name": "stdout",
     "output_type": "stream",
     "text": [
      "Wall time: 1.06 ms\n",
      "16 True\n",
      "['AIPY', 'AIYP', 'ALPY', 'ALYP', 'AYIP', 'AYLP', 'IAPY', 'IAYP', 'IPAY', 'LAPY', 'LAYP', 'LPAY', 'PIAY', 'PLAY', 'YAIP', 'YALP']\n",
      "Wall time: 0 ns\n",
      "['PIAY', 'PLAY', 'YAIP', 'YALP'] True\n"
     ]
    }
   ],
   "source": [
    "def ImprovedPossiblePeptide(spectrum, prefix=''):\n",
    "    global peptideList\n",
    "    if (len(prefix) == 0):\n",
    "        peptideList = []\n",
    "    current = sum([Daltons[res] for res in prefix])\n",
    "    target = max(spectrum)\n",
    "    if (current == target):\n",
    "        peptideList.append(prefix)\n",
    "    elif (current < target):\n",
    "        for residue in Daltons.keys():\n",
    "            # make sure that this residue appears in our spectrum\n",
    "            if (Daltons[residue] not in spectrum):\n",
    "                continue\n",
    "            # make sure that adding this residue to the sequence we have so far appears in our spectrum\n",
    "            extend = prefix + residue\n",
    "            if (sum([Daltons[res] for res in extend]) not in spectrum):\n",
    "                continue\n",
    "            ImprovedPossiblePeptide(spectrum, extend)\n",
    "\n",
    "spectrum = TheoreticalSpectrum('PLAY')\n",
    "%time ImprovedPossiblePeptide(spectrum)\n",
    "print(len(peptideList), \"PLAY\" in peptideList)\n",
    "print(peptideList)\n",
    "%time matches = TestPeptides(peptideList, spectrum)\n",
    "print(matches, \"PLAY\" in matches)"
   ]
  },
  {
   "cell_type": "markdown",
   "metadata": {},
   "source": [
    "## Impact of a small change\n",
    "* Provides a HUGE performace difference\n",
    "* Yet another example of Branch-and-Bound\n",
    "* We improved both the enumeration and verification phases, but the difference was much more significant in the enumeration step"
   ]
  },
  {
   "cell_type": "code",
   "execution_count": 39,
   "metadata": {},
   "outputs": [
    {
     "name": "stdout",
     "output_type": "stream",
     "text": [
      "AIPY, AIYP, ALPY, ALYP, AYIP, AYLP, IAPY, IAYP, IPAY, LAPY, LAYP, LPAY, PIAY, PLAY, YAIP, YALP\n",
      "[71, 97, 113, 163, 184, 210, 234, 281, 347, 444]\n",
      "[71, 97, 113, 163, 168, 184, 260, 281, 331, 444]\n"
     ]
    }
   ],
   "source": [
    "print(', '.join([peptide for peptide in peptideList]))\n",
    "print(TheoreticalSpectrum('PLAY'))\n",
    "print(TheoreticalSpectrum('LAPY'))"
   ]
  },
  {
   "cell_type": "code",
   "execution_count": 41,
   "metadata": {},
   "outputs": [
    {
     "name": "stdout",
     "output_type": "stream",
     "text": [
      "168\n",
      "331\n",
      "260\n"
     ]
    }
   ],
   "source": [
    "print(sum([Daltons[res] for res in 'AP']))  # Suffix of 'LAP' prefix\n",
    "print(sum([Daltons[res] for res in 'APY'])) # Suffix of 'LAPY'\n",
    "print(sum([Daltons[res] for res in 'PY']))  # Suffix of 'LAPY'"
   ]
  },
  {
   "cell_type": "markdown",
   "metadata": {},
   "source": [
    "## We can do Even Better\n",
    "\n",
    "* All *suffixes* of each prefix that we consider should also be in our spectrum"
   ]
  },
  {
   "cell_type": "code",
   "execution_count": 63,
   "metadata": {},
   "outputs": [
    {
     "name": "stdout",
     "output_type": "stream",
     "text": [
      "Wall time: 876 µs\n",
      "4 ['PIAY', 'PLAY', 'YAIP', 'YALP'] True\n",
      "Wall time: 721 µs\n",
      "['PIAY', 'PLAY', 'YAIP', 'YALP'] True\n"
     ]
    }
   ],
   "source": [
    "def UltimatePossiblePeptide(spectrum, prefix=''):\n",
    "    global peptideList\n",
    "    if (len(prefix) == 0):\n",
    "        peptideList = []\n",
    "    current = sum([Daltons[res] for res in prefix])\n",
    "    target = max(spectrum)\n",
    "    if (current == target):\n",
    "        peptideList.append(prefix)\n",
    "    elif (current < target):\n",
    "        for residue in Daltons.keys():\n",
    "            extend = prefix + residue\n",
    "            # test every new suffix created by adding this new reside\n",
    "            # Note: this includes the residue itself as the length 1 suffix\n",
    "            suffix = [extend[i:] for i in range(len(extend))]\n",
    "            for fragment in suffix:\n",
    "                if (sum([Daltons[res] for res in fragment]) not in spectrum):\n",
    "                    break\n",
    "            else:\n",
    "                UltimatePossiblePeptide(spectrum, extend)\n",
    "\n",
    "spectrum = TheoreticalSpectrum('PLAY')\n",
    "%time UltimatePossiblePeptide(spectrum)\n",
    "print(len(peptideList), peptideList, \"PLAY\" in peptideList)\n",
    "%time matches = TestPeptides(peptideList, spectrum)\n",
    "print(matches, \"PLAY\" in matches)"
   ]
  },
  {
   "cell_type": "markdown",
   "metadata": {},
   "source": [
    "## Now let's return to our *real* peptide"
   ]
  },
  {
   "cell_type": "code",
   "execution_count": 43,
   "metadata": {},
   "outputs": [
    {
     "name": "stdout",
     "output_type": "stream",
     "text": [
      "Wall time: 35.9 ms\n",
      "16\n",
      "True\n",
      "Wall time: 3.71 ms\n",
      "16\n",
      "True\n"
     ]
    }
   ],
   "source": [
    "spectrum = TheoreticalSpectrum(TyrocidineB1)\n",
    "%time UltimatePossiblePeptide(spectrum)\n",
    "print(len(peptideList))\n",
    "print(TyrocidineB1 in peptideList)\n",
    "%time matches = TestPeptides(peptideList, spectrum)\n",
    "print(len(matches))\n",
    "print(TyrocidineB1 in matches)"
   ]
  },
  {
   "cell_type": "code",
   "execution_count": 51,
   "metadata": {},
   "outputs": [
    {
     "name": "stdout",
     "output_type": "stream",
     "text": [
      "VKLFPWFNQY\n",
      "VKIFPWFNKY,VKIFPWFNQY,VKLFPWFNKY,VKLFPWFNQY,\n",
      "VQIFPWFNKY,VQIFPWFNQY,VQLFPWFNKY,VQLFPWFNQY,\n",
      "YKNFWPFIKV,YKNFWPFIQV,YKNFWPFLKV,YKNFWPFLQV,\n",
      "YQNFWPFIKV,YQNFWPFIQV,YQNFWPFLKV,YQNFWPFLQV,\n"
     ]
    }
   ],
   "source": [
    "print(TyrocidineB1)\n",
    "for i, peptide in enumerate(peptideList):\n",
    "    print(peptide, end=',')\n",
    "    if (i % 4 == 3):\n",
    "        print()"
   ]
  },
  {
   "cell_type": "code",
   "execution_count": 76,
   "metadata": {},
   "outputs": [
    {
     "name": "stdout",
     "output_type": "stream",
     "text": [
      "621839\n"
     ]
    }
   ],
   "source": [
    "Daltons = { \n",
    "        'A':  71, 'C': 103, 'D': 115, 'E': 129,\n",
    "        'F': 147, 'G':  57, 'H': 137, 'I': 113,\n",
    "        'K': 128, 'L': 113, 'M': 131, 'N': 114,\n",
    "        'P':  97, 'Q': 128, 'R': 156, 'S':  87,\n",
    "        'T': 101, 'V':  99, 'W': 186, 'Y': 163 \n",
    "    }\n",
    "\n",
    "def TheoreticalSpectrum(peptide):\n",
    "    # Generate every possible fragment of a peptide\n",
    "    spectrum = set()\n",
    "    for fragLength in range(1,len(peptide)+1):\n",
    "        for start in range(0,len(peptide)-fragLength+1):\n",
    "            seq = peptide[start:start+fragLength]\n",
    "            spectrum.add(sum([Daltons[res] for res in seq]))\n",
    "    return sorted(spectrum)\n",
    "li = list(Daltons.keys())\n",
    "def PossiblePeptide(spectrum, prefix=''):\n",
    "    \"\"\" Brute force method of generating all peptide sequences with a desired weight, the max of a given spectrum \"\"\"\n",
    "    global peptideList\n",
    "    if (len(prefix) == 0):\n",
    "        peptideList = []\n",
    "    current = sum([Daltons[res] for res in prefix])\n",
    "    target = max(spectrum)  # our target\n",
    "    if (current == target):\n",
    "        peptideList.append(prefix)\n",
    "    elif (current < target):\n",
    "        for residue, next_residue in zip(li, li[1:]+[li[0]]):\n",
    "            if(residue < next_residue):\n",
    "                PossiblePeptide(spectrum, prefix+residue)\n",
    "\n",
    "TyrocidineB1 = \"MYSFV\"\n",
    "spectrum = TheoreticalSpectrum(TyrocidineB1)\n",
    "PossiblePeptide(spectrum)\n",
    "print(len(peptideList))"
   ]
  }
 ],
 "metadata": {
  "kernelspec": {
   "display_name": "Python 3",
   "language": "python",
   "name": "python3"
  },
  "language_info": {
   "codemirror_mode": {
    "name": "ipython",
    "version": 3
   },
   "file_extension": ".py",
   "mimetype": "text/x-python",
   "name": "python",
   "nbconvert_exporter": "python",
   "pygments_lexer": "ipython3",
   "version": "3.7.4"
  }
 },
 "nbformat": 4,
 "nbformat_minor": 2
}
