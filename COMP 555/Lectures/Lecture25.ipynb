{
 "cells": [
  {
   "cell_type": "markdown",
   "metadata": {},
   "source": [
    "## Breakpoints and Strips"
   ]
  },
  {
   "cell_type": "code",
   "execution_count": 1,
   "metadata": {},
   "outputs": [],
   "source": [
    "def hasBreakpoints(seq):\n",
    "    \"\"\" returns True if sequences is not strictly increasing by 1 \"\"\"\n",
    "    for i in range(1, len(seq)):\n",
    "        if (seq[i] != seq[i-1] + 1):\n",
    "            return True\n",
    "    return False\n",
    "\n",
    "def getStrips(seq):\n",
    "    \"\"\" find contained intervals where sequence is ordered, and return intervals\n",
    "    in as lists, increasing and decreasing. Single elements are considered\n",
    "    decreasing. \"Contained\" excludes the first and last interval. \"\"\"\n",
    "    deltas = [seq[i+1] - seq[i] for i in range(len(seq)-1)]\n",
    "    increasing = list()\n",
    "    decreasing = list()\n",
    "    start = 0\n",
    "    for i, diff in enumerate(deltas):\n",
    "        if (abs(diff) == 1) and (diff == deltas[start]):\n",
    "            continue\n",
    "        if (start > 0):\n",
    "            if deltas[start] == 1:\n",
    "                increasing.append((start, i+1))\n",
    "            else:\n",
    "                decreasing.append((start, i+1))\n",
    "        start = i+1\n",
    "    return increasing, decreasing"
   ]
  },
  {
   "cell_type": "markdown",
   "metadata": {},
   "source": [
    "## Handle Reversals"
   ]
  },
  {
   "cell_type": "code",
   "execution_count": 2,
   "metadata": {},
   "outputs": [],
   "source": [
    "def pickReversal(seq, strips):\n",
    "    \"\"\" test each decreasing interval to see if it leads to a reversal that\n",
    "    removes two breakpoints, otherwise, return a reversal that removes only one \"\"\"\n",
    "    for i, j in strips:\n",
    "        k = seq.index(seq[j-1]-1)\n",
    "        if (seq[k+1] + 1 == seq[j]):\n",
    "            # removes 2 breakpoints\n",
    "            return 2, (min(k+1, j), max(k+1, j))\n",
    "    # In the worst case we remove only one, but avoid the length \"1\" strips\n",
    "    for i, j in strips:\n",
    "        k = seq.index(seq[j-1]-1)\n",
    "        if (j - i > 1):\n",
    "            break\n",
    "    return 1, (min(k+1, j), max(k+1, j))\n",
    "\n",
    "def doReversal(seq,reversal):\n",
    "    i, j = reversal\n",
    "    return seq[:i] + [element for element in reversed(seq[i:j])] + seq[j:]"
   ]
  },
  {
   "cell_type": "markdown",
   "metadata": {},
   "source": [
    "## Let's Do it"
   ]
  },
  {
   "cell_type": "code",
   "execution_count": 3,
   "metadata": {},
   "outputs": [
    {
     "name": "stdout",
     "output_type": "stream",
     "text": [
      "Strips: [(1, 3), (3, 5), (5, 8)] [(8, 11)]\n",
      "2: [0, 3, 4, 1, 2, 5, 6, 7, 10, 9, 8, 11]  rho(8, 11)\n",
      "Press Enter:\n",
      "Strips: [(1, 3), (3, 5)] []\n",
      "0: [0, 3, 4, 1, 2, 5, 6, 7, 8, 9, 10, 11]  rho(1, 3)\n",
      "Press Enter:\n",
      "Strips: [(3, 5)] [(1, 3)]\n",
      "1: [0, 4, 3, 1, 2, 5, 6, 7, 8, 9, 10, 11]  rho(3, 5)\n",
      "Press Enter:\n",
      "Strips: [] [(1, 5)]\n",
      "2: [0, 4, 3, 2, 1, 5, 6, 7, 8, 9, 10, 11]  rho(1, 5)\n",
      "Press Enter:\n",
      "[0, 1, 2, 3, 4, 5, 6, 7, 8, 9, 10, 11] Sorted\n",
      "4\n"
     ]
    }
   ],
   "source": [
    "def improvedBreakpointReversalSort(seq, verbose=True):\n",
    "    seq = [0] + seq + [max(seq)+1]                             # Extend sequence\n",
    "    N = 0\n",
    "    while hasBreakpoints(seq):\n",
    "        increasing, decreasing = getStrips(seq)\n",
    "        if len(decreasing) > 0:                                # pick a reversal that removes a decreasing strip\n",
    "            removed, reversal = pickReversal(seq, decreasing)\n",
    "        else:\n",
    "            removed, reversal = 0, increasing[0]               # No breakpoints can be removed\n",
    "        if verbose:\n",
    "            print(\"Strips:\", increasing, decreasing)\n",
    "            print(\"%d: %s  rho%s\" % (removed, seq, reversal))\n",
    "            input(\"Press Enter:\")\n",
    "        seq = doReversal(seq,reversal)\n",
    "        N += 1\n",
    "    if verbose:\n",
    "        print(seq, \"Sorted\")\n",
    "    return N\n",
    "\n",
    "# Also try: [1,9,3,4,7,8,2,6,5]\n",
    "print(improvedBreakpointReversalSort([3,4,1,2,5,6,7,10,9,8], verbose=True))"
   ]
  },
  {
   "cell_type": "code",
   "execution_count": null,
   "metadata": {},
   "outputs": [],
   "source": []
  }
 ],
 "metadata": {
  "kernelspec": {
   "display_name": "Python 3",
   "language": "python",
   "name": "python3"
  },
  "language_info": {
   "codemirror_mode": {
    "name": "ipython",
    "version": 3
   },
   "file_extension": ".py",
   "mimetype": "text/x-python",
   "name": "python",
   "nbconvert_exporter": "python",
   "pygments_lexer": "ipython3",
   "version": "3.6.8"
  }
 },
 "nbformat": 4,
 "nbformat_minor": 2
}
