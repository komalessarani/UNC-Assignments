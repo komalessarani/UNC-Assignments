{
 "cells": [
  {
   "cell_type": "markdown",
   "metadata": {},
   "source": [
    "# From Last Time"
   ]
  },
  {
   "cell_type": "code",
   "execution_count": 2,
   "metadata": {},
   "outputs": [],
   "source": [
    "def Alignment(b,v,w,i,j):\n",
    "    if ((i == 0) and (j == 0)):\n",
    "        return ['','']\n",
    "    if (b[i,j] == 3):\n",
    "        result = Alignment(b,v,w,i-1,j-1)\n",
    "        result[0] += v[i-1]\n",
    "        result[1] += w[j-1]\n",
    "        return result\n",
    "    if (b[i,j] == 2):\n",
    "        result = Alignment(b,v,w,i,j-1)\n",
    "        result[0] += \"_\"\n",
    "        result[1] += w[j-1]\n",
    "        return resul\n",
    "    if (b[i,j] == 1):\n",
    "        result = Alignment(b,v,w,i-1,j)\n",
    "        result[0] += v[i-1]\n",
    "        result[1] += \"_\"\n",
    "        return result"
   ]
  },
  {
   "cell_type": "code",
   "execution_count": 3,
   "metadata": {},
   "outputs": [],
   "source": [
    "def getMax(s):\n",
    "    N, M = s.shape\n",
    "    maxValue = -N*M\n",
    "    maxIJ = (-1, -1)\n",
    "    for i in range(N):\n",
    "        for j in range(M):\n",
    "            if (s[i, j] > maxValue):\n",
    "                maxValue = s[i, j]\n",
    "                maxIJ= (i, j)\n",
    "    return maxIJ\n",
    "\n",
    "def LocalAlignment(b,v,w):\n",
    "    i, j = getMax(s)\n",
    "    if (b[i,j] == 0):\n",
    "        return['', '']\n",
    "    if (b[i,j] == 3):\n",
    "        result = LocalAlignment(b,v,w,i-1,j-1)\n",
    "        result[0] += v[i-1]\n",
    "        result[1] += w[j-1]\n",
    "        return result\n",
    "    if (b[i,j] == 2):\n",
    "        result = LocalAlignment(b,v,w,i,j-1)\n",
    "        result[0] += \"_\"\n",
    "        result[1] += w[j-1]\n",
    "        return result\n",
    "    if (b[i,j] == 1):\n",
    "        result = LocalAlignment(b,v,w,i-1,j)\n",
    "        result[0] += v[i-1]\n",
    "        result[1] += \"_\"\n",
    "        return result"
   ]
  },
  {
   "cell_type": "markdown",
   "metadata": {},
   "source": [
    "## Global Alignment using a scoring matrix"
   ]
  },
  {
   "cell_type": "code",
   "execution_count": 3,
   "metadata": {},
   "outputs": [
    {
     "name": "stdout",
     "output_type": "stream",
     "text": [
      "Best score = 2\n",
      "v = TTCCGAGCGTTA\n",
      "w = TTTC_AG_GTTA\n"
     ]
    }
   ],
   "source": [
    "import numpy\n",
    "\n",
    "def GlobalAlign(v, w, scorematrix, indel):\n",
    "    s = numpy.zeros((len(v)+1,len(w)+1), dtype=\"int32\")\n",
    "    b = numpy.zeros((len(v)+1,len(w)+1), dtype=\"int32\")\n",
    "    for i in range(0,len(v)+1):\n",
    "        for j in range(0,len(w)+1):\n",
    "            if (j == 0):\n",
    "                if (i > 0):\n",
    "                    s[i,j] = s[i-1,j] + indel\n",
    "                    b[i,j] = 1\n",
    "                continue\n",
    "            if (i == 0):\n",
    "                s[i,j] = s[i,j-1] + indel\n",
    "                b[i,j] = 2\n",
    "                continue\n",
    "            score = s[i-1,j-1] + scorematrix[v[i-1],w[j-1]]\n",
    "            vskip = s[i-1,j] + indel\n",
    "            wskip = s[i,j-1] + indel\n",
    "            s[i,j] = max(vskip, wskip, score)\n",
    "            if (s[i,j] == vskip):\n",
    "                b[i,j] = 1\n",
    "            elif (s[i,j] == wskip):\n",
    "                b[i,j] = 2\n",
    "            else:\n",
    "                b[i,j] = 3\n",
    "    return (s, b)\n",
    "\n",
    "match = {('A','A'):  1, ('A','C'): -2, ('A','G'): -1, ('A','T'): -2,\n",
    "         ('C','A'): -2, ('C','C'):  1, ('C','G'): -2, ('C','T'): -1,\n",
    "         ('G','A'): -1, ('G','C'): -2, ('G','G'):  1, ('G','T'): -2,\n",
    "         ('T','A'): -2, ('T','C'): -1, ('T','G'): -2, ('T','T'):  1}\n",
    "\n",
    "v = \"TTCCGAGCGTTA\"\n",
    "w = \"TTTCAGGTTA\"\n",
    "\n",
    "s, b = GlobalAlign(v,w,match,-3)\n",
    "print(\"Best score =\", s[-1,-1])\n",
    "align = Alignment(b,v,w,b.shape[0]-1,b.shape[1]-1)\n",
    "print(\"v =\", align[0])\n",
    "print(\"w =\", align[1])"
   ]
  },
  {
   "cell_type": "markdown",
   "metadata": {},
   "source": [
    "## Local Alignment"
   ]
  },
  {
   "cell_type": "code",
   "execution_count": 4,
   "metadata": {},
   "outputs": [
    {
     "name": "stdout",
     "output_type": "stream",
     "text": [
      "[[ 0  0  0  0  0  0  0  0  0  0  0]\n",
      " [ 0  5  0  0  5  0  5  0  0  0  0]\n",
      " [ 0  0 10  3  0  1  0 10  3  5  0]\n",
      " [ 0  0  3  6  0  0  0  3  6  0 10]\n",
      " [ 0  5  0  0 11  4  5  0  0  2  3]\n",
      " [ 0  5  1  0  5  7  9  2  0  0  0]\n",
      " [ 0  0  1  6  0 10  3  5  7  0  0]\n",
      " [ 0  0  0  6  2  5  6  0 10  3  0]\n",
      " [ 0  5  0  0 11  4 10  3  3  6  0]\n",
      " [ 0  5  1  0  5  7  9  6  0  0  2]\n",
      " [ 0  0 10  3  0  1  3 14  7  5  0]\n",
      " [ 0  0  3 15  8  5  0  7 19 12  5]\n",
      " [ 0  0  0  8 11  4  1  0 12 15 17]]\n",
      "\n",
      "[[0 0 0 0 0 0 0 0 0 0 0]\n",
      " [0 3 0 0 3 0 3 0 0 0 0]\n",
      " [0 0 3 2 0 3 0 3 2 3 0]\n",
      " [0 0 1 3 0 0 0 1 3 0 3]\n",
      " [0 3 0 0 3 2 3 0 0 3 1]\n",
      " [0 3 3 0 3 3 3 2 0 0 0]\n",
      " [0 0 3 3 0 3 2 3 3 2 0]\n",
      " [0 0 0 3 3 3 3 0 3 2 0]\n",
      " [0 3 0 0 3 2 3 2 1 3 0]\n",
      " [0 3 3 0 3 3 3 3 0 0 3]\n",
      " [0 0 3 2 0 3 3 3 2 3 0]\n",
      " [0 0 1 3 2 3 0 1 3 2 2]\n",
      " [0 0 0 1 3 2 3 1 1 3 3]]\n"
     ]
    }
   ],
   "source": [
    "import numpy\n",
    "\n",
    "def LocalAlign(v, w, scorematrix, indel):\n",
    "    s = numpy.zeros((len(v)+1,len(w)+1), dtype=\"int32\")\n",
    "    b = numpy.zeros((len(v)+1,len(w)+1), dtype=\"int32\")\n",
    "    for i in range(1,len(v)+1):\n",
    "        for j in range(1,len(w)+1):\n",
    "            if (j == 0):\n",
    "                if (i > 0):\n",
    "                    s[i,j] = max(s[i-1,j] + indel, 0)\n",
    "                    b[i,j] = 1\n",
    "                continue\n",
    "            if (i == 0):\n",
    "                s[i,j] = max(s[i,j-1] + indel, 0)\n",
    "                b[i,j] = 2\n",
    "                continue\n",
    "            score = s[i-1,j-1] + scorematrix[v[i-1],w[j-1]]\n",
    "            vskip = s[i-1,j] + indel\n",
    "            wskip = s[i,j-1] + indel\n",
    "            s[i,j] = max(vskip, wskip, score, 0)\n",
    "            if (s[i,j] == vskip):\n",
    "                b[i,j] = 1\n",
    "            elif (s[i,j] == wskip):\n",
    "                b[i,j] = 2\n",
    "            elif (s[i,j] == score):\n",
    "                b[i,j] = 3\n",
    "            else:\n",
    "                b[i,j] = 0\n",
    "    return (s, b)\n",
    "\n",
    "match = {('A','A'):  5, ('A','C'): -4, ('A','G'): -4, ('A','T'): -4,\n",
    "         ('C','A'): -4, ('C','C'):  5, ('C','G'): -4, ('C','T'): -4,\n",
    "         ('G','A'): -4, ('G','C'): -4, ('G','G'):  5, ('G','T'): -4,\n",
    "         ('T','A'): -4, ('T','C'): -4, ('T','G'): -4, ('T','T'):  5}\n",
    "\n",
    "v = \"GCTGGAAGGCAT\"\n",
    "w = \"GCAGAGCACT\"\n",
    "\n",
    "s, b = LocalAlign(v,w,match,-7)\n",
    "print(s)\n",
    "print()\n",
    "print(b)"
   ]
  },
  {
   "cell_type": "code",
   "execution_count": 8,
   "metadata": {},
   "outputs": [
    {
     "data": {
      "text/plain": [
       "(11, 8)"
      ]
     },
     "execution_count": 8,
     "metadata": {},
     "output_type": "execute_result"
    }
   ],
   "source": [
    "getMax(s)"
   ]
  },
  {
   "cell_type": "code",
   "execution_count": 11,
   "metadata": {},
   "outputs": [
    {
     "name": "stdout",
     "output_type": "stream",
     "text": [
      "CATTTTATATCTGAATGAGTTGGCTAAATGGAAAAAGATGTGTCACTTCTGCAGGAAAGGAACACACTGAGATATGGTCTTCTGGAAAAGTGGAAACTGTGTGAAAACTCTAGACAGCTGTATCATAATAAACAAACTTTTGCAAAAGGAATTCCACACAATCCACTGTTCCCTTTACATTCTTGCCC\n",
      "AAATGAGCTAAATACCTAATAAAAAATGGAAAAAAAAAAAAAAAGATGTGTCACTTCTGCAGGAAAGGAACACACTGAGATATGGTCTTCTGGAAAAGTGGAAACTGTGTGAAAACTCTAGACAGCTGTATCATAATAAACAAACTTTTGCAAAAGGAATTCCACACCAAAAAAAAAAAAAAAAAAAA\n",
      "(159, 167) 128\n",
      "AAAAAGATGTGTCACTTCTGCAGGAAAGGAACACACTGAGATATGGTCTTCTGGAAAAGTGGAAACTGTGTGAAAACTCTAGACAGCTGTATCATAATAAACAAACTTTTGCAAAAGGAATTCCACAC\n",
      "AAAAAGATGTGTCACTTCTGCAGGAAAGGAACACACTGAGATATGGTCTTCTGGAAAAGTGGAAACTGTGTGAAAACTCTAGACAGCTGTATCATAATAAACAAACTTTTGCAAAAGGAATTCCACAC\n"
     ]
    }
   ],
   "source": [
    "u = \"CATTTTATATCTGAATGAGTTGGCTAAATGGAAAAAGATGTGTCA\" + \\\n",
    "    \"CTTCTGCAGGAAAGGAACACACTGAGATATGGTCTTCTGGAAAAG\" + \\\n",
    "    \"TGGAAACTGTGTGAAAACTCTAGACAGCTGTATCATAATAAACAAACTTTTGC\" + \\\n",
    "    \"AAAAGGAATTCCACACAATCCACTGTTCCCTTTACATTCTTGCCC\"\n",
    "\n",
    "v = \"AAATGAGCTAAATACCTAATAAAAAATGGAAAAAAAAAAAAAAAG\" + \\\n",
    "    \"ATGTGTCACTTCTGCAGGAAAGGAACACACTGAGATATGGTCTTCTGGAAAAG\" + \\\n",
    "    \"TGGAAACTGTGTGAAAACTCTAGACAGCTGTATCATAATAAACAA\" + \\\n",
    "    \"ACTTTTGCAAAAGGAATTCCACACCAAAAAAAAAAAAAAAAAAAA\"\n",
    "\n",
    "print(u)\n",
    "print(v)\n",
    "\n",
    "match = {('A','A'):  1, ('A','C'): -1, ('A','G'): -1, ('A','T'): -1,\n",
    "         ('C','A'): -1, ('C','C'):  1, ('C','G'): -1, ('C','T'): -1,\n",
    "         ('G','A'): -1, ('G','C'): -1, ('G','G'):  1, ('G','T'): -1,\n",
    "         ('T','A'): -1, ('T','C'): -1, ('T','G'): -1, ('T','T'):  1}\n",
    "\n",
    "s, b = LocalAlign(u,v,match,-2)\n",
    "maxij = numpy.unravel_index(numpy.argmax(s), s.shape)\n",
    "print(maxij, s[maxij])\n",
    "uhi, vhi = maxij\n",
    "ulo, vlo = maxij\n",
    "while (s[ulo,vlo] > 0):\n",
    "    back = b[ulo,vlo] \n",
    "    if (back & 1):\n",
    "        ulo -= 1\n",
    "    if (back & 2):\n",
    "        vlo -= 1\n",
    "print(u[ulo:uhi])\n",
    "print(v[vlo:vhi])"
   ]
  },
  {
   "cell_type": "code",
   "execution_count": null,
   "metadata": {},
   "outputs": [],
   "source": []
  }
 ],
 "metadata": {
  "kernelspec": {
   "display_name": "Python 3",
   "language": "python",
   "name": "python3"
  },
  "language_info": {
   "codemirror_mode": {
    "name": "ipython",
    "version": 3
   },
   "file_extension": ".py",
   "mimetype": "text/x-python",
   "name": "python",
   "nbconvert_exporter": "python",
   "pygments_lexer": "ipython3",
   "version": "3.7.4"
  }
 },
 "nbformat": 4,
 "nbformat_minor": 2
}
