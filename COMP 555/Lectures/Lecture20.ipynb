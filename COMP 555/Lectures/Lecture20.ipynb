{
 "cells": [
  {
   "cell_type": "markdown",
   "metadata": {},
   "source": [
    "## Some code from last time"
   ]
  },
  {
   "cell_type": "code",
   "execution_count": 1,
   "metadata": {},
   "outputs": [
    {
     "name": "stdout",
     "output_type": "stream",
     "text": [
      "4123\n"
     ]
    }
   ],
   "source": [
    "# Now it's time to use this dictionary!\n",
    "Daltons = { \n",
    "    'A':  71, 'C': 103, 'D': 115, 'E': 129,\n",
    "    'F': 147, 'G':  57, 'H': 137, 'I': 113,\n",
    "    'K': 128, 'L': 113, 'M': 131, 'N': 114,\n",
    "    'P':  97, 'Q': 128, 'R': 156, 'S':  87,\n",
    "    'T': 101, 'V':  99, 'W': 186, 'Y': 163 \n",
    "}\n",
    "\n",
    "def TheoreticalSpectrum(peptide):\n",
    "    # Generate every possible fragment of a peptide\n",
    "    spectrum = set()\n",
    "    for fragLength in range(1,len(peptide)+1):\n",
    "        for start in range(0,len(peptide)-fragLength+1):\n",
    "            seq = peptide[start:start+fragLength]\n",
    "            spectrum.add(sum([Daltons[res] for res in seq]))\n",
    "    return sorted(spectrum)\n",
    "\n",
    "insulin = 'MALWMRLLPLLALLALWGPDPAAAFVNQHLCGSHLVEALYLVCGERGFFYTPKTR' \\\n",
    "        + 'REAEDLQVGQVELGGGPGAGSLQPLALEGSLQKRGIVEQCCTSICSLYQLENYCN'\n",
    "insulinSpectrum = TheoreticalSpectrum(insulin)\n",
    "print(len(insulinSpectrum))"
   ]
  },
  {
   "cell_type": "markdown",
   "metadata": {},
   "source": [
    "## Reminder where we left off"
   ]
  },
  {
   "cell_type": "code",
   "execution_count": 2,
   "metadata": {},
   "outputs": [
    {
     "name": "stdout",
     "output_type": "stream",
     "text": [
      "CPU times: user 2min 40s, sys: 0 ns, total: 2min 40s\n",
      "Wall time: 2min 40s\n",
      "634 8192\n"
     ]
    }
   ],
   "source": [
    "def UltimatePossiblePeptide(spectrum, prefix=''):\n",
    "    global peptideList\n",
    "    if (len(prefix) == 0):\n",
    "        peptideList = []\n",
    "    current = sum([Daltons[res] for res in prefix])\n",
    "    target = max(spectrum)\n",
    "    if (current == target):\n",
    "        peptideList.append(prefix)\n",
    "    elif (current < target):\n",
    "        for residue in Daltons.keys():\n",
    "            extend = prefix + residue\n",
    "            # test every new suffix created by adding this new residue\n",
    "            # Note: this includes the residue itself as the length 1 suffix\n",
    "            suffix = [extend[i:] for i in range(len(extend))]\n",
    "            for fragment in suffix:\n",
    "                if (sum([Daltons[res] for res in fragment]) not in spectrum):\n",
    "                    break\n",
    "            else:\n",
    "                UltimatePossiblePeptide(spectrum, extend)\n",
    "\n",
    "test = TheoreticalSpectrum(insulin[0:40])\n",
    "%time UltimatePossiblePeptide(test)\n",
    "print(len(test), len(peptideList))"
   ]
  },
  {
   "cell_type": "code",
   "execution_count": 3,
   "metadata": {},
   "outputs": [
    {
     "data": {
      "text/plain": [
       "True"
      ]
     },
     "execution_count": 3,
     "metadata": {},
     "output_type": "execute_result"
    }
   ],
   "source": [
    "insulin[0:40] in peptideList"
   ]
  },
  {
   "cell_type": "markdown",
   "metadata": {},
   "source": [
    "## An aside: Faking an Experimental Spectrum"
   ]
  },
  {
   "cell_type": "code",
   "execution_count": 4,
   "metadata": {},
   "outputs": [
    {
     "name": "stdout",
     "output_type": "stream",
     "text": [
      "Missing Masses =  [917, 114, 244, 405, 241, 99]\n",
      "False Masses =  [211, 652, 691, 359, 354]\n"
     ]
    }
   ],
   "source": [
    "# generate a synthetic experimental spectrum with 10% Error\n",
    "import itertools\n",
    "import random\n",
    "random.seed(1961)\n",
    "\n",
    "TyrocidineB1 = \"VKLFPWFNQY\"\n",
    "spectrum = TheoreticalSpectrum(TyrocidineB1)\n",
    "\n",
    "# Pick around ~10% at random to remove\n",
    "missingMass = random.sample(spectrum[:-1], 6)  # keep largest mass\n",
    "print(\"Missing Masses = \", missingMass)\n",
    "\n",
    "# Add back another ~10% of false, but actual, peptide masses\n",
    "falseMass = []\n",
    "for i in range(5):\n",
    "    fragment = ''.join(random.sample(Daltons.keys(), random.randint(2,len(TyrocidineB1)-2)))\n",
    "    weight = sum([Daltons[residue] for residue in fragment])\n",
    "    falseMass.append(weight)\n",
    "print(\"False Masses = \", falseMass)\n",
    "\n",
    "experimentalSpectrum = sorted(set([mass for mass in spectrum if mass not in missingMass] + falseMass))"
   ]
  },
  {
   "cell_type": "code",
   "execution_count": 5,
   "metadata": {},
   "outputs": [
    {
     "name": "stdout",
     "output_type": "stream",
     "text": [
      "[97, 113, 128, 147, 163, 186, 211, 227, 242, 260, 261, 283, 291, 333, 340, 354, 357, 359, 388, 389, 430, 447, 485, 487, 543, 544, 552, 575, 577, 584, 652, 671, 672, 690, 691, 738, 770, 804, 818, 819, 835, 932, 982, 1031, 1060, 1095, 1159, 1223, 1322]\n"
     ]
    }
   ],
   "source": [
    "print(experimentalSpectrum)"
   ]
  },
  {
   "cell_type": "markdown",
   "metadata": {},
   "source": [
    "## An Implementation"
   ]
  },
  {
   "cell_type": "code",
   "execution_count": 6,
   "metadata": {},
   "outputs": [
    {
     "name": "stdout",
     "output_type": "stream",
     "text": [
      "     400 Players in round 1 [0.0000]\n",
      "    1440 Players in round 2 [0.0612]\n",
      "    4960 Players in round 3 [0.1224]\n",
      "    6400 Players in round 4 [0.1800]\n",
      "    9380 Players in round 5 [0.2800]\n",
      "   10000 Players in round 6 [0.3725]\n",
      "   11820 Players in round 7 [0.4706]\n",
      "   12800 Players in round 8 [0.5962]\n",
      "   12880 Players in round 9 [0.6981]\n",
      "    7520 Players in round 10 [0.8182]\n",
      "     640 Players in round 11 [0.8182]\n",
      "Done, no sequences can be extended\n",
      "CPU times: user 3.44 s, sys: 22.3 ms, total: 3.47 s\n",
      "Wall time: 3.4 s\n",
      "[0.8181818181818182, 'YQNFWPFLQV', 'YQNFWPFLKV', 'YQNFWPFIQV', 'YQNFWPFIKV', 'YKNFWPFLQV', 'YKNFWPFLKV', 'YKNFWPFIQV', 'YKNFWPFIKV', 'VQLFPWFNQY', 'VQLFPWFNKY', 'VQIFPWFNQY', 'VQIFPWFNKY', 'VKLFPWFNQY', 'VKLFPWFNKY', 'VKIFPWFNQY', 'VKIFPWFNKY']\n",
      "16 Candidate residues with 0.8181818181818182 matches\n",
      "VKLFPWFNQY True\n"
     ]
    }
   ],
   "source": [
    "def LeaderboardFindPeptide(noisySpectrum, cutThreshold=0.05):\n",
    "    # Golf Tournament Heuristic\n",
    "    spectrum = set(noisySpectrum)\n",
    "    target = max(noisySpectrum)\n",
    "    players = [''.join(peptide) for peptide in itertools.product(Daltons.keys(), repeat=2)]\n",
    "    round = 1\n",
    "    currentLeader = [0.0, '']\n",
    "    while True:\n",
    "        print(\"%8d Players in round %d [%5.4f]\" % (len(players), round, currentLeader[0]))\n",
    "        leaderboard = []\n",
    "        for prefix in players:\n",
    "            testSpectrum = set(TheoreticalSpectrum(prefix))\n",
    "            totalWeight = max(testSpectrum)\n",
    "            score = len(spectrum & testSpectrum)/float(len(spectrum | testSpectrum))\n",
    "            if (score > currentLeader[0]):\n",
    "                currentLeader = [score, prefix]\n",
    "            elif (score == currentLeader[0]):\n",
    "                currentLeader += [prefix]\n",
    "            if (totalWeight < target):\n",
    "                leaderboard.append((score, prefix))\n",
    "        remaining = len(leaderboard)\n",
    "        if (remaining == 0):\n",
    "            print(\"Done, no sequences can be extended\")\n",
    "            break\n",
    "        leaderboard.sort(reverse=True)\n",
    "        # Prune the larger of the top 5% or the top 5 players\n",
    "        cut = leaderboard[max(min(5,remaining-1),int(remaining*cutThreshold))][0]\n",
    "        players = [p+r for s, p in leaderboard if s >= cut for r in Daltons.keys()]\n",
    "        round += 1\n",
    "    return currentLeader\n",
    "\n",
    "spectrum = TheoreticalSpectrum(TyrocidineB1)\n",
    "experimentalSpectrum = [mass for mass in spectrum if mass not in missingMass] + falseMass\n",
    "%time winners = LeaderboardFindPeptide(experimentalSpectrum)\n",
    "print(winners)\n",
    "print(len(winners) - 1, \"Candidate residues with\", winners[0], 'matches')\n",
    "print(TyrocidineB1, TyrocidineB1 in winners)"
   ]
  },
  {
   "cell_type": "markdown",
   "metadata": {},
   "source": [
    "## Let’s try a Nosier Spectrum"
   ]
  },
  {
   "cell_type": "code",
   "execution_count": 7,
   "metadata": {},
   "outputs": [
    {
     "name": "stdout",
     "output_type": "stream",
     "text": [
      "VKLFPWFNQY\n",
      "51 [97, 99, 113, 114, 128, 147, 163, 186, 227, 241, 242, 244, 260, 261, 283, 291, 333, 340, 357, 388, 389, 405, 430, 447, 485, 487, 543, 544, 552, 575, 577, 584, 671, 672, 690, 691, 738, 770, 804, 818, 819, 835, 917, 932, 982, 1031, 1060, 1095, 1159, 1223, 1322]\n",
      "\n",
      "Missing Masses = [917, 114, 244, 405, 241, 99, 982, 487, 430, 584, 804, 552, 147, 227, 97, 672, 770, 1031, 485, 818]\n",
      "\n",
      "False Masses =  [601, 354, 242, 200, 380]\n",
      "35 [113, 128, 163, 186, 200, 242, 260, 261, 283, 291, 333, 340, 354, 357, 380, 388, 389, 447, 543, 544, 575, 577, 601, 671, 690, 691, 738, 819, 835, 932, 1060, 1095, 1159, 1223, 1322]\n"
     ]
    }
   ],
   "source": [
    "# generate a synthetic experimental spectrum with 60% Error\n",
    "import random\n",
    "random.seed(1961)\n",
    "\n",
    "TyrocidineB1 = \"VKLFPWFNQY\"\n",
    "print(TyrocidineB1)\n",
    "spectrum = TheoreticalSpectrum(TyrocidineB1)\n",
    "print(len(spectrum), spectrum)\n",
    "\n",
    "# Pick around ~40% at random to remove\n",
    "missingMass = random.sample(spectrum[:-1], 20)\n",
    "print(\"\\nMissing Masses = %s\\n\" % missingMass)\n",
    "\n",
    "# Add back another ~10% of false, but actual, peptide masses\n",
    "falseMass = []\n",
    "for i in range(5):\n",
    "    fragment = ''.join(random.sample(Daltons.keys(), random.randint(2,len(TyrocidineB1)-2)))\n",
    "    weight = sum([Daltons[residue] for residue in fragment])\n",
    "    falseMass.append(weight)\n",
    "print(\"False Masses = \", falseMass)\n",
    "\n",
    "experimentalSpectrum = sorted(set([mass for mass in spectrum if mass not in missingMass] + falseMass))\n",
    "\n",
    "print(len(experimentalSpectrum), experimentalSpectrum)"
   ]
  },
  {
   "cell_type": "markdown",
   "metadata": {},
   "source": [
    "## Find peptides via the leaderboard approach"
   ]
  },
  {
   "cell_type": "code",
   "execution_count": 8,
   "metadata": {},
   "outputs": [
    {
     "name": "stdout",
     "output_type": "stream",
     "text": [
      "     400 Players in round 1 [0.0000]\n",
      "     960 Players in round 2 [0.0857]\n",
      "    1300 Players in round 3 [0.1389]\n",
      "    1740 Players in round 4 [0.2162]\n",
      "    4280 Players in round 5 [0.2895]\n",
      "    5600 Players in round 6 [0.3333]\n",
      "    5800 Players in round 7 [0.4524]\n",
      "    5960 Players in round 8 [0.5333]\n",
      "    6120 Players in round 9 [0.5833]\n",
      "    2480 Players in round 10 [0.5833]\n",
      "     240 Players in round 11 [0.5833]\n",
      "Done, no sequences can be extended\n",
      "CPU times: user 1.5 s, sys: 11.7 ms, total: 1.51 s\n",
      "Wall time: 1.48 s\n",
      "[0.5833333333333334, 'YQNFWPFLK', 'YQNFWPFLQ', 'YQNFWPFIK', 'YQNFWPFIQ', 'YKNFWPFLK', 'YKNFWPFLQ', 'YKNFWPFIK', 'YKNFWPFIQ']\n",
      "8 Candidate residues with 0.5833333333333334 matches\n",
      "VKLFPWFNQY False\n"
     ]
    }
   ],
   "source": [
    "spectrum = TheoreticalSpectrum(TyrocidineB1)\n",
    "experimentalSpectrum = [mass for mass in spectrum if mass not in missingMass] + falseMass\n",
    "%time winners = LeaderboardFindPeptide(experimentalSpectrum)\n",
    "print(winners)\n",
    "print(len(winners) - 1, \"Candidate residues with\", winners[0], 'matches')\n",
    "print(TyrocidineB1, TyrocidineB1 in winners)"
   ]
  },
  {
   "cell_type": "markdown",
   "metadata": {},
   "source": [
    "## Spectral Convolution\n",
    "\n",
    "* Spectral Convolution gives us an approach for recovering some missing masses\n",
    "* Given a noisy experimental spectrum\n",
    "  1. Compute its spectral convolution\n",
    "  2. Add frequent masses above some threshold to the spectrum\n",
    "  3. Infer the peptide sequence"
   ]
  },
  {
   "cell_type": "code",
   "execution_count": 9,
   "metadata": {},
   "outputs": [],
   "source": [
    "def SpectralConvolution(spectrum):\n",
    "    delta = {}\n",
    "    for i in range(len(spectrum)-1):\n",
    "        for j in range(i+1,len(spectrum)):\n",
    "            diff = abs(spectrum[j] - spectrum[i])\n",
    "            delta[diff] = delta.get(diff, 0) + 1\n",
    "    return delta"
   ]
  },
  {
   "cell_type": "markdown",
   "metadata": {},
   "source": [
    "## Spiking with Spectral Convolution"
   ]
  },
  {
   "cell_type": "code",
   "execution_count": 10,
   "metadata": {},
   "outputs": [
    {
     "name": "stdout",
     "output_type": "stream",
     "text": [
      "[97, 99, 114, 147, 227, 241, 244, 405, 430, 485, 487, 552, 584, 672, 770, 804, 818, 917, 982, 1031] 20\n",
      " 58 appears 3 times \t 64 appears 2 times \t 67 appears 2 times \t 72 appears 2 times \t\n",
      " 73 appears 2 times \t 74 appears 2 times \t 79 appears 2 times \t 89 appears 2 times \t\n",
      " 90 appears 2 times \t 91 appears 2 times \t 93 appears 2 times \t 94 appears 2 times \t\n",
      " 96 appears 3 times \t 97 appears 8 times*\t 98 appears 3 times \t 99 appears 2 times*\t\n",
      "105 appears 2 times \t114 appears 3 times*\t115 appears 2 times \t120 appears 2 times \t\n",
      "127 appears 2 times \t129 appears 3 times \t133 appears 2 times \t146 appears 2 times \t\n",
      "147 appears 5 times*\t148 appears 3 times \t154 appears 4 times \t155 appears 3 times \t\n",
      "156 appears 2 times \t164 appears 3 times \t170 appears 2 times \t187 appears 3 times \t\n",
      "188 appears 2 times \t189 appears 3 times \t194 appears 4 times \t195 appears 2 times \t\n",
      "203 appears 2 times \t205 appears 2 times \t212 appears 2 times \t218 appears 2 times \t\n",
      "220 appears 2 times \t221 appears 2 times \t225 appears 2 times \t226 appears 2 times \t\n",
      "227 appears 3 times*\t241 appears 3 times*\t244 appears 5 times*\t247 appears 2 times \t\n",
      "252 appears 2 times \t275 appears 2 times \t276 appears 3 times \t282 appears 2 times \t\n",
      "284 appears 3 times \t292 appears 2 times \t301 appears 2 times \t302 appears 3 times \t\n",
      "310 appears 2 times \t314 appears 2 times \t317 appears 2 times \t331 appears 2 times \t\n",
      "334 appears 2 times \t350 appears 2 times \t358 appears 3 times \t381 appears 2 times \t\n",
      "404 appears 2 times \t405 appears 2 times*\t415 appears 2 times \t429 appears 2 times \t\n",
      "430 appears 4 times*\t431 appears 3 times \t449 appears 2 times \t455 appears 2 times \t\n",
      "462 appears 2 times \t478 appears 2 times \t485 appears 4 times*\t488 appears 2 times \t\n",
      "528 appears 2 times \t552 appears 5 times*\t558 appears 3 times \t578 appears 2 times \t\n",
      "584 appears 2 times*\t648 appears 2 times \t649 appears 2 times \t672 appears 3 times*\t\n",
      "680 appears 2 times \t706 appears 3 times \t707 appears 2 times \t769 appears 2 times \t\n",
      "779 appears 2 times \t804 appears 2 times*\t834 appears 2 times \t982 appears 2 times*\t\n",
      "1031 appears 2 times*\t\n"
     ]
    }
   ],
   "source": [
    "spectrum = TheoreticalSpectrum(TyrocidineB1)\n",
    "print(sorted(missingMass), len(missingMass))\n",
    "experimentalSpectrum = sorted(set([mass for mass in spectrum if mass not in missingMass] + falseMass))\n",
    "specConv = SpectralConvolution(sorted(experimentalSpectrum))\n",
    "N = 0\n",
    "for delta, count in sorted(specConv.items()):\n",
    "    if (count >= 2) and (delta not in experimentalSpectrum) and (delta > min(Daltons.values())):\n",
    "        print(\"%3d appears %1d times%s\\t\" % (delta, count,  '*' if delta in missingMass else ' '), end='')\n",
    "        experimentalSpectrum.append(delta)\n",
    "        N += 1\n",
    "        if (N % 4 == 0):\n",
    "            print()\n",
    "print()"
   ]
  },
  {
   "cell_type": "markdown",
   "metadata": {},
   "source": [
    "## Now we try again"
   ]
  },
  {
   "cell_type": "code",
   "execution_count": 11,
   "metadata": {},
   "outputs": [
    {
     "name": "stdout",
     "output_type": "stream",
     "text": [
      "     400 Players in round 1 [0.0000]\n",
      "    1600 Players in round 2 [0.0234]\n",
      "    3600 Players in round 3 [0.0469]\n",
      "    8220 Players in round 4 [0.0781]\n",
      "    8460 Players in round 5 [0.1172]\n",
      "   14260 Players in round 6 [0.1641]\n",
      "   18880 Players in round 7 [0.2031]\n",
      "   19140 Players in round 8 [0.2656]\n",
      "   19240 Players in round 9 [0.3101]\n",
      "    8560 Players in round 10 [0.3561]\n",
      "    2160 Players in round 11 [0.3561]\n",
      "     160 Players in round 12 [0.3561]\n",
      "Done, no sequences can be extended\n",
      "CPU times: user 4.88 s, sys: 17.5 ms, total: 4.9 s\n",
      "Wall time: 4.85 s\n",
      "[0.3560606060606061, 'YQNFWPFLQV', 'YQNFWPFLKV', 'YQNFWPFIQV', 'YQNFWPFIKV', 'YKNFWPFLQV', 'YKNFWPFLKV', 'YKNFWPFIQV', 'YKNFWPFIKV', 'VQLFPWFNQY', 'VQLFPWFNKY', 'VQIFPWFNQY', 'VQIFPWFNKY', 'VKLFPWFNQY', 'VKLFPWFNKY', 'VKIFPWFNQY', 'VKIFPWFNKY']\n",
      "16 Candidate residues with 0.3560606060606061 matches\n",
      "VKLFPWFNQY True\n"
     ]
    }
   ],
   "source": [
    "%time winners = LeaderboardFindPeptide(experimentalSpectrum)\n",
    "print(winners)\n",
    "print(len(winners) - 1, \"Candidate residues with\", winners[0], 'matches')\n",
    "print(TyrocidineB1, TyrocidineB1 in winners)"
   ]
  },
  {
   "cell_type": "markdown",
   "metadata": {},
   "source": [
    "## A More *Realistic* Example"
   ]
  },
  {
   "cell_type": "code",
   "execution_count": 12,
   "metadata": {},
   "outputs": [
    {
     "name": "stdout",
     "output_type": "stream",
     "text": [
      "3407\n",
      "3357\n",
      "     324 Players in round 1 [0.0000]\n",
      "    3492 Players in round 2 [0.0009]\n",
      "   21528 Players in round 3 [0.0018]\n",
      "   88344 Players in round 4 [0.0030]\n",
      "  222696 Players in round 5 [0.0045]\n",
      "  306576 Players in round 6 [0.0063]\n",
      "  227664 Players in round 7 [0.0083]\n",
      "   85176 Players in round 8 [0.0107]\n",
      "   17262 Players in round 9 [0.0134]\n",
      "    7164 Players in round 10 [0.0164]\n",
      "    2412 Players in round 11 [0.0194]\n",
      "     702 Players in round 12 [0.0229]\n",
      "     180 Players in round 13 [0.0265]\n",
      "     108 Players in round 14 [0.0301]\n",
      "     108 Players in round 15 [0.0336]\n",
      "     126 Players in round 16 [0.0371]\n",
      "     108 Players in round 17 [0.0403]\n",
      "     126 Players in round 18 [0.0439]\n",
      "     108 Players in round 19 [0.0473]\n",
      "     108 Players in round 20 [0.0514]\n",
      "     108 Players in round 21 [0.0556]\n",
      "     108 Players in round 22 [0.0602]\n",
      "     108 Players in round 23 [0.0655]\n",
      "     108 Players in round 24 [0.0701]\n",
      "     108 Players in round 25 [0.0741]\n",
      "     108 Players in round 26 [0.0783]\n",
      "     108 Players in round 27 [0.0832]\n",
      "     108 Players in round 28 [0.0880]\n",
      "     108 Players in round 29 [0.0922]\n",
      "     126 Players in round 30 [0.0970]\n",
      "     108 Players in round 31 [0.1021]\n",
      "     108 Players in round 32 [0.1072]\n",
      "     126 Players in round 33 [0.1128]\n",
      "     108 Players in round 34 [0.1184]\n",
      "     108 Players in round 35 [0.1233]\n",
      "     108 Players in round 36 [0.1280]\n",
      "     108 Players in round 37 [0.1332]\n",
      "     108 Players in round 38 [0.1381]\n",
      "     108 Players in round 39 [0.1435]\n",
      "     108 Players in round 40 [0.1505]\n",
      "     108 Players in round 41 [0.1564]\n",
      "     108 Players in round 42 [0.1632]\n",
      "     108 Players in round 43 [0.1687]\n",
      "     144 Players in round 44 [0.1735]\n",
      "     108 Players in round 45 [0.1786]\n",
      "     108 Players in round 46 [0.1840]\n",
      "     126 Players in round 47 [0.1897]\n",
      "     108 Players in round 48 [0.1948]\n",
      "     108 Players in round 49 [0.1993]\n",
      "     108 Players in round 50 [0.2042]\n",
      "     108 Players in round 51 [0.2090]\n",
      "     108 Players in round 52 [0.2136]\n",
      "     108 Players in round 53 [0.2188]\n",
      "     108 Players in round 54 [0.2244]\n",
      "     108 Players in round 55 [0.2300]\n",
      "     108 Players in round 56 [0.2347]\n",
      "     108 Players in round 57 [0.2405]\n",
      "     108 Players in round 58 [0.2455]\n",
      "     108 Players in round 59 [0.2510]\n",
      "     108 Players in round 60 [0.2555]\n",
      "     108 Players in round 61 [0.2608]\n",
      "     108 Players in round 62 [0.2659]\n",
      "     108 Players in round 63 [0.2700]\n",
      "     108 Players in round 64 [0.2757]\n",
      "     108 Players in round 65 [0.2808]\n",
      "     108 Players in round 66 [0.2864]\n",
      "     108 Players in round 67 [0.2933]\n",
      "     108 Players in round 68 [0.2978]\n",
      "     108 Players in round 69 [0.3028]\n",
      "     108 Players in round 70 [0.3067]\n",
      "     108 Players in round 71 [0.3106]\n",
      "     108 Players in round 72 [0.3144]\n",
      "     108 Players in round 73 [0.3188]\n",
      "     126 Players in round 74 [0.3232]\n",
      "     108 Players in round 75 [0.3265]\n",
      "     108 Players in round 76 [0.3297]\n",
      "     108 Players in round 77 [0.3326]\n",
      "     108 Players in round 78 [0.3362]\n",
      "     126 Players in round 79 [0.3394]\n",
      "     108 Players in round 80 [0.3436]\n",
      "     108 Players in round 81 [0.3469]\n",
      "     108 Players in round 82 [0.3501]\n",
      "     108 Players in round 83 [0.3530]\n",
      "     108 Players in round 84 [0.3550]\n",
      "     108 Players in round 85 [0.3574]\n",
      "     108 Players in round 86 [0.3593]\n",
      "     108 Players in round 87 [0.3619]\n",
      "     108 Players in round 88 [0.3638]\n",
      "     108 Players in round 89 [0.3653]\n",
      "     108 Players in round 90 [0.3678]\n",
      "     108 Players in round 91 [0.3705]\n",
      "     108 Players in round 92 [0.3751]\n",
      "     108 Players in round 93 [0.3770]\n",
      "     108 Players in round 94 [0.3786]\n",
      "     108 Players in round 95 [0.3801]\n",
      "     108 Players in round 96 [0.3815]\n",
      "     108 Players in round 97 [0.3824]\n",
      "     108 Players in round 98 [0.3831]\n",
      "     108 Players in round 99 [0.3836]\n",
      "     108 Players in round 100 [0.3846]\n",
      "Done, no sequences can be extended\n",
      "CPU times: user 3min, sys: 294 ms, total: 3min\n",
      "Wall time: 3min\n",
      "[0.38464606181455635, 'FCYLSEVAADPTQRQHCDGNLLPQQGPMAHTVAPHVMWRCTCNAYAGNDDSAAPEEVGRWENALLPGCPQELVNAREYQDEMGHGEQHSDSLVVAPAVFL']\n",
      "1 Candidate residues with 0.38464606181455635 matches\n",
      "MALWMRLLPLLALLALWGPDPAAAFVNQHLCGSHLVEALYLVCGERGFFYTPKTRREAEDLQGSLQPLALEGSLQKRGIVEQCCTSICSLYQLENYCN False\n"
     ]
    }
   ],
   "source": [
    "Insulin = \"MALWMRLLPLLALLALWGPDPAAAFVNQHLCGSHLVEALYLVCGERGFFYTPKTRREAEDLQGSLQPLALEGSLQKRGIVEQCCTSICSLYQLENYCN\"\n",
    "spectrum = TheoreticalSpectrum(Insulin)\n",
    "print(len(spectrum))\n",
    "missingMass = random.sample(spectrum[:-1], 50)\n",
    "experimentalSpectrum = sorted([mass for mass in spectrum if mass not in missingMass])\n",
    "print(len(experimentalSpectrum))\n",
    "\n",
    "del Daltons['I']\n",
    "del Daltons['K']\n",
    "\n",
    "%time winners = LeaderboardFindPeptide(experimentalSpectrum, cutThreshold=0.01)\n",
    "print(winners)\n",
    "print(len(winners) - 1, \"Candidate residues with\", winners[0], 'matches')\n",
    "print(Insulin, Insulin in winners)\n",
    "\n",
    "Daltons['I'] = Daltons['L']\n",
    "Daltons['K'] = Daltons['Q']"
   ]
  },
  {
   "cell_type": "markdown",
   "metadata": {},
   "source": [
    "## SPC Diminishes Quickly"
   ]
  },
  {
   "cell_type": "code",
   "execution_count": 13,
   "metadata": {},
   "outputs": [
    {
     "name": "stdout",
     "output_type": "stream",
     "text": [
      "[97, 101, 113, 114, 129, 156, 227, 230, 242, 253, 257, 343, 354, 356, 386, 457, 483, 499, 596, 613, 710]\n",
      "[97, 101, 114, 129, 156, 163, 230, 253, 257, 277, 292, 354, 386, 393, 406, 483, 507, 549, 646, 663, 760]\n",
      "[97, 101, 114, 129, 163, 186, 230, 277, 283, 287, 292, 384, 393, 406, 416, 507, 513, 579, 676, 693, 790]\n",
      "{129, 386, 257, 97, 354, 483, 101, 230, 114, 156, 253}\n",
      "{129, 97, 101, 230, 114}\n"
     ]
    }
   ],
   "source": [
    "print(TheoreticalSpectrum('PRTEIN'))\n",
    "print(TheoreticalSpectrum('PRTEYN'))\n",
    "print(TheoreticalSpectrum('PWTEYN'))\n",
    "\n",
    "print(set(TheoreticalSpectrum('PRTEIN')) & set(TheoreticalSpectrum('PRTEYN')))\n",
    "print(set(TheoreticalSpectrum('PRTEIN')) & set(TheoreticalSpectrum('PWTEYN')))"
   ]
  },
  {
   "cell_type": "code",
   "execution_count": 14,
   "metadata": {},
   "outputs": [],
   "source": [
    "import numpy\n",
    "import matplotlib\n",
    "import matplotlib.pyplot as plot\n",
    "%matplotlib inline\n",
    "import random\n",
    "random.seed(1961)\n",
    "\n",
    "def SpectralConvolution(peptide1, peptide2):\n",
    "    spectrum1 = TheoreticalSpectrum(peptide1)\n",
    "    spectrum2 = TheoreticalSpectrum(peptide2)\n",
    "    N = len(spectrum1)\n",
    "    M = len(spectrum2)\n",
    "    repeat = {}\n",
    "\n",
    "    matplotlib.rc('ytick', labelsize=6)\n",
    "    matplotlib.rc('xtick', labelsize=6)\n",
    "    fig = plot.figure(figsize=(6,6))\n",
    "    ax = plot.gca()\n",
    "    plot.axis([0, N+1, 0, M+1])\n",
    "    for i in range(len(spectrum1)):\n",
    "        for j in range(len(spectrum2)):\n",
    "            delta = spectrum2[j]-spectrum1[i]\n",
    "            if (delta == 0):\n",
    "                circle = plot.Circle((i+1, j+1), 0.4, color='r')\n",
    "                ax.add_artist(circle)\n",
    "            else:\n",
    "                repeat[delta] = repeat.get(delta,[]) + [(i+1,j+1)]\n",
    "            plot.text(i+1,j+1,str(delta), fontsize=6, ha=\"center\", va=\"center\")\n",
    "\n",
    "    for delta, coordList in repeat.items():\n",
    "        R = len(coordList)\n",
    "        if (R < 2):\n",
    "            continue\n",
    "        if (R == 2):\n",
    "            cval = 'k'\n",
    "            for x, y in coordList:\n",
    "                box = plot.Rectangle((x-0.4,y-0.4), 0.8, 0.8, color=cval, fill=False)\n",
    "                ax.add_artist(box)\n",
    "        else:\n",
    "            cval = '#%02x%02x%02x' % (random.randint(64,255),random.randint(64,255),random.randint(64,255))\n",
    "            for x, y in coordList:\n",
    "                box = plot.Rectangle((x-0.4,y-0.4), 0.8, 0.8, color=cval)\n",
    "                ax.add_artist(box)\n",
    "\n",
    "    plot.xticks(range(1,N+1), [str(peak) for peak in spectrum1])\n",
    "    plot.yticks(range(1,M+1), [str(peak) for peak in spectrum2])\n",
    "    plot.xlabel(peptide1)\n",
    "    plot.ylabel(peptide2)"
   ]
  },
  {
   "cell_type": "code",
   "execution_count": 15,
   "metadata": {},
   "outputs": [
    {
     "data": {
      "image/png": "[encoded data removed]",
      "text/plain": [
       "<Figure size 432x432 with 1 Axes>"
      ]
     },
     "metadata": {},
     "output_type": "display_data"
    }
   ],
   "source": [
    "SpectralConvolution('PRTEIN', 'PRTEYN')"
   ]
  },
  {
   "cell_type": "code",
   "execution_count": 16,
   "metadata": {},
   "outputs": [
    {
     "data": {
      "image/png": "[encoded data removed]",
      "text/plain": [
       "<Figure size 432x432 with 1 Axes>"
      ]
     },
     "metadata": {},
     "output_type": "display_data"
    }
   ],
   "source": [
    "SpectralConvolution('PRTEIN', 'PWTEYN')"
   ]
  },
  {
   "cell_type": "code",
   "execution_count": null,
   "metadata": {},
   "outputs": [],
   "source": []
  }
 ],
 "metadata": {
  "kernelspec": {
   "display_name": "Python 3",
   "language": "python",
   "name": "python3"
  },
  "language_info": {
   "codemirror_mode": {
    "name": "ipython",
    "version": 3
   },
   "file_extension": ".py",
   "mimetype": "text/x-python",
   "name": "python",
   "nbconvert_exporter": "python",
   "pygments_lexer": "ipython3",
   "version": "3.7.4"
  }
 },
 "nbformat": 4,
 "nbformat_minor": 2
}
